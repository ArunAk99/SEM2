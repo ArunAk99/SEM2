{
 "cells": [
  {
   "cell_type": "markdown",
   "metadata": {},
   "source": [
    "#### DS205229119"
   ]
  },
  {
   "cell_type": "markdown",
   "metadata": {
    "id": "Jj3KRRLw3yzz"
   },
   "source": [
    "#### Lab3. Computing Document Similarity using VSM \n",
    "#### EXERCISE-1: Print TFIDF values "
   ]
  },
  {
   "cell_type": "code",
   "execution_count": 1,
   "metadata": {
    "id": "FI0ssQ4_3ww6"
   },
   "outputs": [],
   "source": [
    "from sklearn.feature_extraction.text import TfidfVectorizer"
   ]
  },
  {
   "cell_type": "code",
   "execution_count": 2,
   "metadata": {
    "id": "Aijkhju5svKa"
   },
   "outputs": [],
   "source": [
    "import pandas as pd"
   ]
  },
  {
   "cell_type": "code",
   "execution_count": 3,
   "metadata": {
    "id": "YYmeayoTs1qv"
   },
   "outputs": [],
   "source": [
    "docs = [\"good movie\", \"not a good movie\", \"did not like\", \"i like it\", \"good one\" ] "
   ]
  },
  {
   "cell_type": "code",
   "execution_count": 4,
   "metadata": {
    "colab": {
     "base_uri": "https://localhost:8080/"
    },
    "id": "JtmRGaIBtDwn",
    "outputId": "5e17ff83-d41d-4d5b-9811-dadbf447f773"
   },
   "outputs": [
    {
     "name": "stdout",
     "output_type": "stream",
     "text": [
      "  (0, 0)\t0.7071067811865476\n",
      "  (0, 2)\t0.7071067811865476\n",
      "  (1, 3)\t0.5773502691896257\n",
      "  (1, 0)\t0.5773502691896257\n",
      "  (1, 2)\t0.5773502691896257\n",
      "  (2, 1)\t0.7071067811865476\n",
      "  (2, 3)\t0.7071067811865476\n",
      "  (3, 1)\t1.0\n"
     ]
    }
   ],
   "source": [
    "tfidf = TfidfVectorizer(min_df=2, max_df=0.5, ngram_range=(1, 2))\n",
    "features = tfidf.fit_transform(docs)\n",
    "print(features)\n"
   ]
  },
  {
   "cell_type": "code",
   "execution_count": 5,
   "metadata": {
    "colab": {
     "base_uri": "https://localhost:8080/"
    },
    "id": "GoUFs6OQtNvX",
    "outputId": "aad2c004-9589-469a-ffe6-3304beeb935e"
   },
   "outputs": [
    {
     "name": "stdout",
     "output_type": "stream",
     "text": [
      "   good movie      like     movie       not\n",
      "0    0.707107  0.000000  0.707107  0.000000\n",
      "1    0.577350  0.000000  0.577350  0.577350\n",
      "2    0.000000  0.707107  0.000000  0.707107\n",
      "3    0.000000  1.000000  0.000000  0.000000\n",
      "4    0.000000  0.000000  0.000000  0.000000\n"
     ]
    }
   ],
   "source": [
    "df = pd.DataFrame(\n",
    " features.todense(),\n",
    " columns=tfidf.get_feature_names())\n",
    "print(df) "
   ]
  },
  {
   "cell_type": "markdown",
   "metadata": {
    "id": "sFJ8Pbfq4XZE"
   },
   "source": [
    "#### EXERCISE-2:\n",
    "#### 1. Change the values of min_df and ngram_range and observe various outputs "
   ]
  },
  {
   "cell_type": "code",
   "execution_count": 6,
   "metadata": {
    "colab": {
     "base_uri": "https://localhost:8080/"
    },
    "id": "1KcPbpKvtUyU",
    "outputId": "5476bed2-3ebd-4d96-c3c4-e7d76fc661ed"
   },
   "outputs": [
    {
     "name": "stdout",
     "output_type": "stream",
     "text": [
      "  (0, 3)\t0.6098184563533858\n",
      "  (0, 8)\t0.6098184563533858\n",
      "  (0, 2)\t0.5062044059286201\n",
      "  (1, 10)\t0.5422255279709232\n",
      "  (1, 9)\t0.4374641418373903\n",
      "  (1, 3)\t0.4374641418373903\n",
      "  (1, 8)\t0.4374641418373903\n",
      "  (1, 2)\t0.36313475547801904\n",
      "  (2, 11)\t0.4821401170833009\n",
      "  (2, 1)\t0.4821401170833009\n",
      "  (2, 6)\t0.3889876106617681\n",
      "  (2, 0)\t0.4821401170833009\n",
      "  (2, 9)\t0.3889876106617681\n",
      "  (3, 7)\t0.6141889663426562\n",
      "  (3, 5)\t0.6141889663426562\n",
      "  (3, 6)\t0.49552379079705033\n",
      "  (4, 4)\t0.6390704413963749\n",
      "  (4, 12)\t0.6390704413963749\n",
      "  (4, 2)\t0.42799292268317357\n"
     ]
    }
   ],
   "source": [
    "tfidf = TfidfVectorizer(min_df=1, max_df=0.6, ngram_range=(1, 2))\n",
    "features = tfidf.fit_transform(docs)\n",
    "print(features)"
   ]
  },
  {
   "cell_type": "code",
   "execution_count": 7,
   "metadata": {
    "colab": {
     "base_uri": "https://localhost:8080/"
    },
    "id": "hvrNeG7zuTHx",
    "outputId": "96977148-2853-4e33-b8b3-d3c264b8b1d8"
   },
   "outputs": [
    {
     "name": "stdout",
     "output_type": "stream",
     "text": [
      "       did  did not      good  good movie  good one        it      like  \\\n",
      "0  0.00000  0.00000  0.506204    0.609818   0.00000  0.000000  0.000000   \n",
      "1  0.00000  0.00000  0.363135    0.437464   0.00000  0.000000  0.000000   \n",
      "2  0.48214  0.48214  0.000000    0.000000   0.00000  0.000000  0.388988   \n",
      "3  0.00000  0.00000  0.000000    0.000000   0.00000  0.614189  0.495524   \n",
      "4  0.00000  0.00000  0.427993    0.000000   0.63907  0.000000  0.000000   \n",
      "\n",
      "    like it     movie       not  not good  not like      one  \n",
      "0  0.000000  0.609818  0.000000  0.000000   0.00000  0.00000  \n",
      "1  0.000000  0.437464  0.437464  0.542226   0.00000  0.00000  \n",
      "2  0.000000  0.000000  0.388988  0.000000   0.48214  0.00000  \n",
      "3  0.614189  0.000000  0.000000  0.000000   0.00000  0.00000  \n",
      "4  0.000000  0.000000  0.000000  0.000000   0.00000  0.63907  \n"
     ]
    }
   ],
   "source": [
    "df = pd.DataFrame(\n",
    " features.todense(),\n",
    " columns=tfidf.get_feature_names())\n",
    "print(df)"
   ]
  },
  {
   "cell_type": "markdown",
   "metadata": {
    "id": "Tkjc_vkV4ja7"
   },
   "source": [
    "#### EXERCISE-3: Compute Cosine Similarity between 2 Documents"
   ]
  },
  {
   "cell_type": "code",
   "execution_count": 8,
   "metadata": {
    "id": "SWrklYs5ujBn"
   },
   "outputs": [],
   "source": [
    "from sklearn.metrics.pairwise import linear_kernel\n"
   ]
  },
  {
   "cell_type": "code",
   "execution_count": 9,
   "metadata": {
    "colab": {
     "base_uri": "https://localhost:8080/"
    },
    "id": "ozKc1gbMvfoN",
    "outputId": "659117ec-8f79-4dc4-86e3-6255bae72173"
   },
   "outputs": [
    {
     "name": "stdout",
     "output_type": "stream",
     "text": [
      "[[0.71736783]]\n"
     ]
    }
   ],
   "source": [
    "doc1 = features[0:1]\n",
    "doc2 = features[1:2]\n",
    "score = linear_kernel(doc1, doc2)\n",
    "print(score)"
   ]
  },
  {
   "cell_type": "code",
   "execution_count": 10,
   "metadata": {
    "colab": {
     "base_uri": "https://localhost:8080/"
    },
    "id": "5mlrRFuMvx9O",
    "outputId": "a43516a4-5c77-4734-9bac-c1c95aa6dc4c"
   },
   "outputs": [
    {
     "name": "stdout",
     "output_type": "stream",
     "text": [
      "[[1.         0.71736783 0.         0.         0.2166519 ]]\n"
     ]
    }
   ],
   "source": [
    "scores = linear_kernel(doc1, features)\n",
    "print(scores)\n"
   ]
  },
  {
   "cell_type": "code",
   "execution_count": 11,
   "metadata": {
    "colab": {
     "base_uri": "https://localhost:8080/"
    },
    "id": "hEzB7WHCv1Cu",
    "outputId": "178c0d2d-b730-4529-d277-bbfc71e14d9c"
   },
   "outputs": [
    {
     "name": "stdout",
     "output_type": "stream",
     "text": [
      "[[1.         0.71736783 0.         0.         0.2166519 ]]\n"
     ]
    }
   ],
   "source": [
    "query = \"I like this good movie\"\n",
    "qfeature = tfidf.transform([query])\n",
    "scor = linear_kernel(doc1, features)\n",
    "print(scor)"
   ]
  },
  {
   "cell_type": "markdown",
   "metadata": {
    "id": "xJW3d58J7JwR"
   },
   "source": [
    "### EXERCISE-4: Find Top-N similar documents \n",
    "#### Question-1. Consider the following documents and compute TFIDF values "
   ]
  },
  {
   "cell_type": "code",
   "execution_count": 12,
   "metadata": {
    "id": "Yd4Ev6bNv78O"
   },
   "outputs": [],
   "source": [
    "docs=[\"the house had a tiny little mouse\",\n",
    "\"the cat saw the mouse\",\n",
    "\"the mouse ran away from the house\",\n",
    "\"the cat finally ate the mouse\",\n",
    "\"the end of the mouse story\"\n",
    "]"
   ]
  },
  {
   "cell_type": "markdown",
   "metadata": {
    "id": "SARXGnak7YlF"
   },
   "source": [
    "#### Question-2. Compute cosine similarity between 3rd document (“the mouse ran away from the  house”) with all other documents. Which is the most similar document?"
   ]
  },
  {
   "cell_type": "code",
   "execution_count": 13,
   "metadata": {
    "colab": {
     "base_uri": "https://localhost:8080/"
    },
    "id": "UxO334ZG4y0i",
    "outputId": "2cad4d62-b709-4d92-a139-49b90750ed74"
   },
   "outputs": [
    {
     "name": "stdout",
     "output_type": "stream",
     "text": [
      "  (0, 3)\t0.7071067811865476\n",
      "  (0, 1)\t0.7071067811865476\n",
      "  (1, 2)\t0.7071067811865476\n",
      "  (1, 0)\t0.7071067811865476\n",
      "  (2, 3)\t0.7071067811865476\n",
      "  (2, 1)\t0.7071067811865476\n",
      "  (3, 2)\t0.7071067811865476\n",
      "  (3, 0)\t0.7071067811865476\n"
     ]
    }
   ],
   "source": [
    "tfidf = TfidfVectorizer(min_df=2, max_df=0.5, ngram_range=(1, 2))\n",
    "features = tfidf.fit_transform(docs)\n",
    "print(features)\n"
   ]
  },
  {
   "cell_type": "code",
   "execution_count": 14,
   "metadata": {
    "colab": {
     "base_uri": "https://localhost:8080/"
    },
    "id": "bKTJBME55GYX",
    "outputId": "17f2a557-3d23-4d8e-e4ad-cdfdcab246d8"
   },
   "outputs": [
    {
     "name": "stdout",
     "output_type": "stream",
     "text": [
      "[[1. 0. 1. 0. 0.]\n",
      " [0. 1. 0. 1. 0.]\n",
      " [1. 0. 1. 0. 0.]]\n"
     ]
    }
   ],
   "source": [
    "doc1=features[0:3]\n",
    "s=linear_kernel(doc1,features)\n",
    "print(s)"
   ]
  },
  {
   "cell_type": "code",
   "execution_count": 15,
   "metadata": {
    "colab": {
     "base_uri": "https://localhost:8080/"
    },
    "id": "8T5B4Y7u53ea",
    "outputId": "a3142256-5e04-48af-80f4-b8913876d450"
   },
   "outputs": [
    {
     "name": "stdout",
     "output_type": "stream",
     "text": [
      "[[1. 0. 1. 0. 0.]\n",
      " [0. 1. 0. 1. 0.]\n",
      " [1. 0. 1. 0. 0.]]\n"
     ]
    }
   ],
   "source": [
    "scores2 = linear_kernel(doc1, features)\n",
    "print(scores2)\n"
   ]
  }
 ],
 "metadata": {
  "colab": {
   "name": "lab 3 nlp",
   "provenance": []
  },
  "kernelspec": {
   "display_name": "Python 3",
   "language": "python",
   "name": "python3"
  },
  "language_info": {
   "codemirror_mode": {
    "name": "ipython",
    "version": 3
   },
   "file_extension": ".py",
   "mimetype": "text/x-python",
   "name": "python",
   "nbconvert_exporter": "python",
   "pygments_lexer": "ipython3",
   "version": "3.8.8"
  }
 },
 "nbformat": 4,
 "nbformat_minor": 1
}
