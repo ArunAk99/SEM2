{
 "cells": [
  {
   "cell_type": "markdown",
   "metadata": {},
   "source": [
    "###### DS205229119\n",
    "###### Maheshvaran S"
   ]
  },
  {
   "cell_type": "code",
   "execution_count": 4,
   "metadata": {
    "id": "5qfhdUf-x6pu"
   },
   "outputs": [],
   "source": [
    "import nltk\n",
    "import gensim\n",
    "from gensim.models.doc2vec import Doc2Vec, TaggedDocument\n",
    "from nltk.tokenize import word_tokenize\n",
    "from sklearn import utils"
   ]
  },
  {
   "cell_type": "markdown",
   "metadata": {
    "id": "jgoo7rqI6IRf"
   },
   "source": [
    "### 2. Create dataset "
   ]
  },
  {
   "cell_type": "code",
   "execution_count": 5,
   "metadata": {
    "id": "fIi4h3iFyTew"
   },
   "outputs": [],
   "source": [
    "data = [\"I love machine learning. Its awesome.\",\n",
    " \"I love coding in python\",\n",
    " \"I love building chatbots\",\n",
    " \"they chat amagingly well\"]"
   ]
  },
  {
   "cell_type": "code",
   "execution_count": null,
   "metadata": {
    "colab": {
     "base_uri": "https://localhost:8080/"
    },
    "id": "Cs2eVjxezgZ8",
    "outputId": "99b39f77-554d-4eeb-dc4c-04b43385ec66"
   },
   "outputs": [],
   "source": [
    "import nltk\n",
    "nltk.download('punkt')"
   ]
  },
  {
   "cell_type": "markdown",
   "metadata": {
    "id": "gkWuAdXJ6RCI"
   },
   "source": [
    "### 3. Create TaggedDocument "
   ]
  },
  {
   "cell_type": "code",
   "execution_count": 6,
   "metadata": {
    "id": "ecouUdGQzDef"
   },
   "outputs": [],
   "source": [
    "tagged_data = [TaggedDocument(words=word_tokenize(d.lower()), \n",
    "tags=[str(i)]) for i, d in enumerate(data)]"
   ]
  },
  {
   "cell_type": "markdown",
   "metadata": {
    "id": "mPLZ2-sY6UK2"
   },
   "source": [
    "### 4. Train Model"
   ]
  },
  {
   "cell_type": "code",
   "execution_count": 7,
   "metadata": {
    "id": "m1MbYRjczk9u"
   },
   "outputs": [],
   "source": [
    "vec_size = 20\n",
    "alpha = 0.025"
   ]
  },
  {
   "cell_type": "code",
   "execution_count": 8,
   "metadata": {
    "colab": {
     "base_uri": "https://localhost:8080/"
    },
    "id": "HW8UVLkbz7SJ",
    "outputId": "56bb4800-6844-44b1-d8e8-078fb0667fa9"
   },
   "outputs": [
    {
     "name": "stdout",
     "output_type": "stream",
     "text": [
      "Model Saved\n"
     ]
    }
   ],
   "source": [
    "model = Doc2Vec(vector_size=vec_size,\n",
    " alpha=alpha, \n",
    " min_alpha=0.00025,\n",
    " min_count=1,\n",
    " dm =1)\n",
    "# build vocabulary\n",
    "model.build_vocab(tagged_data)\n",
    "# shuffle data\n",
    "tagged_data = utils.shuffle(tagged_data)\n",
    "# train Doc2Vec model\n",
    "model.train(tagged_data,\n",
    " total_examples=model.corpus_count,\n",
    " epochs=30)\n",
    "model.save(\"d2v.model\")\n",
    "print(\"Model Saved\")"
   ]
  },
  {
   "cell_type": "markdown",
   "metadata": {
    "id": "QBrLIMpS6aMY"
   },
   "source": [
    "### 5. Find Similar documents for the given document "
   ]
  },
  {
   "cell_type": "code",
   "execution_count": 9,
   "metadata": {
    "colab": {
     "base_uri": "https://localhost:8080/"
    },
    "id": "GPJfIOYu0HFB",
    "outputId": "13ccb7d6-5cf1-438d-cb13-95120cb578f0"
   },
   "outputs": [
    {
     "name": "stdout",
     "output_type": "stream",
     "text": [
      "V1_infer [ 0.02035407  0.00474421 -0.02290787  0.02168151  0.0114198   0.00115184\n",
      " -0.01488954 -0.01616283  0.01447039 -0.00624103 -0.01796353  0.00070225\n",
      " -0.02000182  0.00306072  0.01169192  0.01726775  0.02236292 -0.00567071\n",
      "  0.01629645 -0.01222936]\n"
     ]
    }
   ],
   "source": [
    "from gensim.models.doc2vec import Doc2Vec\n",
    "model= Doc2Vec.load(\"d2v.model\")\n",
    "#to find the vector of a document which is not in training data\n",
    "test_data = word_tokenize(\"I love chatbots\".lower())\n",
    "v1 = model.infer_vector(test_data)\n",
    "print(\"V1_infer\", v1)"
   ]
  },
  {
   "cell_type": "code",
   "execution_count": 10,
   "metadata": {
    "colab": {
     "base_uri": "https://localhost:8080/"
    },
    "id": "-udHykqd0VfK",
    "outputId": "c7a85e49-04f3-4819-d052-daa073aa2cb3"
   },
   "outputs": [
    {
     "name": "stdout",
     "output_type": "stream",
     "text": [
      "[('2', 0.037165578454732895), ('3', -0.1133609190583229), ('0', -0.12413696944713593)]\n"
     ]
    }
   ],
   "source": [
    "similar_doc = model.docvecs.most_similar('1')\n",
    "print(similar_doc)"
   ]
  },
  {
   "cell_type": "code",
   "execution_count": 11,
   "metadata": {
    "colab": {
     "base_uri": "https://localhost:8080/"
    },
    "id": "cVR94aCK0d_J",
    "outputId": "1c4e768a-c766-40db-c33e-c3d8c90f0e09"
   },
   "outputs": [
    {
     "name": "stdout",
     "output_type": "stream",
     "text": [
      "[-0.00753887 -0.00615568  0.00638515 -0.00631499  0.0140949  -0.02438679\n",
      " -0.00446365  0.002786   -0.00616348 -0.00484334  0.0137792  -0.00466569\n",
      " -0.01888363 -0.00306581  0.01624853  0.0110884  -0.00666777  0.01563827\n",
      " -0.01193973 -0.02011099]\n"
     ]
    }
   ],
   "source": [
    "print(model.docvecs['1'])"
   ]
  },
  {
   "cell_type": "markdown",
   "metadata": {
    "id": "bQuE6MF_6fmH"
   },
   "source": [
    "### EXERCISE-2 \n",
    "### Question1. Train the following documents using Doc2Vec model "
   ]
  },
  {
   "cell_type": "code",
   "execution_count": 12,
   "metadata": {
    "id": "-qTDrW121CUB"
   },
   "outputs": [],
   "source": [
    "docs=[\"the house had a tiny little mouse\",\n",
    "\"the cat saw the mouse\",\n",
    "\"the mouse ran away from the house\",\n",
    "\"the cat finally ate the mouse\",\n",
    "\"the end of the mouse story\"\n",
    "]"
   ]
  },
  {
   "cell_type": "code",
   "execution_count": 13,
   "metadata": {
    "id": "XXoZ_aCB1Rmh"
   },
   "outputs": [],
   "source": [
    "tagged_data = [TaggedDocument(words=word_tokenize(d.lower()), \n",
    "tags=[str(i)]) for i, d in enumerate(docs)]"
   ]
  },
  {
   "cell_type": "code",
   "execution_count": 14,
   "metadata": {
    "id": "oJIh1uEE1abA"
   },
   "outputs": [],
   "source": [
    "vec_size = 20\n",
    "alpha = 0.025\n",
    "# create model\n",
    "model = Doc2Vec(vector_size=vec_size, alpha=alpha, min_alpha=0.00025,min_count=1,dm =1)"
   ]
  },
  {
   "cell_type": "code",
   "execution_count": 15,
   "metadata": {
    "id": "nvwajetm1mD4"
   },
   "outputs": [],
   "source": [
    "model.build_vocab(tagged_data)"
   ]
  },
  {
   "cell_type": "code",
   "execution_count": 16,
   "metadata": {
    "id": "rl5t9Ej52xBV"
   },
   "outputs": [],
   "source": [
    "tagged_data = utils.shuffle(tagged_data)"
   ]
  },
  {
   "cell_type": "code",
   "execution_count": 17,
   "metadata": {
    "colab": {
     "base_uri": "https://localhost:8080/"
    },
    "id": "Hz8e9P4O2zDN",
    "outputId": "f10436f9-f78b-4fe5-9e7d-b30e18355e65"
   },
   "outputs": [
    {
     "name": "stdout",
     "output_type": "stream",
     "text": [
      "Model Saved\n"
     ]
    }
   ],
   "source": [
    "model.train(tagged_data,total_examples=model.corpus_count,epochs=30)\n",
    "model.save(\"d2v.model\")\n",
    "print(\"Model Saved\")"
   ]
  },
  {
   "cell_type": "markdown",
   "metadata": {
    "id": "qG3NineJ6mPv"
   },
   "source": [
    "### Question2. Find the most similar TWO documents for the query document “cat stayed in the house”.\n"
   ]
  },
  {
   "cell_type": "code",
   "execution_count": 19,
   "metadata": {
    "id": "EEjd9-uq25e8"
   },
   "outputs": [],
   "source": [
    "from gensim.models.doc2vec import Doc2Vec\n",
    "model= Doc2Vec.load(\"d2v.model\")"
   ]
  },
  {
   "cell_type": "code",
   "execution_count": 20,
   "metadata": {
    "colab": {
     "base_uri": "https://localhost:8080/"
    },
    "id": "EW9SpSnW5ANR",
    "outputId": "6f8e0ad2-3c97-4858-d989-cca6815069a2"
   },
   "outputs": [
    {
     "name": "stdout",
     "output_type": "stream",
     "text": [
      "V1_infer [-4.1479443e-06  1.4340522e-02  1.2322022e-02  7.1956371e-03\n",
      " -5.7296394e-03 -1.1400167e-02  1.1736420e-02  4.6392782e-03\n",
      "  7.2464258e-03 -2.1837447e-02 -1.8437430e-02 -1.4283573e-02\n",
      " -1.0593099e-02  1.3399309e-02  2.9997169e-03 -2.4497163e-02\n",
      "  1.1735671e-02  2.4132693e-02 -1.9789839e-02  1.4176045e-02]\n"
     ]
    }
   ],
   "source": [
    "test_data = word_tokenize(\"cat stayed in the house\".lower())\n",
    "v1 = model.infer_vector(test_data)\n",
    "print(\"V1_infer\", v1)"
   ]
  },
  {
   "cell_type": "code",
   "execution_count": 21,
   "metadata": {
    "colab": {
     "base_uri": "https://localhost:8080/"
    },
    "id": "inA4xvk63OCR",
    "outputId": "d1b9551b-0d3d-4a1c-b79e-ebae05b7ee4d"
   },
   "outputs": [
    {
     "name": "stdout",
     "output_type": "stream",
     "text": [
      "[('1', 0.040556468069553375), ('0', -0.10961735248565674), ('4', -0.21122407913208008), ('3', -0.3478320837020874)]\n"
     ]
    }
   ],
   "source": [
    "similar_doc = model.docvecs.most_similar('2')\n",
    "print(similar_doc)"
   ]
  }
 ],
 "metadata": {
  "colab": {
   "collapsed_sections": [],
   "name": "lab 4 nlp",
   "provenance": []
  },
  "kernelspec": {
   "display_name": "Python 3",
   "language": "python",
   "name": "python3"
  },
  "language_info": {
   "codemirror_mode": {
    "name": "ipython",
    "version": 3
   },
   "file_extension": ".py",
   "mimetype": "text/x-python",
   "name": "python",
   "nbconvert_exporter": "python",
   "pygments_lexer": "ipython3",
   "version": "3.8.8"
  }
 },
 "nbformat": 4,
 "nbformat_minor": 1
}
