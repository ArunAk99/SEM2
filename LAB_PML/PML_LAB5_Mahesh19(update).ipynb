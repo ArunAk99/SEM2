{
 "cells": [
  {
   "cell_type": "markdown",
   "id": "lasting-mining",
   "metadata": {},
   "source": [
    "###### Maheshvaran S\n",
    "###### 205229119"
   ]
  },
  {
   "cell_type": "markdown",
   "id": "killing-jason",
   "metadata": {},
   "source": [
    "##### Lab5. Diabetes Classification using Logistic Regression \n",
    "##### Step1. [Understand Data]. Using Pandas, import “diabetes.csv” file and print properties such as head, shape, columns, dtype, info and value_counts"
   ]
  },
  {
   "cell_type": "code",
   "execution_count": 2,
   "id": "internal-divorce",
   "metadata": {},
   "outputs": [
    {
     "data": {
      "text/html": [
       "<div>\n",
       "<style scoped>\n",
       "    .dataframe tbody tr th:only-of-type {\n",
       "        vertical-align: middle;\n",
       "    }\n",
       "\n",
       "    .dataframe tbody tr th {\n",
       "        vertical-align: top;\n",
       "    }\n",
       "\n",
       "    .dataframe thead th {\n",
       "        text-align: right;\n",
       "    }\n",
       "</style>\n",
       "<table border=\"1\" class=\"dataframe\">\n",
       "  <thead>\n",
       "    <tr style=\"text-align: right;\">\n",
       "      <th></th>\n",
       "      <th>Pregnancies</th>\n",
       "      <th>Glucose</th>\n",
       "      <th>BloodPressure</th>\n",
       "      <th>SkinThickness</th>\n",
       "      <th>Insulin</th>\n",
       "      <th>BMI</th>\n",
       "      <th>DiabetesPedigreeFunction</th>\n",
       "      <th>Age</th>\n",
       "      <th>Outcome</th>\n",
       "    </tr>\n",
       "  </thead>\n",
       "  <tbody>\n",
       "    <tr>\n",
       "      <th>0</th>\n",
       "      <td>6</td>\n",
       "      <td>148</td>\n",
       "      <td>72</td>\n",
       "      <td>35</td>\n",
       "      <td>0</td>\n",
       "      <td>33.6</td>\n",
       "      <td>0.627</td>\n",
       "      <td>50</td>\n",
       "      <td>1</td>\n",
       "    </tr>\n",
       "    <tr>\n",
       "      <th>1</th>\n",
       "      <td>1</td>\n",
       "      <td>85</td>\n",
       "      <td>66</td>\n",
       "      <td>29</td>\n",
       "      <td>0</td>\n",
       "      <td>26.6</td>\n",
       "      <td>0.351</td>\n",
       "      <td>31</td>\n",
       "      <td>0</td>\n",
       "    </tr>\n",
       "    <tr>\n",
       "      <th>2</th>\n",
       "      <td>8</td>\n",
       "      <td>183</td>\n",
       "      <td>64</td>\n",
       "      <td>0</td>\n",
       "      <td>0</td>\n",
       "      <td>23.3</td>\n",
       "      <td>0.672</td>\n",
       "      <td>32</td>\n",
       "      <td>1</td>\n",
       "    </tr>\n",
       "    <tr>\n",
       "      <th>3</th>\n",
       "      <td>1</td>\n",
       "      <td>89</td>\n",
       "      <td>66</td>\n",
       "      <td>23</td>\n",
       "      <td>94</td>\n",
       "      <td>28.1</td>\n",
       "      <td>0.167</td>\n",
       "      <td>21</td>\n",
       "      <td>0</td>\n",
       "    </tr>\n",
       "    <tr>\n",
       "      <th>4</th>\n",
       "      <td>0</td>\n",
       "      <td>137</td>\n",
       "      <td>40</td>\n",
       "      <td>35</td>\n",
       "      <td>168</td>\n",
       "      <td>43.1</td>\n",
       "      <td>2.288</td>\n",
       "      <td>33</td>\n",
       "      <td>1</td>\n",
       "    </tr>\n",
       "  </tbody>\n",
       "</table>\n",
       "</div>"
      ],
      "text/plain": [
       "   Pregnancies  Glucose  BloodPressure  SkinThickness  Insulin   BMI  \\\n",
       "0            6      148             72             35        0  33.6   \n",
       "1            1       85             66             29        0  26.6   \n",
       "2            8      183             64              0        0  23.3   \n",
       "3            1       89             66             23       94  28.1   \n",
       "4            0      137             40             35      168  43.1   \n",
       "\n",
       "   DiabetesPedigreeFunction  Age  Outcome  \n",
       "0                     0.627   50        1  \n",
       "1                     0.351   31        0  \n",
       "2                     0.672   32        1  \n",
       "3                     0.167   21        0  \n",
       "4                     2.288   33        1  "
      ]
     },
     "execution_count": 2,
     "metadata": {},
     "output_type": "execute_result"
    }
   ],
   "source": [
    "import pandas as pd \n",
    "data = pd.read_csv('diabetes.csv')\n",
    "data.head()"
   ]
  },
  {
   "cell_type": "code",
   "execution_count": 3,
   "id": "adolescent-operations",
   "metadata": {},
   "outputs": [
    {
     "data": {
      "text/plain": [
       "(768, 9)"
      ]
     },
     "execution_count": 3,
     "metadata": {},
     "output_type": "execute_result"
    }
   ],
   "source": [
    "data.shape"
   ]
  },
  {
   "cell_type": "code",
   "execution_count": 4,
   "id": "vocational-facility",
   "metadata": {},
   "outputs": [
    {
     "data": {
      "text/plain": [
       "Index(['Pregnancies', 'Glucose', 'BloodPressure', 'SkinThickness', 'Insulin',\n",
       "       'BMI', 'DiabetesPedigreeFunction', 'Age', 'Outcome'],\n",
       "      dtype='object')"
      ]
     },
     "execution_count": 4,
     "metadata": {},
     "output_type": "execute_result"
    }
   ],
   "source": [
    "data.columns"
   ]
  },
  {
   "cell_type": "code",
   "execution_count": 5,
   "id": "attached-victoria",
   "metadata": {},
   "outputs": [
    {
     "data": {
      "text/plain": [
       "Pregnancies                   int64\n",
       "Glucose                       int64\n",
       "BloodPressure                 int64\n",
       "SkinThickness                 int64\n",
       "Insulin                       int64\n",
       "BMI                         float64\n",
       "DiabetesPedigreeFunction    float64\n",
       "Age                           int64\n",
       "Outcome                       int64\n",
       "dtype: object"
      ]
     },
     "execution_count": 5,
     "metadata": {},
     "output_type": "execute_result"
    }
   ],
   "source": [
    "data.dtypes"
   ]
  },
  {
   "cell_type": "code",
   "execution_count": 6,
   "id": "supreme-rachel",
   "metadata": {},
   "outputs": [
    {
     "data": {
      "text/plain": [
       "pandas.core.frame.DataFrame"
      ]
     },
     "execution_count": 6,
     "metadata": {},
     "output_type": "execute_result"
    }
   ],
   "source": [
    "type(data)"
   ]
  },
  {
   "cell_type": "code",
   "execution_count": 7,
   "id": "animal-class",
   "metadata": {},
   "outputs": [
    {
     "name": "stdout",
     "output_type": "stream",
     "text": [
      "<class 'pandas.core.frame.DataFrame'>\n",
      "RangeIndex: 768 entries, 0 to 767\n",
      "Data columns (total 9 columns):\n",
      " #   Column                    Non-Null Count  Dtype  \n",
      "---  ------                    --------------  -----  \n",
      " 0   Pregnancies               768 non-null    int64  \n",
      " 1   Glucose                   768 non-null    int64  \n",
      " 2   BloodPressure             768 non-null    int64  \n",
      " 3   SkinThickness             768 non-null    int64  \n",
      " 4   Insulin                   768 non-null    int64  \n",
      " 5   BMI                       768 non-null    float64\n",
      " 6   DiabetesPedigreeFunction  768 non-null    float64\n",
      " 7   Age                       768 non-null    int64  \n",
      " 8   Outcome                   768 non-null    int64  \n",
      "dtypes: float64(2), int64(7)\n",
      "memory usage: 54.1 KB\n"
     ]
    }
   ],
   "source": [
    "data.info()"
   ]
  },
  {
   "cell_type": "code",
   "execution_count": 8,
   "id": "steady-africa",
   "metadata": {},
   "outputs": [
    {
     "data": {
      "text/plain": [
       "Pregnancies  Glucose  BloodPressure  SkinThickness  Insulin  BMI   DiabetesPedigreeFunction  Age  Outcome\n",
       "0            57       60             0              0        21.7  0.735                     67   0          1\n",
       "             67       76             0              0        45.3  0.194                     46   0          1\n",
       "5            103      108            37             0        39.2  0.305                     65   0          1\n",
       "             104      74             0              0        28.8  0.153                     48   0          1\n",
       "             105      72             29             325      36.9  0.159                     28   0          1\n",
       "                                                                                                            ..\n",
       "2            84       50             23             76       30.4  0.968                     21   0          1\n",
       "             85       65             0              0        39.6  0.930                     27   0          1\n",
       "             87       0              23             0        28.9  0.773                     25   0          1\n",
       "                      58             16             52       32.7  0.166                     25   0          1\n",
       "17           163      72             41             114      40.9  0.817                     47   1          1\n",
       "Length: 768, dtype: int64"
      ]
     },
     "execution_count": 8,
     "metadata": {},
     "output_type": "execute_result"
    }
   ],
   "source": [
    "data.value_counts()"
   ]
  },
  {
   "cell_type": "markdown",
   "id": "medieval-september",
   "metadata": {},
   "source": [
    "##### Step2. [Build Logistic Regression Model]\n",
    "##### Prepare X matrix (8 feature columns) and y vector (ie., Outcome column)"
   ]
  },
  {
   "cell_type": "code",
   "execution_count": 9,
   "id": "diagnostic-administration",
   "metadata": {},
   "outputs": [],
   "source": [
    "X=data.drop(\"Outcome\", axis=1)\n",
    "y=data[[\"Outcome\"]]"
   ]
  },
  {
   "cell_type": "code",
   "execution_count": 10,
   "id": "vertical-parameter",
   "metadata": {},
   "outputs": [
    {
     "data": {
      "text/html": [
       "<div>\n",
       "<style scoped>\n",
       "    .dataframe tbody tr th:only-of-type {\n",
       "        vertical-align: middle;\n",
       "    }\n",
       "\n",
       "    .dataframe tbody tr th {\n",
       "        vertical-align: top;\n",
       "    }\n",
       "\n",
       "    .dataframe thead th {\n",
       "        text-align: right;\n",
       "    }\n",
       "</style>\n",
       "<table border=\"1\" class=\"dataframe\">\n",
       "  <thead>\n",
       "    <tr style=\"text-align: right;\">\n",
       "      <th></th>\n",
       "      <th>Pregnancies</th>\n",
       "      <th>Glucose</th>\n",
       "      <th>BloodPressure</th>\n",
       "      <th>SkinThickness</th>\n",
       "      <th>Insulin</th>\n",
       "      <th>BMI</th>\n",
       "      <th>DiabetesPedigreeFunction</th>\n",
       "      <th>Age</th>\n",
       "    </tr>\n",
       "  </thead>\n",
       "  <tbody>\n",
       "    <tr>\n",
       "      <th>0</th>\n",
       "      <td>6</td>\n",
       "      <td>148</td>\n",
       "      <td>72</td>\n",
       "      <td>35</td>\n",
       "      <td>0</td>\n",
       "      <td>33.6</td>\n",
       "      <td>0.627</td>\n",
       "      <td>50</td>\n",
       "    </tr>\n",
       "    <tr>\n",
       "      <th>1</th>\n",
       "      <td>1</td>\n",
       "      <td>85</td>\n",
       "      <td>66</td>\n",
       "      <td>29</td>\n",
       "      <td>0</td>\n",
       "      <td>26.6</td>\n",
       "      <td>0.351</td>\n",
       "      <td>31</td>\n",
       "    </tr>\n",
       "    <tr>\n",
       "      <th>2</th>\n",
       "      <td>8</td>\n",
       "      <td>183</td>\n",
       "      <td>64</td>\n",
       "      <td>0</td>\n",
       "      <td>0</td>\n",
       "      <td>23.3</td>\n",
       "      <td>0.672</td>\n",
       "      <td>32</td>\n",
       "    </tr>\n",
       "    <tr>\n",
       "      <th>3</th>\n",
       "      <td>1</td>\n",
       "      <td>89</td>\n",
       "      <td>66</td>\n",
       "      <td>23</td>\n",
       "      <td>94</td>\n",
       "      <td>28.1</td>\n",
       "      <td>0.167</td>\n",
       "      <td>21</td>\n",
       "    </tr>\n",
       "    <tr>\n",
       "      <th>4</th>\n",
       "      <td>0</td>\n",
       "      <td>137</td>\n",
       "      <td>40</td>\n",
       "      <td>35</td>\n",
       "      <td>168</td>\n",
       "      <td>43.1</td>\n",
       "      <td>2.288</td>\n",
       "      <td>33</td>\n",
       "    </tr>\n",
       "    <tr>\n",
       "      <th>...</th>\n",
       "      <td>...</td>\n",
       "      <td>...</td>\n",
       "      <td>...</td>\n",
       "      <td>...</td>\n",
       "      <td>...</td>\n",
       "      <td>...</td>\n",
       "      <td>...</td>\n",
       "      <td>...</td>\n",
       "    </tr>\n",
       "    <tr>\n",
       "      <th>763</th>\n",
       "      <td>10</td>\n",
       "      <td>101</td>\n",
       "      <td>76</td>\n",
       "      <td>48</td>\n",
       "      <td>180</td>\n",
       "      <td>32.9</td>\n",
       "      <td>0.171</td>\n",
       "      <td>63</td>\n",
       "    </tr>\n",
       "    <tr>\n",
       "      <th>764</th>\n",
       "      <td>2</td>\n",
       "      <td>122</td>\n",
       "      <td>70</td>\n",
       "      <td>27</td>\n",
       "      <td>0</td>\n",
       "      <td>36.8</td>\n",
       "      <td>0.340</td>\n",
       "      <td>27</td>\n",
       "    </tr>\n",
       "    <tr>\n",
       "      <th>765</th>\n",
       "      <td>5</td>\n",
       "      <td>121</td>\n",
       "      <td>72</td>\n",
       "      <td>23</td>\n",
       "      <td>112</td>\n",
       "      <td>26.2</td>\n",
       "      <td>0.245</td>\n",
       "      <td>30</td>\n",
       "    </tr>\n",
       "    <tr>\n",
       "      <th>766</th>\n",
       "      <td>1</td>\n",
       "      <td>126</td>\n",
       "      <td>60</td>\n",
       "      <td>0</td>\n",
       "      <td>0</td>\n",
       "      <td>30.1</td>\n",
       "      <td>0.349</td>\n",
       "      <td>47</td>\n",
       "    </tr>\n",
       "    <tr>\n",
       "      <th>767</th>\n",
       "      <td>1</td>\n",
       "      <td>93</td>\n",
       "      <td>70</td>\n",
       "      <td>31</td>\n",
       "      <td>0</td>\n",
       "      <td>30.4</td>\n",
       "      <td>0.315</td>\n",
       "      <td>23</td>\n",
       "    </tr>\n",
       "  </tbody>\n",
       "</table>\n",
       "<p>768 rows × 8 columns</p>\n",
       "</div>"
      ],
      "text/plain": [
       "     Pregnancies  Glucose  BloodPressure  SkinThickness  Insulin   BMI  \\\n",
       "0              6      148             72             35        0  33.6   \n",
       "1              1       85             66             29        0  26.6   \n",
       "2              8      183             64              0        0  23.3   \n",
       "3              1       89             66             23       94  28.1   \n",
       "4              0      137             40             35      168  43.1   \n",
       "..           ...      ...            ...            ...      ...   ...   \n",
       "763           10      101             76             48      180  32.9   \n",
       "764            2      122             70             27        0  36.8   \n",
       "765            5      121             72             23      112  26.2   \n",
       "766            1      126             60              0        0  30.1   \n",
       "767            1       93             70             31        0  30.4   \n",
       "\n",
       "     DiabetesPedigreeFunction  Age  \n",
       "0                       0.627   50  \n",
       "1                       0.351   31  \n",
       "2                       0.672   32  \n",
       "3                       0.167   21  \n",
       "4                       2.288   33  \n",
       "..                        ...  ...  \n",
       "763                     0.171   63  \n",
       "764                     0.340   27  \n",
       "765                     0.245   30  \n",
       "766                     0.349   47  \n",
       "767                     0.315   23  \n",
       "\n",
       "[768 rows x 8 columns]"
      ]
     },
     "execution_count": 10,
     "metadata": {},
     "output_type": "execute_result"
    }
   ],
   "source": [
    "X"
   ]
  },
  {
   "cell_type": "code",
   "execution_count": 11,
   "id": "separated-employment",
   "metadata": {},
   "outputs": [
    {
     "data": {
      "text/html": [
       "<div>\n",
       "<style scoped>\n",
       "    .dataframe tbody tr th:only-of-type {\n",
       "        vertical-align: middle;\n",
       "    }\n",
       "\n",
       "    .dataframe tbody tr th {\n",
       "        vertical-align: top;\n",
       "    }\n",
       "\n",
       "    .dataframe thead th {\n",
       "        text-align: right;\n",
       "    }\n",
       "</style>\n",
       "<table border=\"1\" class=\"dataframe\">\n",
       "  <thead>\n",
       "    <tr style=\"text-align: right;\">\n",
       "      <th></th>\n",
       "      <th>Outcome</th>\n",
       "    </tr>\n",
       "  </thead>\n",
       "  <tbody>\n",
       "    <tr>\n",
       "      <th>0</th>\n",
       "      <td>1</td>\n",
       "    </tr>\n",
       "    <tr>\n",
       "      <th>1</th>\n",
       "      <td>0</td>\n",
       "    </tr>\n",
       "    <tr>\n",
       "      <th>2</th>\n",
       "      <td>1</td>\n",
       "    </tr>\n",
       "    <tr>\n",
       "      <th>3</th>\n",
       "      <td>0</td>\n",
       "    </tr>\n",
       "    <tr>\n",
       "      <th>4</th>\n",
       "      <td>1</td>\n",
       "    </tr>\n",
       "    <tr>\n",
       "      <th>...</th>\n",
       "      <td>...</td>\n",
       "    </tr>\n",
       "    <tr>\n",
       "      <th>763</th>\n",
       "      <td>0</td>\n",
       "    </tr>\n",
       "    <tr>\n",
       "      <th>764</th>\n",
       "      <td>0</td>\n",
       "    </tr>\n",
       "    <tr>\n",
       "      <th>765</th>\n",
       "      <td>0</td>\n",
       "    </tr>\n",
       "    <tr>\n",
       "      <th>766</th>\n",
       "      <td>1</td>\n",
       "    </tr>\n",
       "    <tr>\n",
       "      <th>767</th>\n",
       "      <td>0</td>\n",
       "    </tr>\n",
       "  </tbody>\n",
       "</table>\n",
       "<p>768 rows × 1 columns</p>\n",
       "</div>"
      ],
      "text/plain": [
       "     Outcome\n",
       "0          1\n",
       "1          0\n",
       "2          1\n",
       "3          0\n",
       "4          1\n",
       "..       ...\n",
       "763        0\n",
       "764        0\n",
       "765        0\n",
       "766        1\n",
       "767        0\n",
       "\n",
       "[768 rows x 1 columns]"
      ]
     },
     "execution_count": 11,
     "metadata": {},
     "output_type": "execute_result"
    }
   ],
   "source": [
    "y"
   ]
  },
  {
   "cell_type": "markdown",
   "id": "hundred-executive",
   "metadata": {},
   "source": [
    "##### Split dataset with stratified shuffle split for training and testing as X_train, X_test, y_train, y_test (use 25% test size)."
   ]
  },
  {
   "cell_type": "code",
   "execution_count": 12,
   "id": "treated-serve",
   "metadata": {},
   "outputs": [],
   "source": [
    "from sklearn.model_selection import StratifiedShuffleSplit"
   ]
  },
  {
   "cell_type": "code",
   "execution_count": 13,
   "id": "robust-advance",
   "metadata": {},
   "outputs": [],
   "source": [
    "StratifiedShuffleSplit()\n",
    "shuffle = StratifiedShuffleSplit(n_splits=4, test_size=0.25,random_state=0)"
   ]
  },
  {
   "cell_type": "code",
   "execution_count": 14,
   "id": "artificial-deposit",
   "metadata": {},
   "outputs": [
    {
     "data": {
      "text/plain": [
       "4"
      ]
     },
     "execution_count": 14,
     "metadata": {},
     "output_type": "execute_result"
    }
   ],
   "source": [
    "shuffle.get_n_splits(X,y)"
   ]
  },
  {
   "cell_type": "markdown",
   "id": "unexpected-pantyhose",
   "metadata": {},
   "source": [
    "##### Create LogisticRegression model, fit on training set and predict on test set"
   ]
  },
  {
   "cell_type": "code",
   "execution_count": 15,
   "id": "above-sport",
   "metadata": {},
   "outputs": [],
   "source": [
    "import warnings\n",
    "warnings.filterwarnings('ignore')"
   ]
  },
  {
   "cell_type": "code",
   "execution_count": 16,
   "id": "medical-absolute",
   "metadata": {},
   "outputs": [],
   "source": [
    "for train, test in shuffle.split(X, y):\n",
    "    X_train, X_test = X.iloc[train], X.iloc[test]\n",
    "    y_train, y_test = y.iloc[train], y.iloc[test]"
   ]
  },
  {
   "cell_type": "code",
   "execution_count": 17,
   "id": "combined-activation",
   "metadata": {},
   "outputs": [],
   "source": [
    "from sklearn.linear_model import LogisticRegression"
   ]
  },
  {
   "cell_type": "code",
   "execution_count": 18,
   "id": "veterinary-logistics",
   "metadata": {},
   "outputs": [],
   "source": [
    "lmodel = LogisticRegression()"
   ]
  },
  {
   "cell_type": "code",
   "execution_count": 19,
   "id": "weird-spoke",
   "metadata": {},
   "outputs": [
    {
     "data": {
      "text/plain": [
       "LogisticRegression()"
      ]
     },
     "execution_count": 19,
     "metadata": {},
     "output_type": "execute_result"
    }
   ],
   "source": [
    "lmodel.fit(X_train,y_train)"
   ]
  },
  {
   "cell_type": "code",
   "execution_count": 20,
   "id": "decent-deputy",
   "metadata": {
    "scrolled": true
   },
   "outputs": [
    {
     "data": {
      "text/plain": [
       "array([0, 0, 1, 1, 0, 1, 1, 0, 0, 1, 0, 0, 1, 1, 0, 0, 0, 1, 0, 0, 0, 0,\n",
       "       0, 0, 0, 1, 0, 1, 0, 0, 1, 0, 0, 0, 0, 0, 0, 0, 0, 0, 0, 1, 0, 1,\n",
       "       1, 0, 1, 0, 1, 0, 0, 0, 1, 0, 0, 1, 0, 0, 0, 1, 0, 0, 1, 0, 0, 0,\n",
       "       0, 0, 0, 0, 0, 0, 0, 1, 1, 0, 0, 0, 0, 1, 1, 0, 0, 0, 0, 0, 1, 0,\n",
       "       1, 0, 0, 0, 0, 0, 0, 0, 0, 0, 0, 0, 0, 0, 0, 0, 1, 0, 1, 0, 0, 1,\n",
       "       0, 0, 0, 1, 1, 0, 0, 0, 0, 0, 1, 0, 0, 1, 1, 0, 0, 0, 0, 0, 0, 0,\n",
       "       1, 0, 1, 1, 1, 1, 0, 0, 0, 1, 0, 0, 1, 0, 0, 0, 1, 1, 0, 0, 0, 0,\n",
       "       0, 1, 0, 0, 0, 1, 0, 0, 0, 1, 0, 0, 0, 1, 0, 1, 0, 0, 1, 0, 0, 0,\n",
       "       0, 1, 1, 1, 0, 1, 1, 0, 0, 0, 0, 0, 1, 0, 0, 0], dtype=int64)"
      ]
     },
     "execution_count": 20,
     "metadata": {},
     "output_type": "execute_result"
    }
   ],
   "source": [
    "y_predict = lmodel.predict(X_test)\n",
    "y_predict"
   ]
  },
  {
   "cell_type": "code",
   "execution_count": 21,
   "id": "modern-discipline",
   "metadata": {},
   "outputs": [
    {
     "data": {
      "text/plain": [
       "0.7899305555555556"
      ]
     },
     "execution_count": 21,
     "metadata": {},
     "output_type": "execute_result"
    }
   ],
   "source": [
    "lmodel.score(X_train,y_train)"
   ]
  },
  {
   "cell_type": "markdown",
   "id": "smart-month",
   "metadata": {},
   "source": [
    "##### Predict on a new sample"
   ]
  },
  {
   "cell_type": "code",
   "execution_count": 22,
   "id": "competent-obligation",
   "metadata": {
    "scrolled": true
   },
   "outputs": [],
   "source": [
    "new_person = [[6, 200, 90, 10, 25, 23.3, 0.672, 42]]"
   ]
  },
  {
   "cell_type": "code",
   "execution_count": 23,
   "id": "tight-contrast",
   "metadata": {},
   "outputs": [
    {
     "name": "stdout",
     "output_type": "stream",
     "text": [
      "[1]\n"
     ]
    }
   ],
   "source": [
    "print(lmodel.predict(new_person))"
   ]
  },
  {
   "cell_type": "markdown",
   "id": "following-disability",
   "metadata": {},
   "source": [
    "##### Step3. [Compute Classification Metrics] "
   ]
  },
  {
   "cell_type": "markdown",
   "id": "legislative-record",
   "metadata": {},
   "source": [
    "###### Precision score"
   ]
  },
  {
   "cell_type": "code",
   "execution_count": 24,
   "id": "pending-experiment",
   "metadata": {},
   "outputs": [
    {
     "name": "stdout",
     "output_type": "stream",
     "text": [
      "0.6727272727272727\n"
     ]
    }
   ],
   "source": [
    "from sklearn.metrics import precision_score\n",
    "print(precision_score(y_test, y_predict))"
   ]
  },
  {
   "cell_type": "markdown",
   "id": "processed-installation",
   "metadata": {},
   "source": [
    "###### Recall score"
   ]
  },
  {
   "cell_type": "code",
   "execution_count": 25,
   "id": "stunning-listing",
   "metadata": {},
   "outputs": [
    {
     "name": "stdout",
     "output_type": "stream",
     "text": [
      "0.5522388059701493\n"
     ]
    }
   ],
   "source": [
    "from sklearn.metrics import recall_score\n",
    "print(recall_score(y_test, y_predict))"
   ]
  },
  {
   "cell_type": "markdown",
   "id": "dying-edward",
   "metadata": {},
   "source": [
    "###### Accuracy score\n",
    "###### Which is 75% Accurate"
   ]
  },
  {
   "cell_type": "code",
   "execution_count": 26,
   "id": "public-birthday",
   "metadata": {},
   "outputs": [],
   "source": [
    "from sklearn.metrics import accuracy_score\n",
    "lor_ascore=accuracy_score(y_test, y_predict)"
   ]
  },
  {
   "cell_type": "code",
   "execution_count": 27,
   "id": "muslim-layer",
   "metadata": {},
   "outputs": [
    {
     "data": {
      "text/plain": [
       "0.75"
      ]
     },
     "execution_count": 27,
     "metadata": {},
     "output_type": "execute_result"
    }
   ],
   "source": [
    "lor_ascore"
   ]
  },
  {
   "cell_type": "markdown",
   "id": "apart-bundle",
   "metadata": {},
   "source": [
    "##### AUC score\n",
    "##### AUC is the percentage of the ROC plot that is underneath the curve:"
   ]
  },
  {
   "cell_type": "code",
   "execution_count": 28,
   "id": "polish-confusion",
   "metadata": {},
   "outputs": [],
   "source": [
    "from sklearn.metrics import roc_auc_score"
   ]
  },
  {
   "cell_type": "code",
   "execution_count": 29,
   "id": "rational-macro",
   "metadata": {},
   "outputs": [
    {
     "name": "stdout",
     "output_type": "stream",
     "text": [
      "0.7041194029850747\n"
     ]
    }
   ],
   "source": [
    "print(roc_auc_score(y_test, y_predict))"
   ]
  },
  {
   "cell_type": "markdown",
   "id": "appreciated-hudson",
   "metadata": {},
   "source": [
    "##### Step4. [Understand Correlation] "
   ]
  },
  {
   "cell_type": "markdown",
   "id": "advised-talent",
   "metadata": {},
   "source": [
    "###### Create confusion matrix between y_test and y_pred and plot confusion matrix values in a  Heatmap. Explain the meaning of the 4 numbers you get. "
   ]
  },
  {
   "cell_type": "code",
   "execution_count": 30,
   "id": "rocky-macintosh",
   "metadata": {},
   "outputs": [
    {
     "data": {
      "text/plain": [
       "array([[107,  18],\n",
       "       [ 30,  37]], dtype=int64)"
      ]
     },
     "execution_count": 30,
     "metadata": {},
     "output_type": "execute_result"
    }
   ],
   "source": [
    "from sklearn.metrics import confusion_matrix\n",
    "cnf_matrix=confusion_matrix(y_test, y_predict)\n",
    "cnf_matrix"
   ]
  },
  {
   "cell_type": "code",
   "execution_count": 31,
   "id": "instant-harris",
   "metadata": {},
   "outputs": [],
   "source": [
    "cf_ac_score = accuracy_score(y_test, y_predict)"
   ]
  },
  {
   "cell_type": "code",
   "execution_count": 32,
   "id": "interesting-syndicate",
   "metadata": {},
   "outputs": [
    {
     "data": {
      "text/plain": [
       "0.75"
      ]
     },
     "execution_count": 32,
     "metadata": {},
     "output_type": "execute_result"
    }
   ],
   "source": [
    "cf_ac_score"
   ]
  },
  {
   "cell_type": "code",
   "execution_count": 33,
   "id": "processed-bunny",
   "metadata": {},
   "outputs": [
    {
     "data": {
      "text/plain": [
       "<AxesSubplot:>"
      ]
     },
     "execution_count": 33,
     "metadata": {},
     "output_type": "execute_result"
    },
    {
     "data": {
      "image/png": "[encoded data removed]",
      "text/plain": [
       "<Figure size 432x288 with 2 Axes>"
      ]
     },
     "metadata": {
      "needs_background": "light"
     },
     "output_type": "display_data"
    }
   ],
   "source": [
    "import seaborn as sns\n",
    "sns.heatmap(confusion_matrix(y_test,y_predict) / len(y), cmap='YlGnBu', annot=True)"
   ]
  },
  {
   "cell_type": "markdown",
   "id": "human-collectible",
   "metadata": {},
   "source": [
    "###### X-axis is predicted value\n",
    "###### Y-axis is real value"
   ]
  },
  {
   "cell_type": "markdown",
   "id": "moving-sheep",
   "metadata": {},
   "source": [
    "##### Step5. [Normalization using MinmaxScaler and rebuild LoR] "
   ]
  },
  {
   "cell_type": "markdown",
   "id": "wrong-result",
   "metadata": {},
   "source": [
    "##### Now, normalize your X_train and X_test values using MinmaxScaler "
   ]
  },
  {
   "cell_type": "code",
   "execution_count": 34,
   "id": "existing-cancer",
   "metadata": {},
   "outputs": [],
   "source": [
    "from sklearn.preprocessing import MinMaxScaler\n",
    "scaler = MinMaxScaler()\n",
    "X_trained = scaler.fit_transform(X_train)\n",
    "X_tested = scaler.transform(X_test)"
   ]
  },
  {
   "cell_type": "code",
   "execution_count": 35,
   "id": "dental-arthritis",
   "metadata": {},
   "outputs": [
    {
     "data": {
      "text/plain": [
       "(576, 8)"
      ]
     },
     "execution_count": 35,
     "metadata": {},
     "output_type": "execute_result"
    }
   ],
   "source": [
    "X_trained.shape"
   ]
  },
  {
   "cell_type": "code",
   "execution_count": 36,
   "id": "weighted-hospital",
   "metadata": {},
   "outputs": [
    {
     "data": {
      "text/plain": [
       "(192, 8)"
      ]
     },
     "execution_count": 36,
     "metadata": {},
     "output_type": "execute_result"
    }
   ],
   "source": [
    "X_tested.shape"
   ]
  },
  {
   "cell_type": "markdown",
   "id": "equal-explosion",
   "metadata": {},
   "source": [
    "##### Create a new LogisticRegression model, fit on normalized training set and predict on the normalized test set"
   ]
  },
  {
   "cell_type": "code",
   "execution_count": 37,
   "id": "seeing-grill",
   "metadata": {},
   "outputs": [],
   "source": [
    "from sklearn.linear_model import LogisticRegression\n",
    "lmodel1 = LogisticRegression()"
   ]
  },
  {
   "cell_type": "code",
   "execution_count": 38,
   "id": "marked-seeking",
   "metadata": {
    "scrolled": true
   },
   "outputs": [
    {
     "data": {
      "text/plain": [
       "LogisticRegression()"
      ]
     },
     "execution_count": 38,
     "metadata": {},
     "output_type": "execute_result"
    }
   ],
   "source": [
    "lmodel1.fit(X_trained, y_train)"
   ]
  },
  {
   "cell_type": "code",
   "execution_count": 39,
   "id": "looking-hierarchy",
   "metadata": {},
   "outputs": [
    {
     "data": {
      "text/plain": [
       "array([0, 0, 1, 1, 0, 1, 1, 0, 0, 1, 0, 0, 1, 1, 0, 0, 0, 1, 0, 0, 0, 0,\n",
       "       0, 0, 0, 1, 0, 1, 0, 0, 1, 0, 0, 0, 0, 0, 0, 0, 0, 0, 0, 1, 0, 1,\n",
       "       1, 0, 1, 0, 1, 0, 0, 0, 1, 0, 0, 1, 0, 0, 0, 1, 0, 0, 1, 0, 0, 0,\n",
       "       0, 0, 0, 0, 0, 0, 0, 0, 1, 0, 0, 0, 0, 1, 1, 0, 0, 0, 0, 0, 1, 0,\n",
       "       1, 0, 0, 0, 0, 0, 0, 0, 0, 0, 0, 0, 0, 0, 0, 0, 1, 0, 1, 0, 0, 1,\n",
       "       0, 0, 0, 1, 1, 0, 0, 0, 0, 0, 1, 0, 0, 1, 1, 0, 0, 0, 0, 0, 0, 0,\n",
       "       1, 0, 1, 1, 1, 1, 0, 0, 0, 0, 0, 0, 1, 0, 0, 0, 1, 1, 0, 0, 0, 0,\n",
       "       0, 0, 0, 0, 0, 0, 0, 0, 0, 1, 0, 0, 0, 1, 0, 1, 0, 0, 1, 0, 0, 0,\n",
       "       0, 0, 1, 0, 0, 1, 1, 0, 0, 0, 0, 0, 1, 0, 0, 0], dtype=int64)"
      ]
     },
     "execution_count": 39,
     "metadata": {},
     "output_type": "execute_result"
    }
   ],
   "source": [
    "yn_predict = lmodel1.predict(X_tested)\n",
    "yn_predict"
   ]
  },
  {
   "cell_type": "code",
   "execution_count": 40,
   "id": "japanese-basketball",
   "metadata": {},
   "outputs": [
    {
     "data": {
      "text/plain": [
       "0.7899305555555556"
      ]
     },
     "execution_count": 40,
     "metadata": {},
     "output_type": "execute_result"
    }
   ],
   "source": [
    "lmodel1.score(X_trained, y_train)"
   ]
  },
  {
   "cell_type": "markdown",
   "id": "atmospheric-complaint",
   "metadata": {},
   "source": [
    "##### Precision score"
   ]
  },
  {
   "cell_type": "code",
   "execution_count": 41,
   "id": "active-flavor",
   "metadata": {},
   "outputs": [
    {
     "name": "stdout",
     "output_type": "stream",
     "text": [
      "0.673469387755102\n"
     ]
    }
   ],
   "source": [
    "from sklearn.metrics import precision_score\n",
    "print(precision_score(y_test, yn_predict))"
   ]
  },
  {
   "cell_type": "markdown",
   "id": "continuous-glory",
   "metadata": {},
   "source": [
    "##### Recall score"
   ]
  },
  {
   "cell_type": "code",
   "execution_count": 42,
   "id": "failing-aluminum",
   "metadata": {},
   "outputs": [
    {
     "name": "stdout",
     "output_type": "stream",
     "text": [
      "0.4925373134328358\n"
     ]
    }
   ],
   "source": [
    "from sklearn.metrics import recall_score\n",
    "print(recall_score(y_test, yn_predict))"
   ]
  },
  {
   "cell_type": "markdown",
   "id": "utility-network",
   "metadata": {},
   "source": [
    "##### Accuracy score\n",
    "##### Which is 72% Accurate"
   ]
  },
  {
   "cell_type": "code",
   "execution_count": 43,
   "id": "quick-queue",
   "metadata": {},
   "outputs": [],
   "source": [
    "from sklearn.metrics import accuracy_score\n",
    "minmax_ascore=accuracy_score(y_test, yn_predict)"
   ]
  },
  {
   "cell_type": "code",
   "execution_count": 44,
   "id": "other-extension",
   "metadata": {},
   "outputs": [
    {
     "data": {
      "text/plain": [
       "0.7395833333333334"
      ]
     },
     "execution_count": 44,
     "metadata": {},
     "output_type": "execute_result"
    }
   ],
   "source": [
    "minmax_ascore"
   ]
  },
  {
   "cell_type": "markdown",
   "id": "fresh-amsterdam",
   "metadata": {},
   "source": [
    "##### AUC score\n",
    "##### AUC is the percentage of the ROC plot that is underneath the curve"
   ]
  },
  {
   "cell_type": "code",
   "execution_count": 45,
   "id": "colonial-sleep",
   "metadata": {},
   "outputs": [],
   "source": [
    "from sklearn.metrics import roc_auc_score"
   ]
  },
  {
   "cell_type": "code",
   "execution_count": 46,
   "id": "external-leeds",
   "metadata": {},
   "outputs": [
    {
     "data": {
      "text/plain": [
       "('LoR minmax, AUC=', 0.6822686567164179)"
      ]
     },
     "execution_count": 46,
     "metadata": {},
     "output_type": "execute_result"
    }
   ],
   "source": [
    "lgr_auc=roc_auc_score(y_test, yn_predict)\n",
    "lgr_auc1=('LoR minmax, AUC=',lgr_auc)\n",
    "lgr_auc1"
   ]
  },
  {
   "cell_type": "markdown",
   "id": "maritime-scroll",
   "metadata": {},
   "source": [
    "##### Step6. [Normalization using StandardScaler and rebuild LoR] "
   ]
  },
  {
   "cell_type": "code",
   "execution_count": 47,
   "id": "ultimate-above",
   "metadata": {},
   "outputs": [],
   "source": [
    "from sklearn.preprocessing import StandardScaler\n",
    "scaler = StandardScaler()\n",
    "Xs_trained = scaler.fit_transform(X_train)\n",
    "Xs_tested = scaler.transform(X_test)"
   ]
  },
  {
   "cell_type": "code",
   "execution_count": 48,
   "id": "distributed-depth",
   "metadata": {},
   "outputs": [
    {
     "data": {
      "text/plain": [
       "(576, 8)"
      ]
     },
     "execution_count": 48,
     "metadata": {},
     "output_type": "execute_result"
    }
   ],
   "source": [
    "Xs_trained.shape"
   ]
  },
  {
   "cell_type": "code",
   "execution_count": 49,
   "id": "occupational-indiana",
   "metadata": {},
   "outputs": [
    {
     "data": {
      "text/plain": [
       "(192, 8)"
      ]
     },
     "execution_count": 49,
     "metadata": {},
     "output_type": "execute_result"
    }
   ],
   "source": [
    "Xs_tested.shape"
   ]
  },
  {
   "cell_type": "code",
   "execution_count": 50,
   "id": "pretty-mediterranean",
   "metadata": {},
   "outputs": [],
   "source": [
    "from sklearn.linear_model import LogisticRegression\n",
    "lmodel2 = LogisticRegression()"
   ]
  },
  {
   "cell_type": "code",
   "execution_count": 51,
   "id": "blind-africa",
   "metadata": {},
   "outputs": [
    {
     "data": {
      "text/plain": [
       "LogisticRegression()"
      ]
     },
     "execution_count": 51,
     "metadata": {},
     "output_type": "execute_result"
    }
   ],
   "source": [
    "lmodel2.fit(Xs_trained, y_train)"
   ]
  },
  {
   "cell_type": "code",
   "execution_count": 52,
   "id": "fifth-honduras",
   "metadata": {},
   "outputs": [
    {
     "data": {
      "text/plain": [
       "array([0, 0, 1, 1, 0, 1, 1, 0, 0, 1, 0, 0, 1, 1, 0, 0, 0, 1, 0, 0, 0, 0,\n",
       "       0, 0, 0, 1, 0, 1, 0, 0, 1, 0, 0, 0, 0, 0, 0, 0, 0, 0, 0, 1, 0, 1,\n",
       "       1, 0, 1, 0, 1, 0, 0, 0, 1, 0, 0, 1, 0, 0, 0, 1, 0, 0, 1, 0, 0, 0,\n",
       "       0, 0, 0, 0, 0, 0, 0, 1, 1, 0, 0, 0, 0, 1, 1, 0, 0, 0, 0, 0, 1, 0,\n",
       "       1, 0, 0, 0, 0, 0, 0, 0, 0, 0, 0, 0, 0, 0, 0, 0, 1, 0, 1, 0, 0, 1,\n",
       "       0, 0, 0, 1, 1, 0, 0, 0, 0, 0, 1, 0, 0, 1, 1, 0, 0, 0, 0, 0, 0, 0,\n",
       "       1, 0, 1, 1, 1, 1, 0, 0, 0, 1, 0, 0, 1, 0, 0, 1, 1, 1, 0, 0, 0, 0,\n",
       "       0, 1, 0, 0, 0, 0, 0, 0, 0, 1, 0, 0, 0, 1, 0, 1, 0, 0, 1, 0, 0, 0,\n",
       "       0, 1, 1, 0, 0, 1, 1, 0, 0, 0, 0, 0, 1, 0, 0, 0], dtype=int64)"
      ]
     },
     "execution_count": 52,
     "metadata": {},
     "output_type": "execute_result"
    }
   ],
   "source": [
    "ys_predict = lmodel2.predict(Xs_tested)\n",
    "ys_predict"
   ]
  },
  {
   "cell_type": "code",
   "execution_count": 53,
   "id": "reported-marker",
   "metadata": {},
   "outputs": [
    {
     "data": {
      "text/plain": [
       "0.7795138888888888"
      ]
     },
     "execution_count": 53,
     "metadata": {},
     "output_type": "execute_result"
    }
   ],
   "source": [
    "lmodel2.score(Xs_trained, y_train)"
   ]
  },
  {
   "cell_type": "markdown",
   "id": "exempt-newport",
   "metadata": {},
   "source": [
    "##### Precision score"
   ]
  },
  {
   "cell_type": "code",
   "execution_count": 54,
   "id": "prerequisite-drawing",
   "metadata": {},
   "outputs": [
    {
     "name": "stdout",
     "output_type": "stream",
     "text": [
      "0.6851851851851852\n"
     ]
    }
   ],
   "source": [
    "from sklearn.metrics import precision_score\n",
    "print(precision_score(y_test, ys_predict))"
   ]
  },
  {
   "cell_type": "markdown",
   "id": "divided-honey",
   "metadata": {},
   "source": [
    "##### Recall score"
   ]
  },
  {
   "cell_type": "code",
   "execution_count": 55,
   "id": "threaded-geology",
   "metadata": {},
   "outputs": [
    {
     "name": "stdout",
     "output_type": "stream",
     "text": [
      "0.5522388059701493\n"
     ]
    }
   ],
   "source": [
    "from sklearn.metrics import recall_score\n",
    "print(recall_score(y_test, ys_predict))"
   ]
  },
  {
   "cell_type": "markdown",
   "id": "dominican-statistics",
   "metadata": {},
   "source": [
    "##### Accuracy score\n",
    "##### Which is 75% Accurate"
   ]
  },
  {
   "cell_type": "code",
   "execution_count": 56,
   "id": "dental-reservoir",
   "metadata": {},
   "outputs": [],
   "source": [
    "from sklearn.metrics import accuracy_score\n",
    "ss_ascore=accuracy_score(y_test, ys_predict)"
   ]
  },
  {
   "cell_type": "code",
   "execution_count": 57,
   "id": "fitting-prospect",
   "metadata": {},
   "outputs": [
    {
     "data": {
      "text/plain": [
       "0.7552083333333334"
      ]
     },
     "execution_count": 57,
     "metadata": {},
     "output_type": "execute_result"
    }
   ],
   "source": [
    "ss_ascore"
   ]
  },
  {
   "cell_type": "markdown",
   "id": "tutorial-trail",
   "metadata": {},
   "source": [
    "##### AUC score\n",
    "##### AUC is the percentage of the ROC plot that is underneath the curve"
   ]
  },
  {
   "cell_type": "code",
   "execution_count": 58,
   "id": "surrounded-rating",
   "metadata": {},
   "outputs": [],
   "source": [
    "from sklearn.metrics import roc_auc_score"
   ]
  },
  {
   "cell_type": "code",
   "execution_count": 59,
   "id": "controlling-pavilion",
   "metadata": {},
   "outputs": [
    {
     "data": {
      "text/plain": [
       "('AUC=', 0.7081194029850746)"
      ]
     },
     "execution_count": 59,
     "metadata": {},
     "output_type": "execute_result"
    }
   ],
   "source": [
    "ss_auc=roc_auc_score(y_test, ys_predict)\n",
    "ss_auc1=('AUC=',ss_auc)\n",
    "ss_auc1"
   ]
  },
  {
   "cell_type": "markdown",
   "id": "cellular-latter",
   "metadata": {},
   "source": [
    "##### Among the 3 models, which model gives better classification scores? "
   ]
  },
  {
   "cell_type": "code",
   "execution_count": 60,
   "id": "bibliographic-right",
   "metadata": {},
   "outputs": [
    {
     "name": "stdout",
     "output_type": "stream",
     "text": [
      "StandardScaler: 0.7552083333333334\n",
      "MinmaxScaler: 0.7395833333333334\n",
      "Logistic Regression Model: 0.75\n"
     ]
    }
   ],
   "source": [
    "print('StandardScaler:',ss_ascore)\n",
    "print('MinmaxScaler:',minmax_ascore)\n",
    "print('Logistic Regression Model:',lor_ascore)"
   ]
  },
  {
   "cell_type": "markdown",
   "id": "mobile-instruction",
   "metadata": {},
   "source": [
    "##### Step7. [Plot ROC curve] "
   ]
  },
  {
   "cell_type": "markdown",
   "id": "upper-prize",
   "metadata": {},
   "source": [
    "##### Plot ROC curve as shown below. You can use the MinmaxScaler scaled values of X_test for computing predict_proba() score."
   ]
  },
  {
   "cell_type": "code",
   "execution_count": 61,
   "id": "capital-vertical",
   "metadata": {},
   "outputs": [],
   "source": [
    "from sklearn.metrics import roc_curve"
   ]
  },
  {
   "cell_type": "code",
   "execution_count": 62,
   "id": "opponent-function",
   "metadata": {},
   "outputs": [],
   "source": [
    "predict_pb1 = lmodel1.predict_proba(X_tested)\n",
    "fpr1, tpr1, threshold1 = roc_curve(y_test,predict_pb1[:,1], pos_label=1)"
   ]
  },
  {
   "cell_type": "code",
   "execution_count": 63,
   "id": "color-bearing",
   "metadata": {},
   "outputs": [
    {
     "data": {
      "text/plain": [
       "Text(0, 0.5, 'True Positive Rate')"
      ]
     },
     "execution_count": 63,
     "metadata": {},
     "output_type": "execute_result"
    },
    {
     "data": {
      "image/png": "[encoded data removed]",
      "text/plain": [
       "<Figure size 576x396 with 1 Axes>"
      ]
     },
     "metadata": {},
     "output_type": "display_data"
    }
   ],
   "source": [
    "import matplotlib.pyplot as plt\n",
    "plt.style.use('seaborn')\n",
    "plt.annotate(xy=[0.7,0], s=ss_auc1)\n",
    "plt.plot(fpr1, tpr1, linestyle=':', color='black',label='Logistic Regression')\n",
    "plt.title('Roc curve')\n",
    "plt.xlabel('False Positive Rate')\n",
    "plt.ylabel('True Positive Rate')"
   ]
  },
  {
   "cell_type": "markdown",
   "id": "entitled-warning",
   "metadata": {},
   "source": [
    "##### Step8. [Comparison with KNN classifier]."
   ]
  },
  {
   "cell_type": "markdown",
   "id": "expired-pavilion",
   "metadata": {},
   "source": [
    "##### Create a KNN classifier with default values, fit on the scaled X using MinmaxScaler, predict and print classification metric scores."
   ]
  },
  {
   "cell_type": "code",
   "execution_count": 64,
   "id": "excellent-dinner",
   "metadata": {},
   "outputs": [],
   "source": [
    "from sklearn.neighbors import KNeighborsClassifier"
   ]
  },
  {
   "cell_type": "code",
   "execution_count": 65,
   "id": "laughing-summary",
   "metadata": {},
   "outputs": [],
   "source": [
    "lmodel3 = KNeighborsClassifier(n_neighbors=3)"
   ]
  },
  {
   "cell_type": "code",
   "execution_count": 66,
   "id": "helpful-cardiff",
   "metadata": {},
   "outputs": [
    {
     "data": {
      "text/plain": [
       "KNeighborsClassifier(n_neighbors=3)"
      ]
     },
     "execution_count": 66,
     "metadata": {},
     "output_type": "execute_result"
    }
   ],
   "source": [
    "lmodel3.fit(X_trained,y_train)"
   ]
  },
  {
   "cell_type": "code",
   "execution_count": 67,
   "id": "emotional-failing",
   "metadata": {},
   "outputs": [
    {
     "data": {
      "text/plain": [
       "array([1, 0, 1, 0, 0, 0, 1, 0, 1, 1, 0, 0, 0, 1, 0, 0, 0, 0, 0, 0, 1, 0,\n",
       "       0, 0, 1, 0, 1, 1, 1, 0, 1, 0, 0, 0, 0, 0, 0, 0, 0, 0, 0, 1, 0, 1,\n",
       "       1, 0, 0, 0, 1, 0, 0, 0, 1, 0, 0, 1, 0, 0, 0, 0, 1, 0, 0, 1, 0, 0,\n",
       "       0, 0, 0, 0, 0, 0, 1, 1, 0, 0, 1, 1, 0, 1, 1, 0, 1, 0, 0, 0, 1, 0,\n",
       "       1, 0, 0, 0, 0, 1, 0, 0, 0, 0, 0, 0, 0, 1, 0, 0, 1, 0, 1, 1, 0, 0,\n",
       "       0, 0, 0, 1, 0, 1, 0, 0, 0, 0, 1, 0, 0, 1, 1, 0, 0, 0, 0, 0, 0, 0,\n",
       "       0, 0, 1, 1, 1, 1, 0, 0, 0, 1, 0, 0, 1, 0, 0, 0, 1, 1, 0, 0, 0, 0,\n",
       "       0, 0, 0, 0, 0, 1, 0, 0, 0, 1, 0, 0, 0, 1, 1, 1, 0, 0, 1, 0, 0, 0,\n",
       "       0, 1, 1, 1, 0, 0, 1, 0, 0, 0, 0, 0, 1, 0, 0, 1], dtype=int64)"
      ]
     },
     "execution_count": 67,
     "metadata": {},
     "output_type": "execute_result"
    }
   ],
   "source": [
    "knn_y_predict = lmodel3.predict(X_tested)\n",
    "knn_y_predict"
   ]
  },
  {
   "cell_type": "markdown",
   "id": "tough-atlas",
   "metadata": {},
   "source": [
    "##### Precision score"
   ]
  },
  {
   "cell_type": "code",
   "execution_count": 68,
   "id": "sudden-planet",
   "metadata": {},
   "outputs": [
    {
     "name": "stdout",
     "output_type": "stream",
     "text": [
      "0.6271186440677966\n"
     ]
    }
   ],
   "source": [
    "from sklearn.metrics import precision_score\n",
    "print(precision_score(y_test, knn_y_predict))"
   ]
  },
  {
   "cell_type": "markdown",
   "id": "attached-preserve",
   "metadata": {},
   "source": [
    "##### Recall score"
   ]
  },
  {
   "cell_type": "code",
   "execution_count": 69,
   "id": "acute-performer",
   "metadata": {},
   "outputs": [
    {
     "name": "stdout",
     "output_type": "stream",
     "text": [
      "0.5522388059701493\n"
     ]
    }
   ],
   "source": [
    "from sklearn.metrics import recall_score\n",
    "print(recall_score(y_test, knn_y_predict))"
   ]
  },
  {
   "cell_type": "markdown",
   "id": "personal-consent",
   "metadata": {},
   "source": [
    "##### Accuracy score"
   ]
  },
  {
   "cell_type": "code",
   "execution_count": 70,
   "id": "seven-still",
   "metadata": {},
   "outputs": [
    {
     "data": {
      "text/plain": [
       "0.7291666666666666"
      ]
     },
     "execution_count": 70,
     "metadata": {},
     "output_type": "execute_result"
    }
   ],
   "source": [
    "from sklearn.metrics import accuracy_score\n",
    "kn_ascore=accuracy_score(y_test, knn_y_predict)\n",
    "kn_ascore"
   ]
  },
  {
   "cell_type": "markdown",
   "id": "continent-bahrain",
   "metadata": {},
   "source": [
    "##### AUC score"
   ]
  },
  {
   "cell_type": "code",
   "execution_count": 71,
   "id": "cultural-tribe",
   "metadata": {},
   "outputs": [
    {
     "data": {
      "text/plain": [
       "('KNN minmax, AUC=', 0.6881194029850747)"
      ]
     },
     "execution_count": 71,
     "metadata": {},
     "output_type": "execute_result"
    }
   ],
   "source": [
    "from sklearn.metrics import roc_auc_score\n",
    "kn_auc=roc_auc_score(y_test, knn_y_predict)\n",
    "kn_auc1=('KNN minmax, AUC=',kn_auc)\n",
    "kn_auc1"
   ]
  },
  {
   "cell_type": "markdown",
   "id": "opening-neighbor",
   "metadata": {},
   "source": [
    "##### Step9. [Update ROC curve]\n",
    "##### Update your ROC curve, this time, with one more curve of KNN classifier,\n"
   ]
  },
  {
   "cell_type": "code",
   "execution_count": 72,
   "id": "harmful-liverpool",
   "metadata": {},
   "outputs": [],
   "source": [
    "predict_pb2 = lmodel3.predict_proba(X_tested)\n",
    "fpr1,tpr1,threshold1 = roc_curve(y_test, predict_pb1[:,1],pos_label=1)\n",
    "fpr2,tpr2,threshold2 = roc_curve(y_test, predict_pb2[:,1],pos_label=1)"
   ]
  },
  {
   "cell_type": "code",
   "execution_count": 73,
   "id": "closed-illustration",
   "metadata": {},
   "outputs": [
    {
     "data": {
      "text/plain": [
       "Text(0, 0.5, 'True positive rate')"
      ]
     },
     "execution_count": 73,
     "metadata": {},
     "output_type": "execute_result"
    },
    {
     "data": {
      "image/png": "[encoded data removed]",
      "text/plain": [
       "<Figure size 576x396 with 1 Axes>"
      ]
     },
     "metadata": {},
     "output_type": "display_data"
    }
   ],
   "source": [
    "plt.plot(fpr1,tpr1,linestyle=':',color='black',label='Logistic Regression')\n",
    "plt.plot(fpr2,tpr2,linestyle=':',color ='blue',label='KNN')\n",
    "plt.annotate(xy=[0.6,0.1], s=kn_auc1)\n",
    "plt.annotate(xy=[0.6,0], s=lgr_auc1)\n",
    "plt.legend(loc='best')\n",
    "plt.title('Roc curve')\n",
    "plt.xlabel('False positive rate')\n",
    "plt.ylabel('True positive rate')"
   ]
  },
  {
   "cell_type": "markdown",
   "id": "dressed-chester",
   "metadata": {},
   "source": [
    "##### Step10. [Regularization]\n",
    "##### In order to reduce overfitting of your data, you will use LogisticRegressionCV model with L1 and L2 regularization parameters. Create both models using the following statements"
   ]
  },
  {
   "cell_type": "code",
   "execution_count": 74,
   "id": "considerable-default",
   "metadata": {},
   "outputs": [],
   "source": [
    "from sklearn.linear_model import LogisticRegressionCV"
   ]
  },
  {
   "cell_type": "code",
   "execution_count": 75,
   "id": "progressive-exercise",
   "metadata": {},
   "outputs": [],
   "source": [
    "lmodel4 = LogisticRegressionCV(Cs=10, cv=4, penalty='l1', solver='liblinear')\n",
    "lmodel5 = LogisticRegressionCV(Cs=10, cv=4, penalty='l2')"
   ]
  },
  {
   "cell_type": "markdown",
   "id": "cordless-triple",
   "metadata": {},
   "source": [
    "##### Perform fit using MinmaxScaler scaled values and predict"
   ]
  },
  {
   "cell_type": "code",
   "execution_count": 76,
   "id": "minus-sharing",
   "metadata": {},
   "outputs": [
    {
     "name": "stdout",
     "output_type": "stream",
     "text": [
      "LogisticRegressionCV(cv=4, penalty='l1', solver='liblinear')\n",
      "LogisticRegressionCV(cv=4)\n"
     ]
    }
   ],
   "source": [
    "print(lmodel4.fit(X_trained,y_train))\n",
    "print(lmodel5.fit(X_trained,y_train))"
   ]
  },
  {
   "cell_type": "code",
   "execution_count": 77,
   "id": "advisory-tender",
   "metadata": {},
   "outputs": [
    {
     "name": "stdout",
     "output_type": "stream",
     "text": [
      "Logistic RegressionCV L1:\n",
      " [0 0 1 1 0 1 1 0 0 1 0 0 0 1 0 0 0 1 0 0 0 0 0 0 0 1 0 1 0 0 1 0 0 0 0 0 0\n",
      " 0 0 0 0 1 0 1 1 0 1 0 1 0 0 0 1 0 0 1 0 0 0 1 0 0 1 0 0 0 0 0 0 0 0 0 0 0\n",
      " 1 0 0 0 0 1 1 0 0 0 0 0 1 0 1 0 0 0 0 0 0 0 0 0 0 0 0 0 0 0 1 0 1 0 0 1 0\n",
      " 0 0 1 1 0 0 0 0 0 1 0 0 1 1 0 0 0 0 0 0 0 1 0 1 1 1 1 0 0 0 0 0 0 1 0 0 0\n",
      " 1 1 0 0 0 0 0 1 0 0 0 0 0 0 0 0 0 0 0 1 0 1 0 0 1 0 0 0 0 0 1 0 0 1 1 0 0\n",
      " 0 0 0 1 0 0 0]\n",
      "--------------------------------------------------------------------------\n",
      "Logistic RegressionCV L2:\n",
      " [0 0 1 1 0 1 1 0 0 1 0 0 1 1 0 0 0 1 0 0 0 0 0 0 0 1 0 1 0 0 1 0 0 0 0 0 0\n",
      " 0 0 0 0 1 0 1 1 0 1 0 1 0 0 0 1 0 0 1 0 0 0 1 0 0 1 0 0 0 0 0 0 0 0 0 0 1\n",
      " 1 0 0 0 0 1 1 0 0 0 0 0 1 0 1 0 0 0 0 0 0 0 0 0 0 0 0 0 0 0 1 0 1 0 0 1 0\n",
      " 0 0 1 1 0 0 0 0 0 1 0 0 1 1 0 0 0 0 0 0 0 1 0 1 1 1 1 0 0 0 1 0 0 1 0 0 0\n",
      " 1 1 0 0 0 0 0 1 0 0 0 0 0 0 0 1 0 0 0 1 0 1 0 0 1 0 0 0 0 0 1 0 0 1 1 0 0\n",
      " 0 0 0 1 0 0 0]\n"
     ]
    }
   ],
   "source": [
    "lr_y_predict1 = lmodel4.predict(X_tested)\n",
    "lr_y_predict2 = lmodel5.predict(X_tested)\n",
    "print('Logistic RegressionCV L1:\\n',lr_y_predict1)\n",
    "print('--------------------------------------------------------------------------')\n",
    "print('Logistic RegressionCV L2:\\n',lr_y_predict2)"
   ]
  },
  {
   "cell_type": "code",
   "execution_count": 78,
   "id": "documented-address",
   "metadata": {},
   "outputs": [
    {
     "data": {
      "text/plain": [
       "('LoR L1 minmax, AUC=', 0.6748059701492537)"
      ]
     },
     "execution_count": 78,
     "metadata": {},
     "output_type": "execute_result"
    }
   ],
   "source": [
    "from sklearn.metrics import roc_auc_score\n",
    "lrp_auc=roc_auc_score(y_test, lr_y_predict1)\n",
    "lrp1_auc=('LoR L1 minmax, AUC=',lrp_auc)\n",
    "lrp1_auc"
   ]
  },
  {
   "cell_type": "code",
   "execution_count": 79,
   "id": "violent-apple",
   "metadata": {},
   "outputs": [
    {
     "data": {
      "text/plain": [
       "('LoR L2 minmax, AUC=', 0.6931940298507463)"
      ]
     },
     "execution_count": 79,
     "metadata": {},
     "output_type": "execute_result"
    }
   ],
   "source": [
    "from sklearn.metrics import roc_auc_score\n",
    "lrp_auc2=roc_auc_score(y_test, lr_y_predict2)\n",
    "lrp2_auc=('LoR L2 minmax, AUC=',lrp_auc2)\n",
    "lrp2_auc"
   ]
  },
  {
   "cell_type": "markdown",
   "id": "charged-calvin",
   "metadata": {},
   "source": [
    "##### Step11. [Update ROC curve]\n",
    "##### Update your ROC curve, this time, with two more curves"
   ]
  },
  {
   "cell_type": "code",
   "execution_count": 80,
   "id": "light-mailing",
   "metadata": {},
   "outputs": [],
   "source": [
    "predict_pb3 = lmodel4.predict_proba(X_tested)\n",
    "predict_pb4 = lmodel5.predict_proba(X_tested)\n",
    "fpr1,tpr1,thresh1 = roc_curve(y_test, predict_pb1[:,1], pos_label=1)\n",
    "fpr2,tpr2,thresh2 = roc_curve(y_test, predict_pb2[:,1], pos_label=1)\n",
    "fpr3,tpr3,thresh3 = roc_curve(y_test, predict_pb3[:,1], pos_label=1)\n",
    "fpr4,tpr4,thresh4 = roc_curve(y_test, predict_pb4[:,1], pos_label=1)"
   ]
  },
  {
   "cell_type": "code",
   "execution_count": 90,
   "id": "included-drink",
   "metadata": {},
   "outputs": [
    {
     "data": {
      "text/plain": [
       "Text(0, 0.5, 'True  Positive Rate')"
      ]
     },
     "execution_count": 90,
     "metadata": {},
     "output_type": "execute_result"
    },
    {
     "data": {
      "image/png": "[encoded data removed]",
      "text/plain": [
       "<Figure size 576x396 with 1 Axes>"
      ]
     },
     "metadata": {},
     "output_type": "display_data"
    }
   ],
   "source": [
    "plt.plot(fpr1,tpr1,linestyle='-',color='midnightblue', label='Logistic Regression')\n",
    "plt.plot(fpr2,tpr2,linestyle='-',color='black', label='KNN')\n",
    "plt.plot(fpr3,tpr3,linestyle='-',color='red', label='LoR L1')\n",
    "plt.plot(fpr4,tpr4,linestyle='-',color='forestgreen', label='LoR L2')\n",
    "plt.annotate(xy=[0.49,0.3], s=kn_auc1)\n",
    "plt.annotate(xy=[0.49,0.2], s=lgr_auc1)\n",
    "plt.annotate(xy=[0.49,0.1], s=lrp1_auc)\n",
    "plt.annotate(xy=[0.49,0], s=lrp2_auc)\n",
    "plt.legend(loc='best')\n",
    "plt.title('ROC curve')\n",
    "plt.xlabel('False Positive Rate')\n",
    "plt.ylabel('True  Positive Rate')"
   ]
  },
  {
   "cell_type": "markdown",
   "id": "b65857c4",
   "metadata": {},
   "source": [
    "##### Logistic Regression L2 Minmax gives 69% of AUC score so this shows it is the best score"
   ]
  }
 ],
 "metadata": {
  "kernelspec": {
   "display_name": "Python 3",
   "language": "python",
   "name": "python3"
  },
  "language_info": {
   "codemirror_mode": {
    "name": "ipython",
    "version": 3
   },
   "file_extension": ".py",
   "mimetype": "text/x-python",
   "name": "python",
   "nbconvert_exporter": "python",
   "pygments_lexer": "ipython3",
   "version": "3.8.8"
  },
  "toc": {
   "base_numbering": 1,
   "nav_menu": {},
   "number_sections": true,
   "sideBar": true,
   "skip_h1_title": false,
   "title_cell": "Table of Contents",
   "title_sidebar": "Contents",
   "toc_cell": false,
   "toc_position": {},
   "toc_section_display": true,
   "toc_window_display": false
  }
 },
 "nbformat": 4,
 "nbformat_minor": 5
}
