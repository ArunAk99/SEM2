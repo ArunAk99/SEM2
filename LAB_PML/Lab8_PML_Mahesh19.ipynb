{
 "cells": [
  {
   "cell_type": "markdown",
   "id": "728db98a",
   "metadata": {},
   "source": [
    "- Arunkumar A\n",
    "- 205229102"
   ]
  },
  {
   "cell_type": "markdown",
   "id": "75c138dc",
   "metadata": {},
   "source": [
    "### Lab8. Animal Classification using Decision Trees \n",
    "#### Objectives \n",
    "In this lab, you will build ID3 and CART Decision Tree to classify whether an animal is a Mammal or Reptile."
   ]
  },
  {
   "cell_type": "markdown",
   "id": "3d1dce54",
   "metadata": {},
   "source": [
    "#### Learning Outcomes \n",
    "After completing this lab, you will be able to \n",
    "- Create and import training dataset and test dataset \n",
    "- Create ID3 Decision Tree using Entropy metric \n",
    "- Create CART Decision Tree using Gini metric \n",
    "- Visualize graph using graphviz"
   ]
  },
  {
   "cell_type": "markdown",
   "id": "aadd6042",
   "metadata": {},
   "source": [
    "### Import necessary Library"
   ]
  },
  {
   "cell_type": "code",
   "execution_count": 1,
   "id": "a1a2d939",
   "metadata": {},
   "outputs": [],
   "source": [
    "import csv\n",
    "import pandas as pd\n",
    "from sklearn import tree\n",
    "from sklearn.tree import export_graphviz\n",
    "from sklearn.preprocessing import LabelEncoder\n",
    "from sklearn.tree import DecisionTreeClassifier\n",
    "from sklearn.model_selection import train_test_split\n",
    "from sklearn.metrics import accuracy_score,classification_report\n",
    "from sklearn.metrics import accuracy_score,confusion_matrix,classification_report,auc,roc_curve,precision_score,recall_score\n",
    "import warnings\n",
    "warnings.filterwarnings('ignore')"
   ]
  },
  {
   "cell_type": "markdown",
   "id": "38d2b064",
   "metadata": {},
   "source": [
    "### Step1. [Create Dataset]\n",
    "Create the following dataset using Excel and save it as CSV file."
   ]
  },
  {
   "cell_type": "code",
   "execution_count": 2,
   "id": "f77f75ec",
   "metadata": {},
   "outputs": [],
   "source": [
    "import pandas as pd\n",
    "animal_data = pd.read_csv('animal.csv')"
   ]
  },
  {
   "cell_type": "markdown",
   "id": "ac74b816",
   "metadata": {},
   "source": [
    "#### Step2. [Model building using ID3] \n",
    "- Import your data set \n",
    "- Create DT model using ‘entropy’ criterion\n",
    "- Perform training and testing \n",
    "- Print accuracy and classification report. \n",
    "- Interpret your results \n",
    "- Visualize your DT model using graphviz"
   ]
  },
  {
   "cell_type": "code",
   "execution_count": 3,
   "id": "d8ecc1cf",
   "metadata": {},
   "outputs": [
    {
     "data": {
      "text/html": [
       "<div>\n",
       "<style scoped>\n",
       "    .dataframe tbody tr th:only-of-type {\n",
       "        vertical-align: middle;\n",
       "    }\n",
       "\n",
       "    .dataframe tbody tr th {\n",
       "        vertical-align: top;\n",
       "    }\n",
       "\n",
       "    .dataframe thead th {\n",
       "        text-align: right;\n",
       "    }\n",
       "</style>\n",
       "<table border=\"1\" class=\"dataframe\">\n",
       "  <thead>\n",
       "    <tr style=\"text-align: right;\">\n",
       "      <th></th>\n",
       "      <th>Toothed</th>\n",
       "      <th>Hair</th>\n",
       "      <th>Breathes</th>\n",
       "      <th>Legs</th>\n",
       "      <th>Species</th>\n",
       "    </tr>\n",
       "  </thead>\n",
       "  <tbody>\n",
       "    <tr>\n",
       "      <th>0</th>\n",
       "      <td>True</td>\n",
       "      <td>True</td>\n",
       "      <td>True</td>\n",
       "      <td>True</td>\n",
       "      <td>Mammal</td>\n",
       "    </tr>\n",
       "    <tr>\n",
       "      <th>1</th>\n",
       "      <td>True</td>\n",
       "      <td>True</td>\n",
       "      <td>True</td>\n",
       "      <td>True</td>\n",
       "      <td>Mammal</td>\n",
       "    </tr>\n",
       "    <tr>\n",
       "      <th>2</th>\n",
       "      <td>True</td>\n",
       "      <td>False</td>\n",
       "      <td>True</td>\n",
       "      <td>False</td>\n",
       "      <td>Repite</td>\n",
       "    </tr>\n",
       "    <tr>\n",
       "      <th>3</th>\n",
       "      <td>False</td>\n",
       "      <td>True</td>\n",
       "      <td>True</td>\n",
       "      <td>True</td>\n",
       "      <td>Mammal</td>\n",
       "    </tr>\n",
       "    <tr>\n",
       "      <th>4</th>\n",
       "      <td>True</td>\n",
       "      <td>True</td>\n",
       "      <td>True</td>\n",
       "      <td>True</td>\n",
       "      <td>Mammal</td>\n",
       "    </tr>\n",
       "    <tr>\n",
       "      <th>5</th>\n",
       "      <td>True</td>\n",
       "      <td>True</td>\n",
       "      <td>True</td>\n",
       "      <td>True</td>\n",
       "      <td>Mammal</td>\n",
       "    </tr>\n",
       "    <tr>\n",
       "      <th>6</th>\n",
       "      <td>True</td>\n",
       "      <td>False</td>\n",
       "      <td>False</td>\n",
       "      <td>False</td>\n",
       "      <td>Repite</td>\n",
       "    </tr>\n",
       "    <tr>\n",
       "      <th>7</th>\n",
       "      <td>True</td>\n",
       "      <td>False</td>\n",
       "      <td>True</td>\n",
       "      <td>False</td>\n",
       "      <td>Repite</td>\n",
       "    </tr>\n",
       "    <tr>\n",
       "      <th>8</th>\n",
       "      <td>True</td>\n",
       "      <td>True</td>\n",
       "      <td>True</td>\n",
       "      <td>True</td>\n",
       "      <td>Mammal</td>\n",
       "    </tr>\n",
       "    <tr>\n",
       "      <th>9</th>\n",
       "      <td>False</td>\n",
       "      <td>False</td>\n",
       "      <td>True</td>\n",
       "      <td>True</td>\n",
       "      <td>Repite</td>\n",
       "    </tr>\n",
       "  </tbody>\n",
       "</table>\n",
       "</div>"
      ],
      "text/plain": [
       "   Toothed   Hair  Breathes   Legs Species\n",
       "0     True   True      True   True  Mammal\n",
       "1     True   True      True   True  Mammal\n",
       "2     True  False      True  False  Repite\n",
       "3    False   True      True   True  Mammal\n",
       "4     True   True      True   True  Mammal\n",
       "5     True   True      True   True  Mammal\n",
       "6     True  False     False  False  Repite\n",
       "7     True  False      True  False  Repite\n",
       "8     True   True      True   True  Mammal\n",
       "9    False  False      True   True  Repite"
      ]
     },
     "execution_count": 3,
     "metadata": {},
     "output_type": "execute_result"
    }
   ],
   "source": [
    "animal_data"
   ]
  },
  {
   "cell_type": "code",
   "execution_count": 4,
   "id": "717a0bdc",
   "metadata": {},
   "outputs": [
    {
     "data": {
      "text/html": [
       "<div>\n",
       "<style scoped>\n",
       "    .dataframe tbody tr th:only-of-type {\n",
       "        vertical-align: middle;\n",
       "    }\n",
       "\n",
       "    .dataframe tbody tr th {\n",
       "        vertical-align: top;\n",
       "    }\n",
       "\n",
       "    .dataframe thead th {\n",
       "        text-align: right;\n",
       "    }\n",
       "</style>\n",
       "<table border=\"1\" class=\"dataframe\">\n",
       "  <thead>\n",
       "    <tr style=\"text-align: right;\">\n",
       "      <th></th>\n",
       "      <th>Toothed</th>\n",
       "      <th>Hair</th>\n",
       "      <th>Breathes</th>\n",
       "      <th>Legs</th>\n",
       "      <th>Species</th>\n",
       "      <th>Label</th>\n",
       "    </tr>\n",
       "  </thead>\n",
       "  <tbody>\n",
       "    <tr>\n",
       "      <th>0</th>\n",
       "      <td>True</td>\n",
       "      <td>True</td>\n",
       "      <td>True</td>\n",
       "      <td>True</td>\n",
       "      <td>Mammal</td>\n",
       "      <td>0</td>\n",
       "    </tr>\n",
       "    <tr>\n",
       "      <th>1</th>\n",
       "      <td>True</td>\n",
       "      <td>True</td>\n",
       "      <td>True</td>\n",
       "      <td>True</td>\n",
       "      <td>Mammal</td>\n",
       "      <td>0</td>\n",
       "    </tr>\n",
       "    <tr>\n",
       "      <th>2</th>\n",
       "      <td>True</td>\n",
       "      <td>False</td>\n",
       "      <td>True</td>\n",
       "      <td>False</td>\n",
       "      <td>Repite</td>\n",
       "      <td>1</td>\n",
       "    </tr>\n",
       "    <tr>\n",
       "      <th>3</th>\n",
       "      <td>False</td>\n",
       "      <td>True</td>\n",
       "      <td>True</td>\n",
       "      <td>True</td>\n",
       "      <td>Mammal</td>\n",
       "      <td>0</td>\n",
       "    </tr>\n",
       "    <tr>\n",
       "      <th>4</th>\n",
       "      <td>True</td>\n",
       "      <td>True</td>\n",
       "      <td>True</td>\n",
       "      <td>True</td>\n",
       "      <td>Mammal</td>\n",
       "      <td>0</td>\n",
       "    </tr>\n",
       "    <tr>\n",
       "      <th>5</th>\n",
       "      <td>True</td>\n",
       "      <td>True</td>\n",
       "      <td>True</td>\n",
       "      <td>True</td>\n",
       "      <td>Mammal</td>\n",
       "      <td>0</td>\n",
       "    </tr>\n",
       "    <tr>\n",
       "      <th>6</th>\n",
       "      <td>True</td>\n",
       "      <td>False</td>\n",
       "      <td>False</td>\n",
       "      <td>False</td>\n",
       "      <td>Repite</td>\n",
       "      <td>1</td>\n",
       "    </tr>\n",
       "    <tr>\n",
       "      <th>7</th>\n",
       "      <td>True</td>\n",
       "      <td>False</td>\n",
       "      <td>True</td>\n",
       "      <td>False</td>\n",
       "      <td>Repite</td>\n",
       "      <td>1</td>\n",
       "    </tr>\n",
       "    <tr>\n",
       "      <th>8</th>\n",
       "      <td>True</td>\n",
       "      <td>True</td>\n",
       "      <td>True</td>\n",
       "      <td>True</td>\n",
       "      <td>Mammal</td>\n",
       "      <td>0</td>\n",
       "    </tr>\n",
       "    <tr>\n",
       "      <th>9</th>\n",
       "      <td>False</td>\n",
       "      <td>False</td>\n",
       "      <td>True</td>\n",
       "      <td>True</td>\n",
       "      <td>Repite</td>\n",
       "      <td>1</td>\n",
       "    </tr>\n",
       "  </tbody>\n",
       "</table>\n",
       "</div>"
      ],
      "text/plain": [
       "   Toothed   Hair  Breathes   Legs Species  Label\n",
       "0     True   True      True   True  Mammal      0\n",
       "1     True   True      True   True  Mammal      0\n",
       "2     True  False      True  False  Repite      1\n",
       "3    False   True      True   True  Mammal      0\n",
       "4     True   True      True   True  Mammal      0\n",
       "5     True   True      True   True  Mammal      0\n",
       "6     True  False     False  False  Repite      1\n",
       "7     True  False      True  False  Repite      1\n",
       "8     True   True      True   True  Mammal      0\n",
       "9    False  False      True   True  Repite      1"
      ]
     },
     "execution_count": 4,
     "metadata": {},
     "output_type": "execute_result"
    }
   ],
   "source": [
    "from sklearn.preprocessing import LabelEncoder\n",
    "label_encoder = LabelEncoder()\n",
    "animal_data[\"Label\"] = label_encoder.fit_transform(animal_data[\"Species\"]) \n",
    "animal_data"
   ]
  },
  {
   "cell_type": "code",
   "execution_count": 5,
   "id": "acccf9ae",
   "metadata": {},
   "outputs": [
    {
     "data": {
      "text/plain": [
       "['Mammal', 'Repite']"
      ]
     },
     "execution_count": 5,
     "metadata": {},
     "output_type": "execute_result"
    }
   ],
   "source": [
    "categories = list(label_encoder.inverse_transform([0,1]))\n",
    "categories"
   ]
  },
  {
   "cell_type": "code",
   "execution_count": 6,
   "id": "6ba5e0a4",
   "metadata": {},
   "outputs": [],
   "source": [
    "X = animal_data.drop(['Label','Species'],axis=1)"
   ]
  },
  {
   "cell_type": "code",
   "execution_count": 7,
   "id": "44101788",
   "metadata": {},
   "outputs": [],
   "source": [
    "y = animal_data.Label"
   ]
  },
  {
   "cell_type": "code",
   "execution_count": 8,
   "id": "917aa4e2",
   "metadata": {},
   "outputs": [
    {
     "data": {
      "text/plain": [
       "DecisionTreeClassifier(criterion='entropy', max_depth=4, random_state=42)"
      ]
     },
     "execution_count": 8,
     "metadata": {},
     "output_type": "execute_result"
    }
   ],
   "source": [
    "from sklearn.model_selection import train_test_split\n",
    "from sklearn.tree import DecisionTreeClassifier\n",
    "from sklearn.metrics import accuracy_score,classification_report\n",
    "\n",
    "X_train,X_test,y_train,y_test = train_test_split(X,y,test_size=0.33,random_state=0)\n",
    "clf = DecisionTreeClassifier(criterion='entropy',max_depth=4, random_state=42)\n",
    "clf.fit(X_train,y_train)"
   ]
  },
  {
   "cell_type": "code",
   "execution_count": 9,
   "id": "a4d60455",
   "metadata": {},
   "outputs": [
    {
     "data": {
      "text/plain": [
       "array([1, 0, 0, 0])"
      ]
     },
     "execution_count": 9,
     "metadata": {},
     "output_type": "execute_result"
    }
   ],
   "source": [
    "y_pred = clf.predict(X_test)\n",
    "y_pred"
   ]
  },
  {
   "cell_type": "code",
   "execution_count": 10,
   "id": "d55ce31d",
   "metadata": {},
   "outputs": [
    {
     "name": "stdout",
     "output_type": "stream",
     "text": [
      "Accuracy of train : 1.0\n",
      "Accuracy of test  : 0.75\n",
      "\n",
      "\n",
      "              precision    recall  f1-score   support\n",
      "\n",
      "           0       0.67      1.00      0.80         2\n",
      "           1       1.00      0.50      0.67         2\n",
      "\n",
      "    accuracy                           0.75         4\n",
      "   macro avg       0.83      0.75      0.73         4\n",
      "weighted avg       0.83      0.75      0.73         4\n",
      "\n"
     ]
    }
   ],
   "source": [
    "print(\"Accuracy of train :\",clf.score(X_train,y_train))\n",
    "print(\"Accuracy of test  :\",clf.score(X_test,y_test))\n",
    "print('\\n')\n",
    "print(classification_report(y_test,y_pred))"
   ]
  },
  {
   "cell_type": "code",
   "execution_count": 11,
   "id": "dff9a85f",
   "metadata": {},
   "outputs": [],
   "source": [
    "from sklearn import tree\n",
    "from sklearn.tree import export_graphviz\n",
    "\n",
    "with open(\"tree1.dot\", 'w') as f:\n",
    "    f = tree.export_graphviz(clf,out_file=f,max_depth = 4,impurity = False,feature_names = X.columns.values,class_names = categories,filled= True )"
   ]
  },
  {
   "cell_type": "markdown",
   "id": "6da3a884",
   "metadata": {},
   "source": [
    "#### Now open tree1.txt file which will be created in your working directory then Copy and paste the code to http://webgraphviz.com/"
   ]
  },
  {
   "cell_type": "markdown",
   "id": "05fc3b8c",
   "metadata": {},
   "source": [
    "### Another Way to visualize"
   ]
  },
  {
   "cell_type": "code",
   "execution_count": 12,
   "id": "f4652347",
   "metadata": {},
   "outputs": [
    {
     "data": {
      "text/plain": [
       "[Text(167.4, 163.07999999999998, 'X[3] <= 0.5\\nentropy = 0.918\\nsamples = 6\\nvalue = [4, 2]'),\n",
       " Text(83.7, 54.360000000000014, 'entropy = 0.0\\nsamples = 2\\nvalue = [0, 2]'),\n",
       " Text(251.10000000000002, 54.360000000000014, 'entropy = 0.0\\nsamples = 4\\nvalue = [4, 0]')]"
      ]
     },
     "execution_count": 12,
     "metadata": {},
     "output_type": "execute_result"
    },
    {
     "data": {
      "image/png": "[encoded data removed]",
      "text/plain": [
       "<Figure size 432x288 with 1 Axes>"
      ]
     },
     "metadata": {
      "needs_background": "light"
     },
     "output_type": "display_data"
    }
   ],
   "source": [
    "from sklearn import tree\n",
    "%matplotlib inline\n",
    "\n",
    "tree.plot_tree(clf)"
   ]
  },
  {
   "cell_type": "markdown",
   "id": "f9455592",
   "metadata": {},
   "source": [
    "### Step3. [Create a Test Set]"
   ]
  },
  {
   "cell_type": "code",
   "execution_count": 13,
   "id": "453a4095",
   "metadata": {},
   "outputs": [],
   "source": [
    "import csv\n",
    "fields = ['Name','Toothed', 'Hair', 'Breathes', 'Legs', 'Species'] \n",
    "    \n",
    "# data rows of csv file \n",
    "rows = [ ['Turtile','FALSE','FALSE','TRUE','FALSE','Reptile'], \n",
    "         ['Blue Whales','FALSE','TRUE','TRUE','TRUE','Mammal'], \n",
    "         ['Crocodile','TRUE','FALSE','TRUE','TRUE','Reptile'] ] \n",
    "    \n",
    "# name of csv file \n",
    "filename = \"testing.csv\"\n",
    "\n",
    "\n",
    "with open(filename, 'w') as file: \n",
    "    # creating a csv dict writer object \n",
    "    writer = csv.writer(file) \n",
    "        \n",
    "    # writing headers (field names) \n",
    "    writer.writerow(fields) \n",
    "        \n",
    "    # writing data rows \n",
    "    writer.writerows(rows)"
   ]
  },
  {
   "cell_type": "code",
   "execution_count": 14,
   "id": "4af599b2",
   "metadata": {},
   "outputs": [
    {
     "data": {
      "text/html": [
       "<div>\n",
       "<style scoped>\n",
       "    .dataframe tbody tr th:only-of-type {\n",
       "        vertical-align: middle;\n",
       "    }\n",
       "\n",
       "    .dataframe tbody tr th {\n",
       "        vertical-align: top;\n",
       "    }\n",
       "\n",
       "    .dataframe thead th {\n",
       "        text-align: right;\n",
       "    }\n",
       "</style>\n",
       "<table border=\"1\" class=\"dataframe\">\n",
       "  <thead>\n",
       "    <tr style=\"text-align: right;\">\n",
       "      <th></th>\n",
       "      <th>Name</th>\n",
       "      <th>Toothed</th>\n",
       "      <th>Hair</th>\n",
       "      <th>Breathes</th>\n",
       "      <th>Legs</th>\n",
       "      <th>Species</th>\n",
       "    </tr>\n",
       "  </thead>\n",
       "  <tbody>\n",
       "    <tr>\n",
       "      <th>0</th>\n",
       "      <td>Turtile</td>\n",
       "      <td>False</td>\n",
       "      <td>False</td>\n",
       "      <td>True</td>\n",
       "      <td>False</td>\n",
       "      <td>Reptile</td>\n",
       "    </tr>\n",
       "    <tr>\n",
       "      <th>1</th>\n",
       "      <td>Blue Whales</td>\n",
       "      <td>False</td>\n",
       "      <td>True</td>\n",
       "      <td>True</td>\n",
       "      <td>True</td>\n",
       "      <td>Mammal</td>\n",
       "    </tr>\n",
       "    <tr>\n",
       "      <th>2</th>\n",
       "      <td>Crocodile</td>\n",
       "      <td>True</td>\n",
       "      <td>False</td>\n",
       "      <td>True</td>\n",
       "      <td>True</td>\n",
       "      <td>Reptile</td>\n",
       "    </tr>\n",
       "  </tbody>\n",
       "</table>\n",
       "</div>"
      ],
      "text/plain": [
       "          Name  Toothed   Hair  Breathes   Legs  Species\n",
       "0      Turtile    False  False      True  False  Reptile\n",
       "1  Blue Whales    False   True      True   True   Mammal\n",
       "2    Crocodile     True  False      True   True  Reptile"
      ]
     },
     "execution_count": 14,
     "metadata": {},
     "output_type": "execute_result"
    }
   ],
   "source": [
    "test_set = pd.read_csv('testing.csv')\n",
    "test_set"
   ]
  },
  {
   "cell_type": "code",
   "execution_count": 15,
   "id": "615ca361",
   "metadata": {},
   "outputs": [
    {
     "data": {
      "text/html": [
       "<div>\n",
       "<style scoped>\n",
       "    .dataframe tbody tr th:only-of-type {\n",
       "        vertical-align: middle;\n",
       "    }\n",
       "\n",
       "    .dataframe tbody tr th {\n",
       "        vertical-align: top;\n",
       "    }\n",
       "\n",
       "    .dataframe thead th {\n",
       "        text-align: right;\n",
       "    }\n",
       "</style>\n",
       "<table border=\"1\" class=\"dataframe\">\n",
       "  <thead>\n",
       "    <tr style=\"text-align: right;\">\n",
       "      <th></th>\n",
       "      <th>Name</th>\n",
       "      <th>Toothed</th>\n",
       "      <th>Hair</th>\n",
       "      <th>Breathes</th>\n",
       "      <th>Legs</th>\n",
       "      <th>Species</th>\n",
       "      <th>Label</th>\n",
       "    </tr>\n",
       "  </thead>\n",
       "  <tbody>\n",
       "    <tr>\n",
       "      <th>0</th>\n",
       "      <td>Turtile</td>\n",
       "      <td>False</td>\n",
       "      <td>False</td>\n",
       "      <td>True</td>\n",
       "      <td>False</td>\n",
       "      <td>Reptile</td>\n",
       "      <td>1</td>\n",
       "    </tr>\n",
       "    <tr>\n",
       "      <th>1</th>\n",
       "      <td>Blue Whales</td>\n",
       "      <td>False</td>\n",
       "      <td>True</td>\n",
       "      <td>True</td>\n",
       "      <td>True</td>\n",
       "      <td>Mammal</td>\n",
       "      <td>0</td>\n",
       "    </tr>\n",
       "    <tr>\n",
       "      <th>2</th>\n",
       "      <td>Crocodile</td>\n",
       "      <td>True</td>\n",
       "      <td>False</td>\n",
       "      <td>True</td>\n",
       "      <td>True</td>\n",
       "      <td>Reptile</td>\n",
       "      <td>1</td>\n",
       "    </tr>\n",
       "  </tbody>\n",
       "</table>\n",
       "</div>"
      ],
      "text/plain": [
       "          Name  Toothed   Hair  Breathes   Legs  Species  Label\n",
       "0      Turtile    False  False      True  False  Reptile      1\n",
       "1  Blue Whales    False   True      True   True   Mammal      0\n",
       "2    Crocodile     True  False      True   True  Reptile      1"
      ]
     },
     "execution_count": 15,
     "metadata": {},
     "output_type": "execute_result"
    }
   ],
   "source": [
    "test_set[\"Label\"] = label_encoder.fit_transform(test_set[\"Species\"]) \n",
    "test_set"
   ]
  },
  {
   "cell_type": "markdown",
   "id": "74df623a",
   "metadata": {},
   "source": [
    "### Step4. [Perform prediction] \n",
    "- Use your ID3 DT model that you created before and predict labels for this test set. \n",
    "  Check your predictions. Correct? "
   ]
  },
  {
   "cell_type": "code",
   "execution_count": 16,
   "id": "0e81e289",
   "metadata": {},
   "outputs": [
    {
     "data": {
      "text/plain": [
       "array([1, 0, 0])"
      ]
     },
     "execution_count": 16,
     "metadata": {},
     "output_type": "execute_result"
    }
   ],
   "source": [
    "stp4 = test_set.drop(['Name','Species','Label'],axis=1)\n",
    "y_prd = clf.predict(stp4)\n",
    "y_prd"
   ]
  },
  {
   "cell_type": "code",
   "execution_count": 17,
   "id": "7391f89a",
   "metadata": {},
   "outputs": [
    {
     "data": {
      "text/plain": [
       "0.6666666666666666"
      ]
     },
     "execution_count": 17,
     "metadata": {},
     "output_type": "execute_result"
    }
   ],
   "source": [
    "accuracy_score(test_set.Label,y_prd)"
   ]
  },
  {
   "cell_type": "markdown",
   "id": "c9b872b6",
   "metadata": {},
   "source": [
    "### Step5. [Build CART Decision Tree Model] \n",
    "- Now, you are going to build a new CART decision tree using criterion=’gini’.\n",
    "- Train you model with full training data (No, train test split, this time) \n",
    "- Predict samples for the test file \n",
    "- Visualize your CART DT using graphviz "
   ]
  },
  {
   "cell_type": "code",
   "execution_count": 18,
   "id": "b47e9ec7",
   "metadata": {},
   "outputs": [
    {
     "data": {
      "text/plain": [
       "DecisionTreeClassifier(max_depth=4, random_state=42)"
      ]
     },
     "execution_count": 18,
     "metadata": {},
     "output_type": "execute_result"
    }
   ],
   "source": [
    "clf_1 = DecisionTreeClassifier(criterion='gini',max_depth=4, random_state=42)\n",
    "clf_1.fit(X,y)"
   ]
  },
  {
   "cell_type": "code",
   "execution_count": 19,
   "id": "79e5d3c1",
   "metadata": {},
   "outputs": [
    {
     "data": {
      "text/plain": [
       "array([1, 0, 1])"
      ]
     },
     "execution_count": 19,
     "metadata": {},
     "output_type": "execute_result"
    }
   ],
   "source": [
    "clf_1.predict(stp4)"
   ]
  },
  {
   "cell_type": "code",
   "execution_count": 20,
   "id": "d1e43c86",
   "metadata": {},
   "outputs": [],
   "source": [
    "with open(\"tree2.txt\", 'w') as f:\n",
    "    f = tree.export_graphviz(clf_1,out_file=f,max_depth = 4,impurity = False,feature_names = X.columns.values,class_names = categories,filled= True )"
   ]
  },
  {
   "cell_type": "markdown",
   "id": "9ea2f36a",
   "metadata": {},
   "source": [
    "#### Now open tree2.txt file which will be created in your working directory then Copy and paste the code to http://webgraphviz.com/"
   ]
  },
  {
   "cell_type": "markdown",
   "id": "5651012e",
   "metadata": {},
   "source": [
    "### Another Way to visualize"
   ]
  },
  {
   "cell_type": "code",
   "execution_count": 21,
   "id": "e86d57a9",
   "metadata": {},
   "outputs": [
    {
     "data": {
      "text/plain": [
       "[Text(167.4, 163.07999999999998, 'X[1] <= 0.5\\ngini = 0.48\\nsamples = 10\\nvalue = [6, 4]'),\n",
       " Text(83.7, 54.360000000000014, 'gini = 0.0\\nsamples = 4\\nvalue = [0, 4]'),\n",
       " Text(251.10000000000002, 54.360000000000014, 'gini = 0.0\\nsamples = 6\\nvalue = [6, 0]')]"
      ]
     },
     "execution_count": 21,
     "metadata": {},
     "output_type": "execute_result"
    },
    {
     "data": {
      "image/png": "[encoded data removed]",
      "text/plain": [
       "<Figure size 432x288 with 1 Axes>"
      ]
     },
     "metadata": {
      "needs_background": "light"
     },
     "output_type": "display_data"
    }
   ],
   "source": [
    "from sklearn import tree\n",
    "tree.plot_tree(clf_1)"
   ]
  },
  {
   "cell_type": "markdown",
   "id": "0b9bc1aa",
   "metadata": {},
   "source": [
    "### Step6. [Buid DT with Zoo dataset] \n",
    "- Download full animal dataset at https://archive.ics.uci.edu/ml/datasets/Zoo\n",
    "- Import, build model using ID3 and CART, train and test accuracy. Print classification report. \n",
    "  Visualize your trees."
   ]
  },
  {
   "cell_type": "code",
   "execution_count": 22,
   "id": "0b7af0e3",
   "metadata": {},
   "outputs": [],
   "source": [
    "animal_2 = pd.read_csv(\"zoo.csv\")"
   ]
  },
  {
   "cell_type": "code",
   "execution_count": 23,
   "id": "47c98312",
   "metadata": {},
   "outputs": [
    {
     "data": {
      "text/html": [
       "<div>\n",
       "<style scoped>\n",
       "    .dataframe tbody tr th:only-of-type {\n",
       "        vertical-align: middle;\n",
       "    }\n",
       "\n",
       "    .dataframe tbody tr th {\n",
       "        vertical-align: top;\n",
       "    }\n",
       "\n",
       "    .dataframe thead th {\n",
       "        text-align: right;\n",
       "    }\n",
       "</style>\n",
       "<table border=\"1\" class=\"dataframe\">\n",
       "  <thead>\n",
       "    <tr style=\"text-align: right;\">\n",
       "      <th></th>\n",
       "      <th>name</th>\n",
       "      <th>hair</th>\n",
       "      <th>feathers</th>\n",
       "      <th>eggs</th>\n",
       "      <th>milk</th>\n",
       "      <th>airborne</th>\n",
       "      <th>aquatic</th>\n",
       "      <th>predator</th>\n",
       "      <th>toothed</th>\n",
       "      <th>backbone</th>\n",
       "      <th>breathes</th>\n",
       "      <th>venomous</th>\n",
       "      <th>fins</th>\n",
       "      <th>legs</th>\n",
       "      <th>tail</th>\n",
       "      <th>domestic</th>\n",
       "      <th>catsize</th>\n",
       "      <th>type</th>\n",
       "    </tr>\n",
       "  </thead>\n",
       "  <tbody>\n",
       "    <tr>\n",
       "      <th>0</th>\n",
       "      <td>aardvark</td>\n",
       "      <td>1</td>\n",
       "      <td>0</td>\n",
       "      <td>0</td>\n",
       "      <td>1</td>\n",
       "      <td>0</td>\n",
       "      <td>0</td>\n",
       "      <td>1</td>\n",
       "      <td>1</td>\n",
       "      <td>1</td>\n",
       "      <td>1</td>\n",
       "      <td>0</td>\n",
       "      <td>0</td>\n",
       "      <td>4</td>\n",
       "      <td>0</td>\n",
       "      <td>0</td>\n",
       "      <td>1</td>\n",
       "      <td>1</td>\n",
       "    </tr>\n",
       "    <tr>\n",
       "      <th>1</th>\n",
       "      <td>antelope</td>\n",
       "      <td>1</td>\n",
       "      <td>0</td>\n",
       "      <td>0</td>\n",
       "      <td>1</td>\n",
       "      <td>0</td>\n",
       "      <td>0</td>\n",
       "      <td>0</td>\n",
       "      <td>1</td>\n",
       "      <td>1</td>\n",
       "      <td>1</td>\n",
       "      <td>0</td>\n",
       "      <td>0</td>\n",
       "      <td>4</td>\n",
       "      <td>1</td>\n",
       "      <td>0</td>\n",
       "      <td>1</td>\n",
       "      <td>1</td>\n",
       "    </tr>\n",
       "    <tr>\n",
       "      <th>2</th>\n",
       "      <td>bass</td>\n",
       "      <td>0</td>\n",
       "      <td>0</td>\n",
       "      <td>1</td>\n",
       "      <td>0</td>\n",
       "      <td>0</td>\n",
       "      <td>1</td>\n",
       "      <td>1</td>\n",
       "      <td>1</td>\n",
       "      <td>1</td>\n",
       "      <td>0</td>\n",
       "      <td>0</td>\n",
       "      <td>1</td>\n",
       "      <td>0</td>\n",
       "      <td>1</td>\n",
       "      <td>0</td>\n",
       "      <td>0</td>\n",
       "      <td>4</td>\n",
       "    </tr>\n",
       "    <tr>\n",
       "      <th>3</th>\n",
       "      <td>bear</td>\n",
       "      <td>1</td>\n",
       "      <td>0</td>\n",
       "      <td>0</td>\n",
       "      <td>1</td>\n",
       "      <td>0</td>\n",
       "      <td>0</td>\n",
       "      <td>1</td>\n",
       "      <td>1</td>\n",
       "      <td>1</td>\n",
       "      <td>1</td>\n",
       "      <td>0</td>\n",
       "      <td>0</td>\n",
       "      <td>4</td>\n",
       "      <td>0</td>\n",
       "      <td>0</td>\n",
       "      <td>1</td>\n",
       "      <td>1</td>\n",
       "    </tr>\n",
       "    <tr>\n",
       "      <th>4</th>\n",
       "      <td>boar</td>\n",
       "      <td>1</td>\n",
       "      <td>0</td>\n",
       "      <td>0</td>\n",
       "      <td>1</td>\n",
       "      <td>0</td>\n",
       "      <td>0</td>\n",
       "      <td>1</td>\n",
       "      <td>1</td>\n",
       "      <td>1</td>\n",
       "      <td>1</td>\n",
       "      <td>0</td>\n",
       "      <td>0</td>\n",
       "      <td>4</td>\n",
       "      <td>1</td>\n",
       "      <td>0</td>\n",
       "      <td>1</td>\n",
       "      <td>1</td>\n",
       "    </tr>\n",
       "  </tbody>\n",
       "</table>\n",
       "</div>"
      ],
      "text/plain": [
       "       name  hair  feathers  eggs  milk  airborne  aquatic  predator  toothed  \\\n",
       "0  aardvark     1         0     0     1         0        0         1        1   \n",
       "1  antelope     1         0     0     1         0        0         0        1   \n",
       "2      bass     0         0     1     0         0        1         1        1   \n",
       "3      bear     1         0     0     1         0        0         1        1   \n",
       "4      boar     1         0     0     1         0        0         1        1   \n",
       "\n",
       "   backbone  breathes  venomous  fins  legs  tail  domestic  catsize  type  \n",
       "0         1         1         0     0     4     0         0        1     1  \n",
       "1         1         1         0     0     4     1         0        1     1  \n",
       "2         1         0         0     1     0     1         0        0     4  \n",
       "3         1         1         0     0     4     0         0        1     1  \n",
       "4         1         1         0     0     4     1         0        1     1  "
      ]
     },
     "execution_count": 23,
     "metadata": {},
     "output_type": "execute_result"
    }
   ],
   "source": [
    "animal_2.head()"
   ]
  },
  {
   "cell_type": "code",
   "execution_count": 24,
   "id": "7051c94e",
   "metadata": {},
   "outputs": [
    {
     "data": {
      "text/plain": [
       "(101, 18)"
      ]
     },
     "execution_count": 24,
     "metadata": {},
     "output_type": "execute_result"
    }
   ],
   "source": [
    "animal_2.shape"
   ]
  },
  {
   "cell_type": "code",
   "execution_count": 25,
   "id": "49e97f66",
   "metadata": {},
   "outputs": [
    {
     "name": "stdout",
     "output_type": "stream",
     "text": [
      "<class 'pandas.core.frame.DataFrame'>\n",
      "RangeIndex: 101 entries, 0 to 100\n",
      "Data columns (total 18 columns):\n",
      " #   Column    Non-Null Count  Dtype \n",
      "---  ------    --------------  ----- \n",
      " 0   name      101 non-null    object\n",
      " 1   hair      101 non-null    int64 \n",
      " 2   feathers  101 non-null    int64 \n",
      " 3   eggs      101 non-null    int64 \n",
      " 4   milk      101 non-null    int64 \n",
      " 5   airborne  101 non-null    int64 \n",
      " 6   aquatic   101 non-null    int64 \n",
      " 7   predator  101 non-null    int64 \n",
      " 8   toothed   101 non-null    int64 \n",
      " 9   backbone  101 non-null    int64 \n",
      " 10  breathes  101 non-null    int64 \n",
      " 11  venomous  101 non-null    int64 \n",
      " 12  fins      101 non-null    int64 \n",
      " 13  legs      101 non-null    int64 \n",
      " 14  tail      101 non-null    int64 \n",
      " 15  domestic  101 non-null    int64 \n",
      " 16  catsize   101 non-null    int64 \n",
      " 17  type      101 non-null    int64 \n",
      "dtypes: int64(17), object(1)\n",
      "memory usage: 14.3+ KB\n"
     ]
    }
   ],
   "source": [
    "animal_2.info()"
   ]
  },
  {
   "cell_type": "code",
   "execution_count": 26,
   "id": "a25ff81b",
   "metadata": {},
   "outputs": [],
   "source": [
    "X1 = animal_2.drop(['name','type'],axis=1)\n",
    "y1 = animal_2.type"
   ]
  },
  {
   "cell_type": "code",
   "execution_count": 27,
   "id": "a5024211",
   "metadata": {},
   "outputs": [],
   "source": [
    "X__train,X__test,y__train,y__test = train_test_split(X1,y1,test_size=0.33,random_state=0)"
   ]
  },
  {
   "cell_type": "code",
   "execution_count": 28,
   "id": "a3ddffb6",
   "metadata": {},
   "outputs": [
    {
     "data": {
      "text/plain": [
       "DecisionTreeClassifier(criterion='entropy', max_depth=3, random_state=52)"
      ]
     },
     "execution_count": 28,
     "metadata": {},
     "output_type": "execute_result"
    }
   ],
   "source": [
    "clf_2 = DecisionTreeClassifier(criterion='entropy',max_depth=3, random_state=52)\n",
    "clf_2.fit(X__train,y__train)"
   ]
  },
  {
   "cell_type": "code",
   "execution_count": 29,
   "id": "5576b4c5",
   "metadata": {},
   "outputs": [
    {
     "data": {
      "text/plain": [
       "array([4, 4, 4, 1, 1, 1, 2, 4, 1, 1, 7, 1, 2, 7, 4, 6, 1, 7, 2, 4, 2, 4,\n",
       "       1, 2, 1, 1, 1, 2, 4, 4, 4, 4, 4, 1], dtype=int64)"
      ]
     },
     "execution_count": 29,
     "metadata": {},
     "output_type": "execute_result"
    }
   ],
   "source": [
    "clf_2.predict(X__test)"
   ]
  },
  {
   "cell_type": "code",
   "execution_count": 30,
   "id": "1bf075f0",
   "metadata": {},
   "outputs": [
    {
     "data": {
      "text/plain": [
       "DecisionTreeClassifier(max_depth=4, random_state=42)"
      ]
     },
     "execution_count": 30,
     "metadata": {},
     "output_type": "execute_result"
    }
   ],
   "source": [
    "clf_3 = DecisionTreeClassifier(criterion='gini',max_depth=4, random_state=42)\n",
    "clf_3.fit(X__train,y__train)"
   ]
  },
  {
   "cell_type": "code",
   "execution_count": 31,
   "id": "bba6015c",
   "metadata": {},
   "outputs": [
    {
     "data": {
      "text/plain": [
       "array([7, 4, 4, 1, 1, 1, 2, 4, 1, 1, 7, 1, 2, 7, 4, 6, 1, 7, 2, 4, 2, 7,\n",
       "       1, 2, 1, 1, 1, 2, 4, 7, 4, 7, 7, 1], dtype=int64)"
      ]
     },
     "execution_count": 31,
     "metadata": {},
     "output_type": "execute_result"
    }
   ],
   "source": [
    "y_pred=clf_3.predict(X__test)\n",
    "y_pred"
   ]
  },
  {
   "cell_type": "code",
   "execution_count": 32,
   "id": "39329323",
   "metadata": {},
   "outputs": [
    {
     "name": "stdout",
     "output_type": "stream",
     "text": [
      "model accuracy : 0.8235294117647058\n",
      "Train accuracy : 0.9253731343283582\n",
      "Test accuracy  : 0.8235294117647058\n"
     ]
    }
   ],
   "source": [
    "from sklearn.preprocessing import StandardScaler\n",
    "scale = StandardScaler()\n",
    "ss = scale.fit_transform(X__train)\n",
    "ss1 = scale.transform(X__test)\n",
    "\n",
    "print(\"model accuracy :\",accuracy_score(y__test,y_pred))\n",
    "print(\"Train accuracy :\",clf_3.score(ss,y__train))\n",
    "print(\"Test accuracy  :\",clf_3.score(ss1,y__test))"
   ]
  },
  {
   "cell_type": "code",
   "execution_count": 33,
   "id": "a09e347b",
   "metadata": {},
   "outputs": [
    {
     "data": {
      "text/plain": [
       "1    41\n",
       "2    20\n",
       "4    13\n",
       "7    10\n",
       "6     8\n",
       "3     5\n",
       "5     4\n",
       "Name: type, dtype: int64"
      ]
     },
     "execution_count": 33,
     "metadata": {},
     "output_type": "execute_result"
    }
   ],
   "source": [
    "animal_2.type.value_counts(dropna=False)"
   ]
  },
  {
   "cell_type": "code",
   "execution_count": 34,
   "id": "602546c2",
   "metadata": {},
   "outputs": [],
   "source": [
    "with open(\"tree3.txt\", 'w') as f:\n",
    "    f = tree.export_graphviz(clf_3,out_file=f,max_depth = 16,impurity = False,feature_names = X1.columns.values,class_names = ['1','2','3','4','5','6','7'] ,filled= True )"
   ]
  },
  {
   "cell_type": "code",
   "execution_count": 35,
   "id": "ae00d3c8",
   "metadata": {},
   "outputs": [
    {
     "name": "stdout",
     "output_type": "stream",
     "text": [
      "              precision    recall  f1-score   support\n",
      "\n",
      "           1       1.00      1.00      1.00        12\n",
      "           2       1.00      1.00      1.00         6\n",
      "           3       0.00      0.00      0.00         4\n",
      "           4       1.00      1.00      1.00         7\n",
      "           5       0.00      0.00      0.00         1\n",
      "           6       1.00      0.50      0.67         2\n",
      "           7       0.25      1.00      0.40         2\n",
      "\n",
      "    accuracy                           0.82        34\n",
      "   macro avg       0.61      0.64      0.58        34\n",
      "weighted avg       0.81      0.82      0.80        34\n",
      "\n"
     ]
    }
   ],
   "source": [
    "print(classification_report(y__test,y_pred))"
   ]
  },
  {
   "cell_type": "markdown",
   "id": "bffeadf8",
   "metadata": {},
   "source": [
    "#### Now open tree3.txt file which will be created in your working directory then Copy and paste the code to http://webgraphviz.com/"
   ]
  },
  {
   "cell_type": "code",
   "execution_count": 36,
   "id": "b7566a52",
   "metadata": {},
   "outputs": [
    {
     "data": {
      "text/plain": [
       "[Text(239.14285714285714, 195.696, 'X[3] <= 0.5\\ngini = 0.736\\nsamples = 67\\nvalue = [29, 14, 1, 6, 3, 6, 8]'),\n",
       " Text(191.31428571428572, 152.208, 'X[1] <= 0.5\\ngini = 0.763\\nsamples = 38\\nvalue = [0, 14, 1, 6, 3, 6, 8]'),\n",
       " Text(143.4857142857143, 108.72, 'X[11] <= 0.5\\ngini = 0.747\\nsamples = 24\\nvalue = [0, 0, 1, 6, 3, 6, 8]'),\n",
       " Text(95.65714285714286, 65.232, 'X[4] <= 0.5\\ngini = 0.66\\nsamples = 18\\nvalue = [0, 0, 1, 0, 3, 6, 8]'),\n",
       " Text(47.82857142857143, 21.744, 'gini = 0.556\\nsamples = 13\\nvalue = [0, 0, 1, 0, 3, 1, 8]'),\n",
       " Text(143.4857142857143, 21.744, 'gini = 0.0\\nsamples = 5\\nvalue = [0, 0, 0, 0, 0, 5, 0]'),\n",
       " Text(191.31428571428572, 65.232, 'gini = 0.0\\nsamples = 6\\nvalue = [0, 0, 0, 6, 0, 0, 0]'),\n",
       " Text(239.14285714285714, 108.72, 'gini = 0.0\\nsamples = 14\\nvalue = [0, 14, 0, 0, 0, 0, 0]'),\n",
       " Text(286.9714285714286, 152.208, 'gini = 0.0\\nsamples = 29\\nvalue = [29, 0, 0, 0, 0, 0, 0]')]"
      ]
     },
     "execution_count": 36,
     "metadata": {},
     "output_type": "execute_result"
    },
    {
     "data": {
      "image/png": "[encoded data removed]",
      "text/plain": [
       "<Figure size 432x288 with 1 Axes>"
      ]
     },
     "metadata": {
      "needs_background": "light"
     },
     "output_type": "display_data"
    }
   ],
   "source": [
    "from sklearn import tree\n",
    "tree.plot_tree(clf_3)"
   ]
  }
 ],
 "metadata": {
  "kernelspec": {
   "display_name": "Python 3",
   "language": "python",
   "name": "python3"
  },
  "language_info": {
   "codemirror_mode": {
    "name": "ipython",
    "version": 3
   },
   "file_extension": ".py",
   "mimetype": "text/x-python",
   "name": "python",
   "nbconvert_exporter": "python",
   "pygments_lexer": "ipython3",
   "version": "3.8.8"
  }
 },
 "nbformat": 4,
 "nbformat_minor": 5
}
