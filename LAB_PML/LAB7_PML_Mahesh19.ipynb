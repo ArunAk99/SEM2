{
 "cells": [
  {
   "cell_type": "markdown",
   "id": "2cfd872a",
   "metadata": {},
   "source": [
    "- Maheshvaran S\n",
    "- 205229119"
   ]
  },
  {
   "cell_type": "markdown",
   "id": "96296600",
   "metadata": {},
   "source": [
    "## Lab7. Loan Approval Classification using SVM"
   ]
  },
  {
   "cell_type": "markdown",
   "id": "a90df6bc",
   "metadata": {},
   "source": [
    "#### Objectives \n",
    "In this lab, you will build a classification model to classify the loan applicants into eligible applicants or not \n",
    "eligible applicants using Support Vector Machine. "
   ]
  },
  {
   "cell_type": "markdown",
   "id": "3fb7b56f",
   "metadata": {},
   "source": [
    "#### Learning Outcomes \n",
    "After completing this lab, you will be able to \n",
    "- Apply data cleaning methods \n",
    "- Perform EDA and understand who got their loans approved \n",
    "- Do feature engineering with One Hot Encoding \n",
    "- Create LinearSVC model, train and predict on the data \n",
    "- Print accuracy, confusion matrix and classification report \n",
    "- Compare LinearSVC model with SVC and SGDClassifier models "
   ]
  },
  {
   "cell_type": "markdown",
   "id": "8487b969",
   "metadata": {},
   "source": [
    "#### Business Use Case \n",
    "Heber Housing Finance deals in all home loans. They have presence across all urban, semi urban and rural \n",
    "areas. Customer first apply for home loan after that company validates the customer eligibility for loan. \n",
    "However doing this manually takes a lot of time. Hence, it wants you to automate the loan approval \n",
    "process (real time) based on customer information. So you should identify all features and build a model \n",
    "that enable the company to approve the load application or not. \n",
    "\n",
    "The dataset contains the details of 614 loan applicants, where each applicant is described with 12 \n",
    "features. Loan_Status is the target feature (ie., dependent variable) and all others are independent \n",
    "variables."
   ]
  },
  {
   "cell_type": "markdown",
   "id": "aa9292b0",
   "metadata": {},
   "source": [
    "#### Step1. [Understand Data]. Using Pandas, import “train_loan.csv” file and print properties such as head, shape, columns, dtype, info and value_counts"
   ]
  },
  {
   "cell_type": "code",
   "execution_count": 1,
   "id": "cb647fb9",
   "metadata": {},
   "outputs": [
    {
     "data": {
      "text/html": [
       "<div>\n",
       "<style scoped>\n",
       "    .dataframe tbody tr th:only-of-type {\n",
       "        vertical-align: middle;\n",
       "    }\n",
       "\n",
       "    .dataframe tbody tr th {\n",
       "        vertical-align: top;\n",
       "    }\n",
       "\n",
       "    .dataframe thead th {\n",
       "        text-align: right;\n",
       "    }\n",
       "</style>\n",
       "<table border=\"1\" class=\"dataframe\">\n",
       "  <thead>\n",
       "    <tr style=\"text-align: right;\">\n",
       "      <th></th>\n",
       "      <th>Loan_ID</th>\n",
       "      <th>Gender</th>\n",
       "      <th>Married</th>\n",
       "      <th>Dependents</th>\n",
       "      <th>Education</th>\n",
       "      <th>Self_Employed</th>\n",
       "      <th>ApplicantIncome</th>\n",
       "      <th>CoapplicantIncome</th>\n",
       "      <th>LoanAmount</th>\n",
       "      <th>Loan_Amount_Term</th>\n",
       "      <th>Credit_History</th>\n",
       "      <th>Property_Area</th>\n",
       "      <th>Loan_Status</th>\n",
       "    </tr>\n",
       "  </thead>\n",
       "  <tbody>\n",
       "    <tr>\n",
       "      <th>0</th>\n",
       "      <td>LP001002</td>\n",
       "      <td>Male</td>\n",
       "      <td>No</td>\n",
       "      <td>0</td>\n",
       "      <td>Graduate</td>\n",
       "      <td>No</td>\n",
       "      <td>5849</td>\n",
       "      <td>0.0</td>\n",
       "      <td>NaN</td>\n",
       "      <td>360.0</td>\n",
       "      <td>1.0</td>\n",
       "      <td>Urban</td>\n",
       "      <td>Y</td>\n",
       "    </tr>\n",
       "    <tr>\n",
       "      <th>1</th>\n",
       "      <td>LP001003</td>\n",
       "      <td>Male</td>\n",
       "      <td>Yes</td>\n",
       "      <td>1</td>\n",
       "      <td>Graduate</td>\n",
       "      <td>No</td>\n",
       "      <td>4583</td>\n",
       "      <td>1508.0</td>\n",
       "      <td>128.0</td>\n",
       "      <td>360.0</td>\n",
       "      <td>1.0</td>\n",
       "      <td>Rural</td>\n",
       "      <td>N</td>\n",
       "    </tr>\n",
       "    <tr>\n",
       "      <th>2</th>\n",
       "      <td>LP001005</td>\n",
       "      <td>Male</td>\n",
       "      <td>Yes</td>\n",
       "      <td>0</td>\n",
       "      <td>Graduate</td>\n",
       "      <td>Yes</td>\n",
       "      <td>3000</td>\n",
       "      <td>0.0</td>\n",
       "      <td>66.0</td>\n",
       "      <td>360.0</td>\n",
       "      <td>1.0</td>\n",
       "      <td>Urban</td>\n",
       "      <td>Y</td>\n",
       "    </tr>\n",
       "    <tr>\n",
       "      <th>3</th>\n",
       "      <td>LP001006</td>\n",
       "      <td>Male</td>\n",
       "      <td>Yes</td>\n",
       "      <td>0</td>\n",
       "      <td>Not Graduate</td>\n",
       "      <td>No</td>\n",
       "      <td>2583</td>\n",
       "      <td>2358.0</td>\n",
       "      <td>120.0</td>\n",
       "      <td>360.0</td>\n",
       "      <td>1.0</td>\n",
       "      <td>Urban</td>\n",
       "      <td>Y</td>\n",
       "    </tr>\n",
       "    <tr>\n",
       "      <th>4</th>\n",
       "      <td>LP001008</td>\n",
       "      <td>Male</td>\n",
       "      <td>No</td>\n",
       "      <td>0</td>\n",
       "      <td>Graduate</td>\n",
       "      <td>No</td>\n",
       "      <td>6000</td>\n",
       "      <td>0.0</td>\n",
       "      <td>141.0</td>\n",
       "      <td>360.0</td>\n",
       "      <td>1.0</td>\n",
       "      <td>Urban</td>\n",
       "      <td>Y</td>\n",
       "    </tr>\n",
       "  </tbody>\n",
       "</table>\n",
       "</div>"
      ],
      "text/plain": [
       "    Loan_ID Gender Married Dependents     Education Self_Employed  \\\n",
       "0  LP001002   Male      No          0      Graduate            No   \n",
       "1  LP001003   Male     Yes          1      Graduate            No   \n",
       "2  LP001005   Male     Yes          0      Graduate           Yes   \n",
       "3  LP001006   Male     Yes          0  Not Graduate            No   \n",
       "4  LP001008   Male      No          0      Graduate            No   \n",
       "\n",
       "   ApplicantIncome  CoapplicantIncome  LoanAmount  Loan_Amount_Term  \\\n",
       "0             5849                0.0         NaN             360.0   \n",
       "1             4583             1508.0       128.0             360.0   \n",
       "2             3000                0.0        66.0             360.0   \n",
       "3             2583             2358.0       120.0             360.0   \n",
       "4             6000                0.0       141.0             360.0   \n",
       "\n",
       "   Credit_History Property_Area Loan_Status  \n",
       "0             1.0         Urban           Y  \n",
       "1             1.0         Rural           N  \n",
       "2             1.0         Urban           Y  \n",
       "3             1.0         Urban           Y  \n",
       "4             1.0         Urban           Y  "
      ]
     },
     "execution_count": 1,
     "metadata": {},
     "output_type": "execute_result"
    }
   ],
   "source": [
    "import pandas as pd\n",
    "import matplotlib.pyplot as plt\n",
    "\n",
    "train_data = pd.read_csv('train_loan.csv')\n",
    "train_data.head()"
   ]
  },
  {
   "cell_type": "code",
   "execution_count": 2,
   "id": "bf59acb0",
   "metadata": {},
   "outputs": [
    {
     "data": {
      "text/plain": [
       "(614, 13)"
      ]
     },
     "execution_count": 2,
     "metadata": {},
     "output_type": "execute_result"
    }
   ],
   "source": [
    "train_data.shape"
   ]
  },
  {
   "cell_type": "code",
   "execution_count": 3,
   "id": "c7403ada",
   "metadata": {},
   "outputs": [
    {
     "data": {
      "text/plain": [
       "Index(['Loan_ID', 'Gender', 'Married', 'Dependents', 'Education',\n",
       "       'Self_Employed', 'ApplicantIncome', 'CoapplicantIncome', 'LoanAmount',\n",
       "       'Loan_Amount_Term', 'Credit_History', 'Property_Area', 'Loan_Status'],\n",
       "      dtype='object')"
      ]
     },
     "execution_count": 3,
     "metadata": {},
     "output_type": "execute_result"
    }
   ],
   "source": [
    "train_data.columns"
   ]
  },
  {
   "cell_type": "code",
   "execution_count": 4,
   "id": "8b4de023",
   "metadata": {},
   "outputs": [
    {
     "data": {
      "text/plain": [
       "Loan_ID               object\n",
       "Gender                object\n",
       "Married               object\n",
       "Dependents            object\n",
       "Education             object\n",
       "Self_Employed         object\n",
       "ApplicantIncome        int64\n",
       "CoapplicantIncome    float64\n",
       "LoanAmount           float64\n",
       "Loan_Amount_Term     float64\n",
       "Credit_History       float64\n",
       "Property_Area         object\n",
       "Loan_Status           object\n",
       "dtype: object"
      ]
     },
     "execution_count": 4,
     "metadata": {},
     "output_type": "execute_result"
    }
   ],
   "source": [
    "train_data.dtypes"
   ]
  },
  {
   "cell_type": "code",
   "execution_count": 5,
   "id": "21dc8db7",
   "metadata": {},
   "outputs": [
    {
     "name": "stdout",
     "output_type": "stream",
     "text": [
      "<class 'pandas.core.frame.DataFrame'>\n",
      "RangeIndex: 614 entries, 0 to 613\n",
      "Data columns (total 13 columns):\n",
      " #   Column             Non-Null Count  Dtype  \n",
      "---  ------             --------------  -----  \n",
      " 0   Loan_ID            614 non-null    object \n",
      " 1   Gender             601 non-null    object \n",
      " 2   Married            611 non-null    object \n",
      " 3   Dependents         599 non-null    object \n",
      " 4   Education          614 non-null    object \n",
      " 5   Self_Employed      582 non-null    object \n",
      " 6   ApplicantIncome    614 non-null    int64  \n",
      " 7   CoapplicantIncome  614 non-null    float64\n",
      " 8   LoanAmount         592 non-null    float64\n",
      " 9   Loan_Amount_Term   600 non-null    float64\n",
      " 10  Credit_History     564 non-null    float64\n",
      " 11  Property_Area      614 non-null    object \n",
      " 12  Loan_Status        614 non-null    object \n",
      "dtypes: float64(4), int64(1), object(8)\n",
      "memory usage: 62.5+ KB\n"
     ]
    }
   ],
   "source": [
    "train_data.info()"
   ]
  },
  {
   "cell_type": "code",
   "execution_count": 6,
   "id": "d34ea689",
   "metadata": {},
   "outputs": [
    {
     "data": {
      "text/plain": [
       "<bound method DataFrame.value_counts of       Loan_ID  Gender Married Dependents     Education Self_Employed  \\\n",
       "0    LP001002    Male      No          0      Graduate            No   \n",
       "1    LP001003    Male     Yes          1      Graduate            No   \n",
       "2    LP001005    Male     Yes          0      Graduate           Yes   \n",
       "3    LP001006    Male     Yes          0  Not Graduate            No   \n",
       "4    LP001008    Male      No          0      Graduate            No   \n",
       "..        ...     ...     ...        ...           ...           ...   \n",
       "609  LP002978  Female      No          0      Graduate            No   \n",
       "610  LP002979    Male     Yes         3+      Graduate            No   \n",
       "611  LP002983    Male     Yes          1      Graduate            No   \n",
       "612  LP002984    Male     Yes          2      Graduate            No   \n",
       "613  LP002990  Female      No          0      Graduate           Yes   \n",
       "\n",
       "     ApplicantIncome  CoapplicantIncome  LoanAmount  Loan_Amount_Term  \\\n",
       "0               5849                0.0         NaN             360.0   \n",
       "1               4583             1508.0       128.0             360.0   \n",
       "2               3000                0.0        66.0             360.0   \n",
       "3               2583             2358.0       120.0             360.0   \n",
       "4               6000                0.0       141.0             360.0   \n",
       "..               ...                ...         ...               ...   \n",
       "609             2900                0.0        71.0             360.0   \n",
       "610             4106                0.0        40.0             180.0   \n",
       "611             8072              240.0       253.0             360.0   \n",
       "612             7583                0.0       187.0             360.0   \n",
       "613             4583                0.0       133.0             360.0   \n",
       "\n",
       "     Credit_History Property_Area Loan_Status  \n",
       "0               1.0         Urban           Y  \n",
       "1               1.0         Rural           N  \n",
       "2               1.0         Urban           Y  \n",
       "3               1.0         Urban           Y  \n",
       "4               1.0         Urban           Y  \n",
       "..              ...           ...         ...  \n",
       "609             1.0         Rural           Y  \n",
       "610             1.0         Rural           Y  \n",
       "611             1.0         Urban           Y  \n",
       "612             1.0         Urban           Y  \n",
       "613             0.0     Semiurban           N  \n",
       "\n",
       "[614 rows x 13 columns]>"
      ]
     },
     "execution_count": 6,
     "metadata": {},
     "output_type": "execute_result"
    }
   ],
   "source": [
    "train_data.value_counts"
   ]
  },
  {
   "cell_type": "markdown",
   "id": "5c757482",
   "metadata": {},
   "source": [
    "#### Step2. [Data Cleaning] \n",
    "- Replace numbers as string by integer in “Dependents” column\n",
    "- Fill missing data in categorical columns (Gender, Married, Dependents, Education, \n",
    "Self_Employed, Credit_History) by its mode value \n",
    "- Handle missing values in numberical columns \n",
    "- Drop Loan_ID column "
   ]
  },
  {
   "cell_type": "code",
   "execution_count": 7,
   "id": "4a2d1160",
   "metadata": {},
   "outputs": [
    {
     "data": {
      "text/plain": [
       "0     345\n",
       "1     102\n",
       "2     101\n",
       "3+     51\n",
       "Name: Dependents, dtype: int64"
      ]
     },
     "execution_count": 7,
     "metadata": {},
     "output_type": "execute_result"
    }
   ],
   "source": [
    "train_data.Dependents.value_counts()"
   ]
  },
  {
   "cell_type": "code",
   "execution_count": 8,
   "id": "c5fdf65e",
   "metadata": {},
   "outputs": [],
   "source": [
    "#Replace numbers as string by integer in 'Dependents' column\n",
    "def string(x):\n",
    "    if x == '0':\n",
    "        return 'bad'\n",
    "    elif x == '1':\n",
    "        return 'average'\n",
    "    elif x == '2':\n",
    "        return 'good'\n",
    "    else:\n",
    "        return 'excellent'"
   ]
  },
  {
   "cell_type": "code",
   "execution_count": 9,
   "id": "be3121ed",
   "metadata": {},
   "outputs": [],
   "source": [
    "train_data['Dependents'] = train_data['Dependents'].apply(string)"
   ]
  },
  {
   "cell_type": "code",
   "execution_count": 10,
   "id": "b47290f5",
   "metadata": {},
   "outputs": [
    {
     "data": {
      "text/plain": [
       "Loan_ID               0\n",
       "Gender               13\n",
       "Married               3\n",
       "Dependents            0\n",
       "Education             0\n",
       "Self_Employed        32\n",
       "ApplicantIncome       0\n",
       "CoapplicantIncome     0\n",
       "LoanAmount           22\n",
       "Loan_Amount_Term     14\n",
       "Credit_History       50\n",
       "Property_Area         0\n",
       "Loan_Status           0\n",
       "dtype: int64"
      ]
     },
     "execution_count": 10,
     "metadata": {},
     "output_type": "execute_result"
    }
   ],
   "source": [
    "train_data.isna().sum()"
   ]
  },
  {
   "cell_type": "code",
   "execution_count": 11,
   "id": "16e21042",
   "metadata": {},
   "outputs": [],
   "source": [
    "#categorical\n",
    "train_data['Gender'].fillna(train_data['Gender'].mode()[0], inplace=True)\n",
    "train_data['Married'].fillna(train_data['Married'].mode()[0], inplace=True)\n",
    "train_data['Dependents'].fillna(train_data['Dependents'].mode()[0], inplace=True)\n",
    "train_data['Loan_Amount_Term'].fillna(train_data['Loan_Amount_Term'].mode()[0], inplace=True)\n",
    "train_data['Credit_History'].fillna(train_data['Credit_History'].mode()[0], inplace=True)\n",
    "train_data['Self_Employed'].fillna(train_data['Self_Employed'].mode()[0], inplace=True)\n",
    "#numerical\n",
    "train_data['LoanAmount'].fillna(train_data['LoanAmount'].mean(), inplace=True)"
   ]
  },
  {
   "cell_type": "code",
   "execution_count": 12,
   "id": "564e7873",
   "metadata": {},
   "outputs": [],
   "source": [
    "train_data=train_data.drop(['Loan_ID'],axis=1)"
   ]
  },
  {
   "cell_type": "markdown",
   "id": "60426c7c",
   "metadata": {},
   "source": [
    "#### Step3. [OPTIONAL: Exploratory Data Analysis - Who got their loan approved] \n",
    "Draw count plot for \n",
    "- Married? \n",
    "- Dependants? \n",
    "- Graduates? \n",
    "- Self-employed? "
   ]
  },
  {
   "cell_type": "code",
   "execution_count": 13,
   "id": "ad7b7c71",
   "metadata": {},
   "outputs": [
    {
     "data": {
      "image/png": "[encoded data removed]",
      "text/plain": [
       "<Figure size 1440x720 with 4 Axes>"
      ]
     },
     "metadata": {
      "needs_background": "light"
     },
     "output_type": "display_data"
    }
   ],
   "source": [
    "plt.subplot(231)\n",
    "train_data['Married'].value_counts().plot(kind='bar',title='Gender',figsize = (20,10))\n",
    "\n",
    "plt.subplot(232)\n",
    "train_data['Dependents'].value_counts().plot(kind='bar',title='Dependents')\n",
    "\n",
    "plt.subplot(233)\n",
    "train_data['Education'].value_counts().plot(kind='bar',title='Education')\n",
    "\n",
    "plt.subplot(234)\n",
    "train_data['Self_Employed'].value_counts().plot(kind='bar',title='Self_Employed')\n",
    "\n",
    "plt.show()"
   ]
  },
  {
   "cell_type": "markdown",
   "id": "2655666f",
   "metadata": {},
   "source": [
    "#### Step4. [Extract X and y] from the dataframe"
   ]
  },
  {
   "cell_type": "code",
   "execution_count": 14,
   "id": "a7c01409",
   "metadata": {},
   "outputs": [],
   "source": [
    "X = train_data.drop(['Loan_Status'],axis=1)\n",
    "y = train_data.Loan_Status"
   ]
  },
  {
   "cell_type": "markdown",
   "id": "fa9b68be",
   "metadata": {},
   "source": [
    "#### Step5. [One Hot Encoding] \n",
    "Perform OHE on categorical columns, use this method: X = pd.get_dummies(X) "
   ]
  },
  {
   "cell_type": "code",
   "execution_count": 15,
   "id": "6a92e83e",
   "metadata": {},
   "outputs": [],
   "source": [
    "import warnings\n",
    "warnings.filterwarnings('ignore')"
   ]
  },
  {
   "cell_type": "code",
   "execution_count": 16,
   "id": "18e6820a",
   "metadata": {},
   "outputs": [],
   "source": [
    "X = pd.get_dummies(X)"
   ]
  },
  {
   "cell_type": "markdown",
   "id": "ce5beea5",
   "metadata": {},
   "source": [
    "#### Step6. [Model Building] \n",
    "- Split X and y for training and testing \n",
    "- Using StandardScaler, fit_transform on X_train and transform on X_test values \n",
    "- create LinearSVC model, train and test \n",
    "- print accuracy value \n",
    "- Print confusion matrix between y_test and y_pred \n",
    "- Print classification_report "
   ]
  },
  {
   "cell_type": "code",
   "execution_count": 17,
   "id": "e48f2cd5",
   "metadata": {},
   "outputs": [],
   "source": [
    "from sklearn.model_selection import train_test_split\n",
    "X_train, X_test, y_train, y_test = train_test_split(X,y,test_size=0.3,random_state=0)"
   ]
  },
  {
   "cell_type": "code",
   "execution_count": 18,
   "id": "7b6f1ce7",
   "metadata": {},
   "outputs": [],
   "source": [
    "from sklearn.preprocessing import StandardScaler\n",
    "scale = StandardScaler()"
   ]
  },
  {
   "cell_type": "code",
   "execution_count": 19,
   "id": "eeb5c20d",
   "metadata": {},
   "outputs": [],
   "source": [
    "ss = scale.fit_transform(X_train)\n",
    "ss1 = scale.transform(X_test)"
   ]
  },
  {
   "cell_type": "code",
   "execution_count": 20,
   "id": "a5e7ee30",
   "metadata": {},
   "outputs": [
    {
     "data": {
      "text/plain": [
       "LinearSVC()"
      ]
     },
     "execution_count": 20,
     "metadata": {},
     "output_type": "execute_result"
    }
   ],
   "source": [
    "from sklearn.svm import LinearSVC\n",
    "model = LinearSVC()\n",
    "model.fit(ss,y_train)"
   ]
  },
  {
   "cell_type": "code",
   "execution_count": 21,
   "id": "13e209d5",
   "metadata": {},
   "outputs": [
    {
     "data": {
      "text/plain": [
       "array(['Y', 'Y', 'Y', 'Y', 'Y', 'N', 'Y', 'Y', 'N', 'Y', 'Y', 'Y', 'Y',\n",
       "       'Y', 'Y', 'Y', 'Y', 'Y', 'Y', 'N', 'N', 'Y', 'Y', 'Y', 'Y', 'Y',\n",
       "       'Y', 'Y', 'N', 'N', 'Y', 'Y', 'Y', 'Y', 'Y', 'N', 'Y', 'Y', 'Y',\n",
       "       'Y', 'Y', 'N', 'Y', 'Y', 'Y', 'Y', 'Y', 'Y', 'Y', 'Y', 'Y', 'Y',\n",
       "       'Y', 'Y', 'Y', 'Y', 'Y', 'Y', 'Y', 'Y', 'N', 'Y', 'Y', 'N', 'Y',\n",
       "       'Y', 'Y', 'Y', 'Y', 'Y', 'Y', 'Y', 'Y', 'Y', 'Y', 'Y', 'N', 'Y',\n",
       "       'Y', 'N', 'Y', 'Y', 'Y', 'Y', 'Y', 'Y', 'Y', 'Y', 'Y', 'Y', 'Y',\n",
       "       'Y', 'Y', 'N', 'Y', 'N', 'Y', 'Y', 'Y', 'Y', 'Y', 'Y', 'Y', 'Y',\n",
       "       'Y', 'Y', 'Y', 'Y', 'Y', 'Y', 'Y', 'Y', 'Y', 'Y', 'N', 'N', 'Y',\n",
       "       'Y', 'Y', 'Y', 'Y', 'N', 'Y', 'Y', 'Y', 'N', 'Y', 'Y', 'Y', 'Y',\n",
       "       'Y', 'Y', 'Y', 'Y', 'Y', 'Y', 'Y', 'Y', 'Y', 'Y', 'Y', 'Y', 'N',\n",
       "       'Y', 'Y', 'Y', 'Y', 'Y', 'N', 'N', 'Y', 'Y', 'Y', 'N', 'Y', 'Y',\n",
       "       'Y', 'Y', 'Y', 'Y', 'Y', 'Y', 'Y', 'Y', 'Y', 'Y', 'Y', 'Y', 'N',\n",
       "       'Y', 'N', 'Y', 'Y', 'Y', 'Y', 'Y', 'Y', 'Y', 'Y', 'Y', 'Y', 'Y',\n",
       "       'Y', 'Y', 'Y'], dtype=object)"
      ]
     },
     "execution_count": 21,
     "metadata": {},
     "output_type": "execute_result"
    }
   ],
   "source": [
    "Lsvc_y_pred = model.predict(ss1)\n",
    "Lsvc_y_pred"
   ]
  },
  {
   "cell_type": "code",
   "execution_count": 22,
   "id": "23305486",
   "metadata": {},
   "outputs": [
    {
     "data": {
      "text/plain": [
       "0.8324324324324325"
      ]
     },
     "execution_count": 22,
     "metadata": {},
     "output_type": "execute_result"
    }
   ],
   "source": [
    "from sklearn.metrics import accuracy_score,confusion_matrix, classification_report\n",
    "accuracy_score(y_test,Lsvc_y_pred)"
   ]
  },
  {
   "cell_type": "code",
   "execution_count": 23,
   "id": "06c4926c",
   "metadata": {},
   "outputs": [
    {
     "data": {
      "text/plain": [
       "array([[ 22,  29],\n",
       "       [  2, 132]], dtype=int64)"
      ]
     },
     "execution_count": 23,
     "metadata": {},
     "output_type": "execute_result"
    }
   ],
   "source": [
    "confusion_matrix(y_test,Lsvc_y_pred)\n"
   ]
  },
  {
   "cell_type": "code",
   "execution_count": 24,
   "id": "f802950f",
   "metadata": {},
   "outputs": [
    {
     "name": "stdout",
     "output_type": "stream",
     "text": [
      "              precision    recall  f1-score   support\n",
      "\n",
      "           N       0.92      0.43      0.59        51\n",
      "           Y       0.82      0.99      0.89       134\n",
      "\n",
      "    accuracy                           0.83       185\n",
      "   macro avg       0.87      0.71      0.74       185\n",
      "weighted avg       0.85      0.83      0.81       185\n",
      "\n"
     ]
    }
   ],
   "source": [
    "print(classification_report(y_test,Lsvc_y_pred))"
   ]
  },
  {
   "cell_type": "markdown",
   "id": "5c394038",
   "metadata": {},
   "source": [
    "#### Step7. [Performance Comparisons] "
   ]
  },
  {
   "cell_type": "markdown",
   "id": "35a1e72b",
   "metadata": {},
   "source": [
    "#### 1. Compare the performance of LinearSVC against LogisticRegression"
   ]
  },
  {
   "cell_type": "code",
   "execution_count": 25,
   "id": "123e3372",
   "metadata": {},
   "outputs": [
    {
     "name": "stdout",
     "output_type": "stream",
     "text": [
      "LogisticRegression: 0.8324324324324325\n",
      "LinearSVC         : 0.8324324324324325\n"
     ]
    }
   ],
   "source": [
    "from sklearn.linear_model import LogisticRegression\n",
    "\n",
    "lgr= LogisticRegression()\n",
    "lgr.fit(ss,y_train)\n",
    "lr_y_pred = lgr.predict(ss1) \n",
    "\n",
    "from sklearn.svm import LinearSVC\n",
    "\n",
    "l_svc = LinearSVC()\n",
    "l_svc.fit(ss,y_train)\n",
    "lsvc_y_pred = l_svc.predict(ss1)\n",
    "\n",
    "print(\"LogisticRegression:\",accuracy_score(y_test,lr_y_pred))\n",
    "print(\"LinearSVC         :\",accuracy_score(y_test,lsvc_y_pred))"
   ]
  },
  {
   "cell_type": "code",
   "execution_count": 26,
   "id": "a3b7c05d",
   "metadata": {},
   "outputs": [
    {
     "name": "stdout",
     "output_type": "stream",
     "text": [
      "SVC: 0.564120 (0.138692)\n",
      "LR: 0.797231 (0.070487)\n"
     ]
    },
    {
     "data": {
      "image/png": "[encoded data removed]",
      "text/plain": [
       "<Figure size 432x288 with 1 Axes>"
      ]
     },
     "metadata": {
      "needs_background": "light"
     },
     "output_type": "display_data"
    }
   ],
   "source": [
    "from sklearn import svm,model_selection\n",
    "models = []\n",
    "models.append(('SVC', LinearSVC()))\n",
    "models.append(('LR', LogisticRegression()))\n",
    "\n",
    "# evaluate each model in turn\n",
    "results = []\n",
    "names=[]\n",
    "scoring = 'accuracy'\n",
    "for name,model in models:\n",
    "    kfold = model_selection.KFold(n_splits=10)\n",
    "    cv_results = model_selection.cross_val_score(model, X_train, y_train, cv=kfold, scoring=scoring)\n",
    "    results.append(cv_results)\n",
    "    names.append(name)\n",
    "    msg = \"%s: %f (%f)\" % (name, cv_results.mean(), cv_results.std())\n",
    "    print(msg)\n",
    "# boxplot algorithm comparison\n",
    "fig = plt.figure()\n",
    "fig.suptitle('Comparison between different MLAs')\n",
    "ax = fig.add_subplot(111)\n",
    "plt.boxplot(results)\n",
    "plt.show()"
   ]
  },
  {
   "cell_type": "markdown",
   "id": "2bab33b4",
   "metadata": {},
   "source": [
    "#### 2. Compare the performance of LinearSVC against SGDClassifier"
   ]
  },
  {
   "cell_type": "code",
   "execution_count": 27,
   "id": "32c896c7",
   "metadata": {},
   "outputs": [
    {
     "name": "stdout",
     "output_type": "stream",
     "text": [
      "SVC: 0.577796 (0.156098)\n",
      "SGD: 0.529236 (0.153889)\n"
     ]
    },
    {
     "data": {
      "image/png": "[encoded data removed]",
      "text/plain": [
       "<Figure size 432x288 with 1 Axes>"
      ]
     },
     "metadata": {
      "needs_background": "light"
     },
     "output_type": "display_data"
    }
   ],
   "source": [
    "from sklearn.linear_model import SGDClassifier\n",
    "\n",
    "modelss = []\n",
    "modelss.append(('SVC', LinearSVC()))\n",
    "modelss.append(('SGD', SGDClassifier()))\n",
    "\n",
    "# evaluate each model in turn\n",
    "results = []\n",
    "names=[]\n",
    "scoring = 'accuracy'\n",
    "for name,model in modelss:\n",
    "    kfold = model_selection.KFold(n_splits=10)\n",
    "    cv_results = model_selection.cross_val_score(model, X_train, y_train, cv=kfold, scoring=scoring)\n",
    "    results.append(cv_results)\n",
    "    names.append(name)\n",
    "    msg = \"%s: %f (%f)\" % (name, cv_results.mean(), cv_results.std())\n",
    "    print(msg)\n",
    "# boxplot algorithm comparison\n",
    "fig = plt.figure()\n",
    "fig.suptitle('Comparison between different MLAs')\n",
    "ax = fig.add_subplot(111)\n",
    "plt.boxplot(results)\n",
    "plt.show()"
   ]
  },
  {
   "cell_type": "code",
   "execution_count": 28,
   "id": "2c4839a1",
   "metadata": {},
   "outputs": [
    {
     "name": "stdout",
     "output_type": "stream",
     "text": [
      "SGDClassifier: 0.6324324324324324\n",
      "LinearSVC    : 0.8324324324324325\n"
     ]
    }
   ],
   "source": [
    "from sklearn.linear_model import SGDClassifier\n",
    "\n",
    "sgd = SGDClassifier()\n",
    "sgd.fit(ss,y_train)\n",
    "sgdc_y_pred = sgd.predict(ss1)\n",
    "\n",
    "from sklearn.svm import LinearSVC\n",
    "\n",
    "l_svc = LinearSVC()\n",
    "l_svc.fit(ss,y_train)\n",
    "lsvc_y_pred = l_svc.predict(ss1)\n",
    "\n",
    "print(\"SGDClassifier:\", accuracy_score(y_test,sgdc_y_pred))\n",
    "print(\"LinearSVC    :\",accuracy_score(y_test,lsvc_y_pred))"
   ]
  },
  {
   "cell_type": "markdown",
   "id": "07d5f05f",
   "metadata": {},
   "source": [
    "#### 3. Compare LinearSVC against SVC with various kernels such as ‘linear’, ‘poly’, ‘rbf’ and ‘sigmoid’"
   ]
  },
  {
   "cell_type": "code",
   "execution_count": 29,
   "id": "9d0fd222",
   "metadata": {},
   "outputs": [
    {
     "name": "stdout",
     "output_type": "stream",
     "text": [
      "LinearSVC   : 0.8324324324324325\n",
      "poly SVC    : 0.8162162162162162\n",
      "rbf SVC     : 0.8324324324324325\n",
      "Sigmoid SVC : 0.8054054054054054\n"
     ]
    }
   ],
   "source": [
    "from sklearn.svm import SVC\n",
    "\n",
    "l_svc = LinearSVC()\n",
    "l_svc.fit(ss,y_train)\n",
    "lsvc_y_pred = l_svc.predict(ss1)\n",
    "\n",
    "\n",
    "poly_svc = svm.SVC(kernel='poly', C = 1.0)\n",
    "poly_svc.fit(ss,y_train)\n",
    "psvc_y_pred=poly_svc.predict(ss1)\n",
    "\n",
    "\n",
    "rbf_svc = svm.SVC(kernel='rbf', C = 1.0)\n",
    "rbf_svc.fit(ss,y_train)\n",
    "rbfsvc_y_pred=rbf_svc.predict(ss1)\n",
    "\n",
    "\n",
    "sigmoid_svc = svm.SVC(kernel='sigmoid', C = 1.0)\n",
    "sigmoid_svc.fit(ss,y_train)\n",
    "sigsvc_y_pred=sigmoid_svc.predict(ss1)\n",
    "\n",
    "\n",
    "print(\"LinearSVC   :\",accuracy_score(y_test,lsvc_y_pred))\n",
    "print(\"poly SVC    :\",accuracy_score(y_test,psvc_y_pred))\n",
    "print(\"rbf SVC     :\",accuracy_score(y_test,rbfsvc_y_pred))\n",
    "print(\"Sigmoid SVC :\",accuracy_score(y_test,sigsvc_y_pred))"
   ]
  },
  {
   "cell_type": "code",
   "execution_count": 30,
   "id": "ec51cd07",
   "metadata": {},
   "outputs": [
    {
     "name": "stdout",
     "output_type": "stream",
     "text": [
      "SVC: 0.605980 (0.091265)\n",
      "SVC POLY: 0.671096 (0.047891)\n",
      "SVC rbf: 0.666445 (0.055735)\n",
      "SVC POLY: 0.603710 (0.092483)\n"
     ]
    },
    {
     "data": {
      "image/png": "[encoded data removed]",
      "text/plain": [
       "<Figure size 432x288 with 1 Axes>"
      ]
     },
     "metadata": {
      "needs_background": "light"
     },
     "output_type": "display_data"
    }
   ],
   "source": [
    "modelsss = []\n",
    "modelsss.append(('SVC', LinearSVC()))\n",
    "modelsss.append(('SVC POLY', svm.SVC(kernel='poly', C = 1.0)))\n",
    "modelsss.append(('SVC rbf', svm.SVC(kernel='rbf', C = 1.0)))\n",
    "modelsss.append(('SVC POLY', svm.SVC(kernel='sigmoid', C = 1.0)))\n",
    "\n",
    "# evaluate each model in turn\n",
    "results = []\n",
    "names=[]\n",
    "scoring = 'accuracy'\n",
    "for name,model in modelsss:\n",
    "    kfold = model_selection.KFold(n_splits=10)\n",
    "    cv_results = model_selection.cross_val_score(model, X_train, y_train, cv=kfold, scoring=scoring)\n",
    "    results.append(cv_results)\n",
    "    names.append(name)\n",
    "    msg = \"%s: %f (%f)\" % (name, cv_results.mean(), cv_results.std())\n",
    "    print(msg)\n",
    "# boxplot algorithm comparison\n",
    "fig = plt.figure()\n",
    "fig.suptitle('Comparison between different MLAs')\n",
    "ax = fig.add_subplot(111)\n",
    "plt.boxplot(results)\n",
    "plt.show()"
   ]
  },
  {
   "cell_type": "markdown",
   "id": "801cecfc",
   "metadata": {},
   "source": [
    "#### 4. Interpret the results"
   ]
  },
  {
   "cell_type": "code",
   "execution_count": 31,
   "id": "115af65b",
   "metadata": {},
   "outputs": [
    {
     "data": {
      "text/html": [
       "<div>\n",
       "<style scoped>\n",
       "    .dataframe tbody tr th:only-of-type {\n",
       "        vertical-align: middle;\n",
       "    }\n",
       "\n",
       "    .dataframe tbody tr th {\n",
       "        vertical-align: top;\n",
       "    }\n",
       "\n",
       "    .dataframe thead th {\n",
       "        text-align: right;\n",
       "    }\n",
       "</style>\n",
       "<table border=\"1\" class=\"dataframe\">\n",
       "  <thead>\n",
       "    <tr style=\"text-align: right;\">\n",
       "      <th></th>\n",
       "      <th>MLA used</th>\n",
       "      <th>Train Accuracy</th>\n",
       "      <th>Test Accuracy</th>\n",
       "      <th>Precission</th>\n",
       "      <th>Recall</th>\n",
       "      <th>AUC</th>\n",
       "    </tr>\n",
       "  </thead>\n",
       "  <tbody>\n",
       "    <tr>\n",
       "      <th>0</th>\n",
       "      <td>SVC</td>\n",
       "      <td>0.7506</td>\n",
       "      <td>0.8054</td>\n",
       "      <td>0.810127</td>\n",
       "      <td>0.955224</td>\n",
       "      <td>0.683494</td>\n",
       "    </tr>\n",
       "    <tr>\n",
       "      <th>1</th>\n",
       "      <td>LogisticRegression</td>\n",
       "      <td>0.8042</td>\n",
       "      <td>0.8324</td>\n",
       "      <td>0.819876</td>\n",
       "      <td>0.985075</td>\n",
       "      <td>0.708224</td>\n",
       "    </tr>\n",
       "    <tr>\n",
       "      <th>2</th>\n",
       "      <td>SGDClassifier</td>\n",
       "      <td>0.7203</td>\n",
       "      <td>0.7514</td>\n",
       "      <td>0.818841</td>\n",
       "      <td>0.843284</td>\n",
       "      <td>0.676544</td>\n",
       "    </tr>\n",
       "    <tr>\n",
       "      <th>3</th>\n",
       "      <td>SVC</td>\n",
       "      <td>0.8368</td>\n",
       "      <td>0.8162</td>\n",
       "      <td>0.820513</td>\n",
       "      <td>0.955224</td>\n",
       "      <td>0.703102</td>\n",
       "    </tr>\n",
       "    <tr>\n",
       "      <th>4</th>\n",
       "      <td>SVC</td>\n",
       "      <td>0.8135</td>\n",
       "      <td>0.8324</td>\n",
       "      <td>0.819876</td>\n",
       "      <td>0.985075</td>\n",
       "      <td>0.708224</td>\n",
       "    </tr>\n",
       "    <tr>\n",
       "      <th>5</th>\n",
       "      <td>SVC</td>\n",
       "      <td>0.7506</td>\n",
       "      <td>0.8054</td>\n",
       "      <td>0.810127</td>\n",
       "      <td>0.955224</td>\n",
       "      <td>0.683494</td>\n",
       "    </tr>\n",
       "  </tbody>\n",
       "</table>\n",
       "</div>"
      ],
      "text/plain": [
       "             MLA used  Train Accuracy  Test Accuracy  Precission    Recall  \\\n",
       "0                 SVC          0.7506         0.8054    0.810127  0.955224   \n",
       "1  LogisticRegression          0.8042         0.8324    0.819876  0.985075   \n",
       "2       SGDClassifier          0.7203         0.7514    0.818841  0.843284   \n",
       "3                 SVC          0.8368         0.8162    0.820513  0.955224   \n",
       "4                 SVC          0.8135         0.8324    0.819876  0.985075   \n",
       "5                 SVC          0.7506         0.8054    0.810127  0.955224   \n",
       "\n",
       "        AUC  \n",
       "0  0.683494  \n",
       "1  0.708224  \n",
       "2  0.676544  \n",
       "3  0.703102  \n",
       "4  0.708224  \n",
       "5  0.683494  "
      ]
     },
     "execution_count": 31,
     "metadata": {},
     "output_type": "execute_result"
    }
   ],
   "source": [
    "import numpy as np\n",
    "from sklearn.metrics import roc_curve\n",
    "from sklearn.metrics import precision_score\n",
    "from sklearn.metrics import recall_score\n",
    "from sklearn.metrics import auc\n",
    "\n",
    "MLA  = [model,lgr,sgd,poly_svc,rbf_svc,sigmoid_svc]\n",
    "MLA_columns = []\n",
    "MLA_compare = pd.DataFrame(columns = MLA_columns)\n",
    "\n",
    "row_index = 0\n",
    "for alg in MLA:  \n",
    "    \n",
    "    predicted = alg.fit(ss, y_train).predict(ss1)\n",
    "    predicted=np.where(predicted=='Y',1,0)\n",
    "    y_testb=np.where(y_test=='Y',1,0)\n",
    "    fp, tp, th = roc_curve(y_testb, predicted)\n",
    "    MLA_name = alg.__class__.__name__\n",
    "    MLA_compare.loc[row_index,'MLA used'] = MLA_name\n",
    "    MLA_compare.loc[row_index, 'Train Accuracy'] = round(alg.score(ss,y_train), 4)\n",
    "    MLA_compare.loc[row_index, 'Test Accuracy'] = round(alg.score(ss1,y_test), 4)\n",
    "    MLA_compare.loc[row_index, 'Precission'] = precision_score(y_testb, predicted)\n",
    "    MLA_compare.loc[row_index, 'Recall'] = recall_score(y_testb, predicted)\n",
    "    MLA_compare.loc[row_index, 'AUC'] = auc(fp, tp)\n",
    "    row_index+=1\n",
    "    \n",
    "MLA_compare"
   ]
  },
  {
   "cell_type": "code",
   "execution_count": 32,
   "id": "aae16c6a",
   "metadata": {},
   "outputs": [
    {
     "data": {
      "image/png": "[encoded data removed]",
      "text/plain": [
       "<Figure size 576x288 with 1 Axes>"
      ]
     },
     "metadata": {
      "needs_background": "light"
     },
     "output_type": "display_data"
    }
   ],
   "source": [
    "import seaborn as sns\n",
    "# Creating plot to show the train accuracy\n",
    "plt.subplots(figsize=(8,4))\n",
    "sns.barplot(x=\"MLA used\", y=\"Train Accuracy\",data=MLA_compare,palette='hot',edgecolor=sns.color_palette('dark',7))\n",
    "plt.xticks(rotation=90)\n",
    "plt.title('MLA Train Accuracy Comparison')\n",
    "plt.show()"
   ]
  }
 ],
 "metadata": {
  "kernelspec": {
   "display_name": "Python 3",
   "language": "python",
   "name": "python3"
  },
  "language_info": {
   "codemirror_mode": {
    "name": "ipython",
    "version": 3
   },
   "file_extension": ".py",
   "mimetype": "text/x-python",
   "name": "python",
   "nbconvert_exporter": "python",
   "pygments_lexer": "ipython3",
   "version": "3.8.8"
  }
 },
 "nbformat": 4,
 "nbformat_minor": 5
}
