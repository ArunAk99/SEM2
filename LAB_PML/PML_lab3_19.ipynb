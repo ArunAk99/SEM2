{
 "cells": [
  {
   "cell_type": "markdown",
   "id": "ongoing-centre",
   "metadata": {},
   "source": [
    "### DS205229119"
   ]
  },
  {
   "cell_type": "markdown",
   "id": "straight-catering",
   "metadata": {},
   "source": [
    "#### Lab3. Fuel Amount Prediction using Linear Regression"
   ]
  },
  {
   "cell_type": "markdown",
   "id": "familiar-loading",
   "metadata": {},
   "source": [
    "#### Step1. [Prepare your dataset]. Create fuel_data.csv file as shown above."
   ]
  },
  {
   "cell_type": "code",
   "execution_count": null,
   "id": "behavioral-imperial",
   "metadata": {},
   "outputs": [],
   "source": [
    "import pandas as pd\n",
    "\n",
    "dt = pd.read_csv(\"fuel_data.csv\")\n",
    "\n",
    "dt"
   ]
  },
  {
   "cell_type": "markdown",
   "id": "canadian-commission",
   "metadata": {},
   "source": [
    "#### Step2. [Import dataset]. Using Pandas, import “fuel_data.csv” file and print properties such as head(), shape, columns, type and info."
   ]
  },
  {
   "cell_type": "code",
   "execution_count": 3,
   "id": "assumed-journal",
   "metadata": {},
   "outputs": [
    {
     "data": {
      "text/html": [
       "<div>\n",
       "<style scoped>\n",
       "    .dataframe tbody tr th:only-of-type {\n",
       "        vertical-align: middle;\n",
       "    }\n",
       "\n",
       "    .dataframe tbody tr th {\n",
       "        vertical-align: top;\n",
       "    }\n",
       "\n",
       "    .dataframe thead th {\n",
       "        text-align: right;\n",
       "    }\n",
       "</style>\n",
       "<table border=\"1\" class=\"dataframe\">\n",
       "  <thead>\n",
       "    <tr style=\"text-align: right;\">\n",
       "      <th></th>\n",
       "      <th>drivenKM</th>\n",
       "      <th>fuelAmount</th>\n",
       "    </tr>\n",
       "  </thead>\n",
       "  <tbody>\n",
       "    <tr>\n",
       "      <th>0</th>\n",
       "      <td>390.0</td>\n",
       "      <td>3600.0</td>\n",
       "    </tr>\n",
       "    <tr>\n",
       "      <th>1</th>\n",
       "      <td>403.0</td>\n",
       "      <td>3705.0</td>\n",
       "    </tr>\n",
       "    <tr>\n",
       "      <th>2</th>\n",
       "      <td>396.5</td>\n",
       "      <td>3471.0</td>\n",
       "    </tr>\n",
       "    <tr>\n",
       "      <th>3</th>\n",
       "      <td>383.5</td>\n",
       "      <td>3250.5</td>\n",
       "    </tr>\n",
       "    <tr>\n",
       "      <th>4</th>\n",
       "      <td>321.1</td>\n",
       "      <td>3263.7</td>\n",
       "    </tr>\n",
       "  </tbody>\n",
       "</table>\n",
       "</div>"
      ],
      "text/plain": [
       "   drivenKM  fuelAmount\n",
       "0     390.0      3600.0\n",
       "1     403.0      3705.0\n",
       "2     396.5      3471.0\n",
       "3     383.5      3250.5\n",
       "4     321.1      3263.7"
      ]
     },
     "execution_count": 3,
     "metadata": {},
     "output_type": "execute_result"
    }
   ],
   "source": [
    "dt.head()"
   ]
  },
  {
   "cell_type": "code",
   "execution_count": 4,
   "id": "complex-concept",
   "metadata": {},
   "outputs": [
    {
     "data": {
      "text/plain": [
       "<bound method DataFrame.info of     drivenKM  fuelAmount\n",
       "0     390.00      3600.0\n",
       "1     403.00      3705.0\n",
       "2     396.50      3471.0\n",
       "3     383.50      3250.5\n",
       "4     321.10      3263.7\n",
       "5     391.30      3445.2\n",
       "6     386.10      3679.0\n",
       "7     371.80      3744.5\n",
       "8     404.30      3809.0\n",
       "9     392.20      3905.0\n",
       "10    386.43      3874.0\n",
       "11    395.20      3910.0\n",
       "12    381.00      4020.7\n",
       "13    372.00      3622.0\n",
       "14    397.00      3450.5\n",
       "15    407.00      4179.0\n",
       "16    372.40      3454.2\n",
       "17    375.60      3883.8\n",
       "18    399.00      4235.9>"
      ]
     },
     "execution_count": 4,
     "metadata": {},
     "output_type": "execute_result"
    }
   ],
   "source": [
    "dt.info"
   ]
  },
  {
   "cell_type": "code",
   "execution_count": 5,
   "id": "possible-terry",
   "metadata": {},
   "outputs": [
    {
     "data": {
      "text/plain": [
       "Index(['drivenKM', 'fuelAmount'], dtype='object')"
      ]
     },
     "execution_count": 5,
     "metadata": {},
     "output_type": "execute_result"
    }
   ],
   "source": [
    "dt.columns"
   ]
  },
  {
   "cell_type": "code",
   "execution_count": 6,
   "id": "accredited-dairy",
   "metadata": {},
   "outputs": [
    {
     "data": {
      "text/plain": [
       "pandas.core.frame.DataFrame"
      ]
     },
     "execution_count": 6,
     "metadata": {},
     "output_type": "execute_result"
    }
   ],
   "source": [
    "type(dt)"
   ]
  },
  {
   "cell_type": "code",
   "execution_count": 7,
   "id": "particular-medicine",
   "metadata": {},
   "outputs": [
    {
     "data": {
      "text/plain": [
       "(19, 2)"
      ]
     },
     "execution_count": 7,
     "metadata": {},
     "output_type": "execute_result"
    }
   ],
   "source": [
    "dt.shape"
   ]
  },
  {
   "cell_type": "markdown",
   "id": "spoken-census",
   "metadata": {},
   "source": [
    "#### Step3. [Preprocessing]. Check for missing values (Use isnull() method)"
   ]
  },
  {
   "cell_type": "code",
   "execution_count": 8,
   "id": "warming-iceland",
   "metadata": {
    "scrolled": true
   },
   "outputs": [
    {
     "data": {
      "text/html": [
       "<div>\n",
       "<style scoped>\n",
       "    .dataframe tbody tr th:only-of-type {\n",
       "        vertical-align: middle;\n",
       "    }\n",
       "\n",
       "    .dataframe tbody tr th {\n",
       "        vertical-align: top;\n",
       "    }\n",
       "\n",
       "    .dataframe thead th {\n",
       "        text-align: right;\n",
       "    }\n",
       "</style>\n",
       "<table border=\"1\" class=\"dataframe\">\n",
       "  <thead>\n",
       "    <tr style=\"text-align: right;\">\n",
       "      <th></th>\n",
       "      <th>drivenKM</th>\n",
       "      <th>fuelAmount</th>\n",
       "    </tr>\n",
       "  </thead>\n",
       "  <tbody>\n",
       "    <tr>\n",
       "      <th>0</th>\n",
       "      <td>False</td>\n",
       "      <td>False</td>\n",
       "    </tr>\n",
       "    <tr>\n",
       "      <th>1</th>\n",
       "      <td>False</td>\n",
       "      <td>False</td>\n",
       "    </tr>\n",
       "    <tr>\n",
       "      <th>2</th>\n",
       "      <td>False</td>\n",
       "      <td>False</td>\n",
       "    </tr>\n",
       "    <tr>\n",
       "      <th>3</th>\n",
       "      <td>False</td>\n",
       "      <td>False</td>\n",
       "    </tr>\n",
       "    <tr>\n",
       "      <th>4</th>\n",
       "      <td>False</td>\n",
       "      <td>False</td>\n",
       "    </tr>\n",
       "    <tr>\n",
       "      <th>5</th>\n",
       "      <td>False</td>\n",
       "      <td>False</td>\n",
       "    </tr>\n",
       "    <tr>\n",
       "      <th>6</th>\n",
       "      <td>False</td>\n",
       "      <td>False</td>\n",
       "    </tr>\n",
       "    <tr>\n",
       "      <th>7</th>\n",
       "      <td>False</td>\n",
       "      <td>False</td>\n",
       "    </tr>\n",
       "    <tr>\n",
       "      <th>8</th>\n",
       "      <td>False</td>\n",
       "      <td>False</td>\n",
       "    </tr>\n",
       "    <tr>\n",
       "      <th>9</th>\n",
       "      <td>False</td>\n",
       "      <td>False</td>\n",
       "    </tr>\n",
       "    <tr>\n",
       "      <th>10</th>\n",
       "      <td>False</td>\n",
       "      <td>False</td>\n",
       "    </tr>\n",
       "    <tr>\n",
       "      <th>11</th>\n",
       "      <td>False</td>\n",
       "      <td>False</td>\n",
       "    </tr>\n",
       "    <tr>\n",
       "      <th>12</th>\n",
       "      <td>False</td>\n",
       "      <td>False</td>\n",
       "    </tr>\n",
       "    <tr>\n",
       "      <th>13</th>\n",
       "      <td>False</td>\n",
       "      <td>False</td>\n",
       "    </tr>\n",
       "    <tr>\n",
       "      <th>14</th>\n",
       "      <td>False</td>\n",
       "      <td>False</td>\n",
       "    </tr>\n",
       "    <tr>\n",
       "      <th>15</th>\n",
       "      <td>False</td>\n",
       "      <td>False</td>\n",
       "    </tr>\n",
       "    <tr>\n",
       "      <th>16</th>\n",
       "      <td>False</td>\n",
       "      <td>False</td>\n",
       "    </tr>\n",
       "    <tr>\n",
       "      <th>17</th>\n",
       "      <td>False</td>\n",
       "      <td>False</td>\n",
       "    </tr>\n",
       "    <tr>\n",
       "      <th>18</th>\n",
       "      <td>False</td>\n",
       "      <td>False</td>\n",
       "    </tr>\n",
       "  </tbody>\n",
       "</table>\n",
       "</div>"
      ],
      "text/plain": [
       "    drivenKM  fuelAmount\n",
       "0      False       False\n",
       "1      False       False\n",
       "2      False       False\n",
       "3      False       False\n",
       "4      False       False\n",
       "5      False       False\n",
       "6      False       False\n",
       "7      False       False\n",
       "8      False       False\n",
       "9      False       False\n",
       "10     False       False\n",
       "11     False       False\n",
       "12     False       False\n",
       "13     False       False\n",
       "14     False       False\n",
       "15     False       False\n",
       "16     False       False\n",
       "17     False       False\n",
       "18     False       False"
      ]
     },
     "execution_count": 8,
     "metadata": {},
     "output_type": "execute_result"
    }
   ],
   "source": [
    "dt.isnull()"
   ]
  },
  {
   "cell_type": "markdown",
   "id": "suburban-stupid",
   "metadata": {},
   "source": [
    "#### Step4. [Visualize Relationships]. Plot relplot between “drivenKM” and “fuelAmount”."
   ]
  },
  {
   "cell_type": "code",
   "execution_count": 9,
   "id": "anonymous-collins",
   "metadata": {},
   "outputs": [
    {
     "data": {
      "image/png": "[encoded data removed]",
      "text/plain": [
       "<Figure size 426.125x360 with 1 Axes>"
      ]
     },
     "metadata": {
      "needs_background": "light"
     },
     "output_type": "display_data"
    }
   ],
   "source": [
    "import seaborn as sns\n",
    "sns.relplot(data=dt, x='drivenKM', y='fuelAmount',hue='fuelAmount');"
   ]
  },
  {
   "cell_type": "markdown",
   "id": "exempt-documentary",
   "metadata": {},
   "source": [
    "#### Step5. [Prepare X matrix and y vector]. Extract “drivenKM” column and store into new dataframe X. Similarly, extract “fuelAmount” and store into y."
   ]
  },
  {
   "cell_type": "code",
   "execution_count": 10,
   "id": "seasonal-roman",
   "metadata": {},
   "outputs": [],
   "source": [
    "y = dt.fuelAmount"
   ]
  },
  {
   "cell_type": "code",
   "execution_count": 11,
   "id": "acting-detective",
   "metadata": {},
   "outputs": [],
   "source": [
    "data1 = ['drivenKM']\n",
    "X=dt[data1]"
   ]
  },
  {
   "cell_type": "markdown",
   "id": "phantom-reminder",
   "metadata": {},
   "source": [
    "#### Step6. [Examine X and y]. Print X, y, type of X and type of y."
   ]
  },
  {
   "cell_type": "code",
   "execution_count": 12,
   "id": "expected-sentence",
   "metadata": {},
   "outputs": [
    {
     "data": {
      "text/html": [
       "<div>\n",
       "<style scoped>\n",
       "    .dataframe tbody tr th:only-of-type {\n",
       "        vertical-align: middle;\n",
       "    }\n",
       "\n",
       "    .dataframe tbody tr th {\n",
       "        vertical-align: top;\n",
       "    }\n",
       "\n",
       "    .dataframe thead th {\n",
       "        text-align: right;\n",
       "    }\n",
       "</style>\n",
       "<table border=\"1\" class=\"dataframe\">\n",
       "  <thead>\n",
       "    <tr style=\"text-align: right;\">\n",
       "      <th></th>\n",
       "      <th>drivenKM</th>\n",
       "    </tr>\n",
       "  </thead>\n",
       "  <tbody>\n",
       "    <tr>\n",
       "      <th>0</th>\n",
       "      <td>390.00</td>\n",
       "    </tr>\n",
       "    <tr>\n",
       "      <th>1</th>\n",
       "      <td>403.00</td>\n",
       "    </tr>\n",
       "    <tr>\n",
       "      <th>2</th>\n",
       "      <td>396.50</td>\n",
       "    </tr>\n",
       "    <tr>\n",
       "      <th>3</th>\n",
       "      <td>383.50</td>\n",
       "    </tr>\n",
       "    <tr>\n",
       "      <th>4</th>\n",
       "      <td>321.10</td>\n",
       "    </tr>\n",
       "    <tr>\n",
       "      <th>5</th>\n",
       "      <td>391.30</td>\n",
       "    </tr>\n",
       "    <tr>\n",
       "      <th>6</th>\n",
       "      <td>386.10</td>\n",
       "    </tr>\n",
       "    <tr>\n",
       "      <th>7</th>\n",
       "      <td>371.80</td>\n",
       "    </tr>\n",
       "    <tr>\n",
       "      <th>8</th>\n",
       "      <td>404.30</td>\n",
       "    </tr>\n",
       "    <tr>\n",
       "      <th>9</th>\n",
       "      <td>392.20</td>\n",
       "    </tr>\n",
       "    <tr>\n",
       "      <th>10</th>\n",
       "      <td>386.43</td>\n",
       "    </tr>\n",
       "    <tr>\n",
       "      <th>11</th>\n",
       "      <td>395.20</td>\n",
       "    </tr>\n",
       "    <tr>\n",
       "      <th>12</th>\n",
       "      <td>381.00</td>\n",
       "    </tr>\n",
       "    <tr>\n",
       "      <th>13</th>\n",
       "      <td>372.00</td>\n",
       "    </tr>\n",
       "    <tr>\n",
       "      <th>14</th>\n",
       "      <td>397.00</td>\n",
       "    </tr>\n",
       "    <tr>\n",
       "      <th>15</th>\n",
       "      <td>407.00</td>\n",
       "    </tr>\n",
       "    <tr>\n",
       "      <th>16</th>\n",
       "      <td>372.40</td>\n",
       "    </tr>\n",
       "    <tr>\n",
       "      <th>17</th>\n",
       "      <td>375.60</td>\n",
       "    </tr>\n",
       "    <tr>\n",
       "      <th>18</th>\n",
       "      <td>399.00</td>\n",
       "    </tr>\n",
       "  </tbody>\n",
       "</table>\n",
       "</div>"
      ],
      "text/plain": [
       "    drivenKM\n",
       "0     390.00\n",
       "1     403.00\n",
       "2     396.50\n",
       "3     383.50\n",
       "4     321.10\n",
       "5     391.30\n",
       "6     386.10\n",
       "7     371.80\n",
       "8     404.30\n",
       "9     392.20\n",
       "10    386.43\n",
       "11    395.20\n",
       "12    381.00\n",
       "13    372.00\n",
       "14    397.00\n",
       "15    407.00\n",
       "16    372.40\n",
       "17    375.60\n",
       "18    399.00"
      ]
     },
     "execution_count": 12,
     "metadata": {},
     "output_type": "execute_result"
    }
   ],
   "source": [
    "X"
   ]
  },
  {
   "cell_type": "code",
   "execution_count": 13,
   "id": "sixth-grain",
   "metadata": {},
   "outputs": [
    {
     "data": {
      "text/plain": [
       "0     3600.0\n",
       "1     3705.0\n",
       "2     3471.0\n",
       "3     3250.5\n",
       "4     3263.7\n",
       "5     3445.2\n",
       "6     3679.0\n",
       "7     3744.5\n",
       "8     3809.0\n",
       "9     3905.0\n",
       "10    3874.0\n",
       "11    3910.0\n",
       "12    4020.7\n",
       "13    3622.0\n",
       "14    3450.5\n",
       "15    4179.0\n",
       "16    3454.2\n",
       "17    3883.8\n",
       "18    4235.9\n",
       "Name: fuelAmount, dtype: float64"
      ]
     },
     "execution_count": 13,
     "metadata": {},
     "output_type": "execute_result"
    }
   ],
   "source": [
    "y"
   ]
  },
  {
   "cell_type": "code",
   "execution_count": 14,
   "id": "bizarre-muscle",
   "metadata": {},
   "outputs": [
    {
     "name": "stdout",
     "output_type": "stream",
     "text": [
      "drivenKM    float64\n",
      "dtype: object\n",
      "float64\n"
     ]
    }
   ],
   "source": [
    "print(X.dtypes)\n",
    "print(y.dtypes)"
   ]
  },
  {
   "cell_type": "code",
   "execution_count": 15,
   "id": "certain-thing",
   "metadata": {},
   "outputs": [
    {
     "name": "stdout",
     "output_type": "stream",
     "text": [
      "<class 'pandas.core.frame.DataFrame'>\n",
      "<class 'pandas.core.series.Series'>\n"
     ]
    }
   ],
   "source": [
    "print(type(X))\n",
    "print(type(y))"
   ]
  },
  {
   "cell_type": "markdown",
   "id": "equipped-assembly",
   "metadata": {},
   "source": [
    "#### Step7. [Split dataset]. Split dataset into 4 parts using train_test_split() method, such as X_train, X_test, y_train and y_test. Use 20% for test size. Later you can play around with this test size. Print the shape of all 4 parts.¶"
   ]
  },
  {
   "cell_type": "code",
   "execution_count": 16,
   "id": "discrete-audience",
   "metadata": {},
   "outputs": [],
   "source": [
    "import sklearn\n",
    "from sklearn.model_selection import train_test_split\n"
   ]
  },
  {
   "cell_type": "code",
   "execution_count": 17,
   "id": "manufactured-solomon",
   "metadata": {},
   "outputs": [],
   "source": [
    "X_train, X_test, y_train, y_test = train_test_split(X,y,train_size=0.8,test_size=0.2) "
   ]
  },
  {
   "cell_type": "code",
   "execution_count": 18,
   "id": "deluxe-melissa",
   "metadata": {},
   "outputs": [
    {
     "data": {
      "text/plain": [
       "(    drivenKM\n",
       " 13     372.0\n",
       " 1      403.0\n",
       " 6      386.1\n",
       " 15     407.0\n",
       " 18     399.0\n",
       " 9      392.2\n",
       " 8      404.3\n",
       " 0      390.0\n",
       " 16     372.4\n",
       " 4      321.1\n",
       " 14     397.0\n",
       " 2      396.5\n",
       " 11     395.2\n",
       " 5      391.3\n",
       " 17     375.6,\n",
       "     drivenKM\n",
       " 10    386.43\n",
       " 3     383.50\n",
       " 7     371.80\n",
       " 12    381.00,\n",
       " 13    3622.0\n",
       " 1     3705.0\n",
       " 6     3679.0\n",
       " 15    4179.0\n",
       " 18    4235.9\n",
       " 9     3905.0\n",
       " 8     3809.0\n",
       " 0     3600.0\n",
       " 16    3454.2\n",
       " 4     3263.7\n",
       " 14    3450.5\n",
       " 2     3471.0\n",
       " 11    3910.0\n",
       " 5     3445.2\n",
       " 17    3883.8\n",
       " Name: fuelAmount, dtype: float64,\n",
       " 10    3874.0\n",
       " 3     3250.5\n",
       " 7     3744.5\n",
       " 12    4020.7\n",
       " Name: fuelAmount, dtype: float64)"
      ]
     },
     "execution_count": 18,
     "metadata": {},
     "output_type": "execute_result"
    }
   ],
   "source": [
    "X_train, X_test, y_train, y_test"
   ]
  },
  {
   "cell_type": "code",
   "execution_count": 19,
   "id": "extreme-armor",
   "metadata": {},
   "outputs": [
    {
     "data": {
      "text/plain": [
       "(15, 1)"
      ]
     },
     "execution_count": 19,
     "metadata": {},
     "output_type": "execute_result"
    }
   ],
   "source": [
    "X_train.shape"
   ]
  },
  {
   "cell_type": "code",
   "execution_count": 20,
   "id": "instrumental-shannon",
   "metadata": {},
   "outputs": [
    {
     "data": {
      "text/plain": [
       "(4, 1)"
      ]
     },
     "execution_count": 20,
     "metadata": {},
     "output_type": "execute_result"
    }
   ],
   "source": [
    "X_test.shape"
   ]
  },
  {
   "cell_type": "code",
   "execution_count": 21,
   "id": "emerging-lambda",
   "metadata": {},
   "outputs": [
    {
     "data": {
      "text/plain": [
       "(15,)"
      ]
     },
     "execution_count": 21,
     "metadata": {},
     "output_type": "execute_result"
    }
   ],
   "source": [
    "y_train.shape"
   ]
  },
  {
   "cell_type": "code",
   "execution_count": 22,
   "id": "timely-fusion",
   "metadata": {},
   "outputs": [
    {
     "data": {
      "text/plain": [
       "(4,)"
      ]
     },
     "execution_count": 22,
     "metadata": {},
     "output_type": "execute_result"
    }
   ],
   "source": [
    "y_test.shape"
   ]
  },
  {
   "cell_type": "markdown",
   "id": "necessary-sunglasses",
   "metadata": {},
   "source": [
    "#### Part-I. Linear Regression Baseline Model\n",
    "#### Step8. [Build Model]. Create Linear Regression model and train with fit() using X_train and y_train values."
   ]
  },
  {
   "cell_type": "code",
   "execution_count": 23,
   "id": "provincial-month",
   "metadata": {},
   "outputs": [],
   "source": [
    "from sklearn.linear_model import LinearRegression\n",
    "model = LinearRegression()"
   ]
  },
  {
   "cell_type": "code",
   "execution_count": 24,
   "id": "exposed-elite",
   "metadata": {},
   "outputs": [
    {
     "data": {
      "text/plain": [
       "LinearRegression()"
      ]
     },
     "execution_count": 24,
     "metadata": {},
     "output_type": "execute_result"
    }
   ],
   "source": [
    "model.fit(X_train, y_train)"
   ]
  },
  {
   "cell_type": "markdown",
   "id": "widespread-explorer",
   "metadata": {},
   "source": [
    "#### Step9. [Predict price for 800 KM]. If I need to travel 800 KM, how much do I need to spend on Diesel?"
   ]
  },
  {
   "cell_type": "code",
   "execution_count": 25,
   "id": "public-romantic",
   "metadata": {},
   "outputs": [
    {
     "data": {
      "text/plain": [
       "array([6723.21145113])"
      ]
     },
     "execution_count": 25,
     "metadata": {},
     "output_type": "execute_result"
    }
   ],
   "source": [
    "new =[[800]]\n",
    "pp = model.predict(new)\n",
    "pp"
   ]
  },
  {
   "cell_type": "markdown",
   "id": "environmental-application",
   "metadata": {},
   "source": [
    "#### Step10. [Predict on entire dataset]. Now, perform prediction using entire X_test and store result as y_pred"
   ]
  },
  {
   "cell_type": "code",
   "execution_count": 26,
   "id": "directed-queens",
   "metadata": {},
   "outputs": [
    {
     "data": {
      "text/plain": [
       "array([3704.51203095, 3683.12559262, 3597.72582181, 3664.87777834])"
      ]
     },
     "execution_count": 26,
     "metadata": {},
     "output_type": "execute_result"
    }
   ],
   "source": [
    "y_pred = model.predict(X_test)\n",
    "y_pred"
   ]
  },
  {
   "cell_type": "markdown",
   "id": "lined-times",
   "metadata": {},
   "source": [
    "#### Step11. [Print Mean Squared Error and R2 Error]. Are you getting output “MSE: 46181.0”. Also, print values of model parameters: coef_ and intercept_ values."
   ]
  },
  {
   "cell_type": "code",
   "execution_count": 27,
   "id": "efficient-colorado",
   "metadata": {},
   "outputs": [],
   "source": [
    "from sklearn.metrics import mean_squared_error\n",
    "from sklearn.metrics import r2_score"
   ]
  },
  {
   "cell_type": "code",
   "execution_count": 70,
   "id": "wooden-promotion",
   "metadata": {},
   "outputs": [
    {
     "data": {
      "text/plain": [
       "91010.79696263855"
      ]
     },
     "execution_count": 70,
     "metadata": {},
     "output_type": "execute_result"
    }
   ],
   "source": [
    "lr_mse=mean_squared_error(y_test,y_pred)\n",
    "lr_mse"
   ]
  },
  {
   "cell_type": "code",
   "execution_count": 71,
   "id": "wired-removal",
   "metadata": {},
   "outputs": [
    {
     "data": {
      "text/plain": [
       "-0.08623089259692729"
      ]
     },
     "execution_count": 71,
     "metadata": {},
     "output_type": "execute_result"
    }
   ],
   "source": [
    "r2_score(y_test,y_pred)"
   ]
  },
  {
   "cell_type": "code",
   "execution_count": 72,
   "id": "traditional-louis",
   "metadata": {},
   "outputs": [
    {
     "data": {
      "text/plain": [
       "array([7.29912571])"
      ]
     },
     "execution_count": 72,
     "metadata": {},
     "output_type": "execute_result"
    }
   ],
   "source": [
    "model.coef_"
   ]
  },
  {
   "cell_type": "code",
   "execution_count": 73,
   "id": "agricultural-edward",
   "metadata": {},
   "outputs": [
    {
     "data": {
      "text/plain": [
       "883.9108825705807"
      ]
     },
     "execution_count": 73,
     "metadata": {},
     "output_type": "execute_result"
    }
   ],
   "source": [
    "model.intercept_"
   ]
  },
  {
   "cell_type": "markdown",
   "id": "ranking-parcel",
   "metadata": {},
   "source": [
    "#### Part-II. Linear Regression with Scaling using StandardScaler\n",
    "#### Step12. [Normalize X_train and X_test values]. Use StandardScaler, scale X_train using fit_transform() method and X_test using transform() method."
   ]
  },
  {
   "cell_type": "code",
   "execution_count": 74,
   "id": "associate-toddler",
   "metadata": {},
   "outputs": [],
   "source": [
    "from sklearn.preprocessing import StandardScaler"
   ]
  },
  {
   "cell_type": "code",
   "execution_count": 75,
   "id": "overall-voluntary",
   "metadata": {},
   "outputs": [
    {
     "name": "stdout",
     "output_type": "stream",
     "text": [
      "[[-0.72314168]\n",
      " [ 0.78678594]\n",
      " [-0.03636815]\n",
      " [ 0.98161531]\n",
      " [ 0.59195657]\n",
      " [ 0.26074664]\n",
      " [ 0.85010548]\n",
      " [ 0.15359049]\n",
      " [-0.70365874]\n",
      " [-3.2023454 ]\n",
      " [ 0.49454188]\n",
      " [ 0.47018821]\n",
      " [ 0.40686867]\n",
      " [ 0.21691003]\n",
      " [-0.54779524]]\n"
     ]
    }
   ],
   "source": [
    "scaler = StandardScaler()\n",
    "ss = scaler.fit_transform(X_train)\n",
    "print(ss)"
   ]
  },
  {
   "cell_type": "code",
   "execution_count": 76,
   "id": "fabulous-exception",
   "metadata": {},
   "outputs": [
    {
     "name": "stdout",
     "output_type": "stream",
     "text": [
      "[[ 1.049469  ]\n",
      " [ 0.51446349]\n",
      " [-1.62190664]\n",
      " [ 0.05797415]]\n"
     ]
    }
   ],
   "source": [
    "scaler = StandardScaler()\n",
    "ss1 = scaler.fit_transform(X_test)\n",
    "print(ss1)"
   ]
  },
  {
   "cell_type": "markdown",
   "id": "answering-composer",
   "metadata": {},
   "source": [
    "#### Step13. [Build LR model]. Create a new LR model, fit on scaled X_train and predict on scaled X_test"
   ]
  },
  {
   "cell_type": "code",
   "execution_count": 77,
   "id": "early-xerox",
   "metadata": {},
   "outputs": [
    {
     "data": {
      "text/plain": [
       "LinearRegression()"
      ]
     },
     "execution_count": 77,
     "metadata": {},
     "output_type": "execute_result"
    }
   ],
   "source": [
    "lrmodel1 = LinearRegression()\n",
    "lrmodel1.fit(ss,y_train)"
   ]
  },
  {
   "cell_type": "code",
   "execution_count": 78,
   "id": "younger-shame",
   "metadata": {},
   "outputs": [
    {
     "data": {
      "text/plain": [
       "array([3864.82338327, 3784.64917774, 3464.49961979, 3716.24115253])"
      ]
     },
     "execution_count": 78,
     "metadata": {},
     "output_type": "execute_result"
    }
   ],
   "source": [
    "s_y_pred = lrmodel1.predict(ss1)\n",
    "s_y_pred"
   ]
  },
  {
   "cell_type": "markdown",
   "id": "swedish-owner",
   "metadata": {},
   "source": [
    "#### Step14. [Print Mean Squared Error and R2 Error]. What is the output?. MSE reduced or not?. Why?."
   ]
  },
  {
   "cell_type": "code",
   "execution_count": 79,
   "id": "collected-gasoline",
   "metadata": {},
   "outputs": [
    {
     "data": {
      "text/plain": [
       "114123.73927149162"
      ]
     },
     "execution_count": 79,
     "metadata": {},
     "output_type": "execute_result"
    }
   ],
   "source": [
    "mean_squared_error(y_test,s_y_pred)"
   ]
  },
  {
   "cell_type": "code",
   "execution_count": 80,
   "id": "affecting-block",
   "metadata": {},
   "outputs": [
    {
     "data": {
      "text/plain": [
       "-0.3620881841773229"
      ]
     },
     "execution_count": 80,
     "metadata": {},
     "output_type": "execute_result"
    }
   ],
   "source": [
    "r2_score(y_test,s_y_pred)"
   ]
  },
  {
   "cell_type": "markdown",
   "id": "attractive-crawford",
   "metadata": {},
   "source": [
    "#### Step15. [Plot scatter plot]. Display Scatter Plot between actual y (aka ground truth) vs predicted y values. That is, between y_test and y_pred."
   ]
  },
  {
   "cell_type": "code",
   "execution_count": 81,
   "id": "unknown-bangkok",
   "metadata": {
    "scrolled": true
   },
   "outputs": [
    {
     "data": {
      "text/plain": [
       "<matplotlib.collections.PathCollection at 0x24597dcb7c0>"
      ]
     },
     "execution_count": 81,
     "metadata": {},
     "output_type": "execute_result"
    },
    {
     "data": {
      "image/png": "[encoded data removed]",
      "text/plain": [
       "<Figure size 432x288 with 1 Axes>"
      ]
     },
     "metadata": {
      "needs_background": "light"
     },
     "output_type": "display_data"
    }
   ],
   "source": [
    "import matplotlib.pyplot as plt\n",
    "plt.scatter(y_test, y_pred)"
   ]
  },
  {
   "cell_type": "markdown",
   "id": "three-charter",
   "metadata": {},
   "source": [
    "#### Part-III. Linear Regression with Scaling using MinMaxScaler and Comparison with KNeighborsRegressor and SGDRegressor\n",
    "#### Step16. [Repeat with MinmaxScaler]. Repeat scaling using MinMaxScaler, LR model creation, fit, predict and error computation steps."
   ]
  },
  {
   "cell_type": "code",
   "execution_count": 82,
   "id": "natural-flashing",
   "metadata": {},
   "outputs": [],
   "source": [
    "from sklearn.preprocessing import MinMaxScaler"
   ]
  },
  {
   "cell_type": "code",
   "execution_count": 83,
   "id": "threatened-shock",
   "metadata": {},
   "outputs": [
    {
     "data": {
      "text/plain": [
       "array([[0.59254948],\n",
       "       [0.95343423],\n",
       "       [0.75669383],\n",
       "       [1.        ],\n",
       "       [0.90686845],\n",
       "       [0.82770664],\n",
       "       [0.9685681 ],\n",
       "       [0.80209546],\n",
       "       [0.59720605],\n",
       "       [0.        ],\n",
       "       [0.88358556],\n",
       "       [0.87776484],\n",
       "       [0.86263097],\n",
       "       [0.81722934],\n",
       "       [0.63445867]])"
      ]
     },
     "execution_count": 83,
     "metadata": {},
     "output_type": "execute_result"
    }
   ],
   "source": [
    "scaler = MinMaxScaler()\n",
    "ss3=scaler.fit_transform(X_train)   \n",
    "ss3"
   ]
  },
  {
   "cell_type": "code",
   "execution_count": 84,
   "id": "amino-percentage",
   "metadata": {},
   "outputs": [
    {
     "data": {
      "text/plain": [
       "array([[0.76053551],\n",
       "       [0.72642608],\n",
       "       [0.59022119],\n",
       "       [0.69732247]])"
      ]
     },
     "execution_count": 84,
     "metadata": {},
     "output_type": "execute_result"
    }
   ],
   "source": [
    "m_ss1 = scaler.transform(X_test)\n",
    "m_ss1"
   ]
  },
  {
   "cell_type": "code",
   "execution_count": 85,
   "id": "thermal-macro",
   "metadata": {},
   "outputs": [
    {
     "data": {
      "text/plain": [
       "LinearRegression()"
      ]
     },
     "execution_count": 85,
     "metadata": {},
     "output_type": "execute_result"
    }
   ],
   "source": [
    "model2 = LinearRegression()\n",
    "model2.fit(ss3,y_train)"
   ]
  },
  {
   "cell_type": "code",
   "execution_count": 86,
   "id": "prescription-luxembourg",
   "metadata": {},
   "outputs": [
    {
     "data": {
      "text/plain": [
       "array([3704.51203095, 3683.12559262, 3597.72582181, 3664.87777834])"
      ]
     },
     "execution_count": 86,
     "metadata": {},
     "output_type": "execute_result"
    }
   ],
   "source": [
    "ms_y_pred = model2.predict(m_ss1)\n",
    "ms_y_pred"
   ]
  },
  {
   "cell_type": "code",
   "execution_count": 87,
   "id": "automotive-naples",
   "metadata": {},
   "outputs": [
    {
     "data": {
      "text/plain": [
       "91010.7969626385"
      ]
     },
     "execution_count": 87,
     "metadata": {},
     "output_type": "execute_result"
    }
   ],
   "source": [
    "mean_squared_error(y_test,ms_y_pred)"
   ]
  },
  {
   "cell_type": "code",
   "execution_count": 88,
   "id": "authentic-digest",
   "metadata": {},
   "outputs": [
    {
     "data": {
      "text/plain": [
       "-0.08623089259692662"
      ]
     },
     "execution_count": 88,
     "metadata": {},
     "output_type": "execute_result"
    }
   ],
   "source": [
    "r2_score(y_test,ms_y_pred)"
   ]
  },
  {
   "cell_type": "markdown",
   "id": "verified-juvenile",
   "metadata": {},
   "source": [
    "#### Step17. [Compare KNN Regressor]. Repeat the above steps for KNeighborsRegressor model and compare MSE of LR with KNN Regressor."
   ]
  },
  {
   "cell_type": "code",
   "execution_count": 89,
   "id": "chronic-promise",
   "metadata": {},
   "outputs": [],
   "source": [
    "from sklearn.neighbors import KNeighborsRegressor"
   ]
  },
  {
   "cell_type": "code",
   "execution_count": 90,
   "id": "colonial-hours",
   "metadata": {},
   "outputs": [
    {
     "data": {
      "text/plain": [
       "KNeighborsRegressor()"
      ]
     },
     "execution_count": 90,
     "metadata": {},
     "output_type": "execute_result"
    }
   ],
   "source": [
    "mod_neigh = KNeighborsRegressor(n_neighbors=5)\n",
    "mod_neigh.fit(X,y)"
   ]
  },
  {
   "cell_type": "code",
   "execution_count": 91,
   "id": "specialized-whole",
   "metadata": {},
   "outputs": [
    {
     "data": {
      "text/plain": [
       "array([3700.64, 3875.88, 3794.48, 3684.84, 3593.64, 3746.84, 3684.84,\n",
       "       3745.04, 3875.88, 3666.24, 3569.74, 3794.48, 3741.6 , 3745.04,\n",
       "       3794.48, 3875.88, 3745.04, 3745.04, 3754.48])"
      ]
     },
     "execution_count": 91,
     "metadata": {},
     "output_type": "execute_result"
    }
   ],
   "source": [
    "n_y_pred = mod_neigh.predict(X)\n",
    "n_y_pred\n"
   ]
  },
  {
   "cell_type": "code",
   "execution_count": 92,
   "id": "quiet-carol",
   "metadata": {},
   "outputs": [
    {
     "data": {
      "text/plain": [
       "70460.30507368421"
      ]
     },
     "execution_count": 92,
     "metadata": {},
     "output_type": "execute_result"
    }
   ],
   "source": [
    "knn_mse = mean_squared_error(y,n_y_pred)\n",
    "knn_mse"
   ]
  },
  {
   "cell_type": "code",
   "execution_count": 93,
   "id": "partial-chocolate",
   "metadata": {},
   "outputs": [
    {
     "data": {
      "text/plain": [
       "0.06403925984775638"
      ]
     },
     "execution_count": 93,
     "metadata": {},
     "output_type": "execute_result"
    }
   ],
   "source": [
    "r2_score(y,n_y_pred)"
   ]
  },
  {
   "cell_type": "markdown",
   "id": "sized-breakfast",
   "metadata": {},
   "source": [
    "#### Step18. [Compare SGD Regressor]. Repeat the above steps for SGDRegressor model and compare MSE of LR with SGD Regressor."
   ]
  },
  {
   "cell_type": "code",
   "execution_count": 94,
   "id": "periodic-church",
   "metadata": {},
   "outputs": [],
   "source": [
    "from sklearn.linear_model import SGDRegressor\n",
    "from sklearn.pipeline import make_pipeline"
   ]
  },
  {
   "cell_type": "code",
   "execution_count": 95,
   "id": "vulnerable-framework",
   "metadata": {},
   "outputs": [
    {
     "data": {
      "text/plain": [
       "Pipeline(steps=[('standardscaler', StandardScaler()),\n",
       "                ('sgdregressor', SGDRegressor())])"
      ]
     },
     "execution_count": 95,
     "metadata": {},
     "output_type": "execute_result"
    }
   ],
   "source": [
    "reg = make_pipeline(StandardScaler(), SGDRegressor(max_iter=1000, tol=1e-3))\n",
    "reg.fit(X,y)"
   ]
  },
  {
   "cell_type": "code",
   "execution_count": 96,
   "id": "nuclear-amino",
   "metadata": {},
   "outputs": [
    {
     "data": {
      "text/plain": [
       "array([3740.88089055, 3830.60556632, 3785.74322843, 3696.01855266,\n",
       "       3265.34010893, 3749.85335812, 3713.96348781, 3615.26634446,\n",
       "       3839.5780339 , 3756.06506645, 3716.2411142 , 3776.77076086,\n",
       "       3678.76380732, 3616.64672409, 3789.1941775 , 3858.21315887,\n",
       "       3619.40748334, 3641.49355738, 3802.99797378])"
      ]
     },
     "execution_count": 96,
     "metadata": {},
     "output_type": "execute_result"
    }
   ],
   "source": [
    "r_y_pred = reg.predict(X)\n",
    "r_y_pred"
   ]
  },
  {
   "cell_type": "code",
   "execution_count": 97,
   "id": "direct-management",
   "metadata": {},
   "outputs": [
    {
     "data": {
      "text/plain": [
       "58823.47276544006"
      ]
     },
     "execution_count": 97,
     "metadata": {},
     "output_type": "execute_result"
    }
   ],
   "source": [
    "sgdr_mse = mean_squared_error(y,r_y_pred)\n",
    "sgdr_mse"
   ]
  },
  {
   "cell_type": "code",
   "execution_count": 98,
   "id": "usual-progressive",
   "metadata": {},
   "outputs": [
    {
     "data": {
      "text/plain": [
       "0.21861733283313123"
      ]
     },
     "execution_count": 98,
     "metadata": {},
     "output_type": "execute_result"
    }
   ],
   "source": [
    "r2_score(y,r_y_pred)"
   ]
  },
  {
   "cell_type": "markdown",
   "id": "stylish-indonesian",
   "metadata": {},
   "source": [
    "#### Step19. [Select best model]. Tabulate MSE values of LR, KNNR and SGDR and select the model with the lowest MSE."
   ]
  },
  {
   "cell_type": "code",
   "execution_count": 99,
   "id": "united-morrison",
   "metadata": {},
   "outputs": [
    {
     "name": "stdout",
     "output_type": "stream",
     "text": [
      "LR model  91010.79696263855\n",
      "KNNR model  70460.30507368421\n",
      "SGDR model  58823.47276544006\n"
     ]
    }
   ],
   "source": [
    "print('LR model ',lr_mse)\n",
    "print('KNNR model ',knn_mse)\n",
    "print('SGDR model ',sgdr_mse)"
   ]
  }
 ],
 "metadata": {
  "kernelspec": {
   "display_name": "Python 3",
   "language": "python",
   "name": "python3"
  },
  "language_info": {
   "codemirror_mode": {
    "name": "ipython",
    "version": 3
   },
   "file_extension": ".py",
   "mimetype": "text/x-python",
   "name": "python",
   "nbconvert_exporter": "python",
   "pygments_lexer": "ipython3",
   "version": "3.8.8"
  }
 },
 "nbformat": 4,
 "nbformat_minor": 5
}
