{
 "cells": [
  {
   "cell_type": "markdown",
   "id": "65f36076",
   "metadata": {},
   "source": [
    "- Maheshvaran S\n",
    "- DS205229119\n",
    "- Lab6. Predictive Analytics for Hospitals "
   ]
  },
  {
   "cell_type": "markdown",
   "id": "1e2ad545",
   "metadata": {},
   "source": [
    " ### Step1. [Import dataset] \n",
    "- Using Pandas, import “diabetes.csv” file and print properties such as head, shape, columns, dtype, info and value_counts. "
   ]
  },
  {
   "cell_type": "code",
   "execution_count": 1,
   "id": "d90d2bad",
   "metadata": {},
   "outputs": [
    {
     "data": {
      "text/html": [
       "<div>\n",
       "<style scoped>\n",
       "    .dataframe tbody tr th:only-of-type {\n",
       "        vertical-align: middle;\n",
       "    }\n",
       "\n",
       "    .dataframe tbody tr th {\n",
       "        vertical-align: top;\n",
       "    }\n",
       "\n",
       "    .dataframe thead th {\n",
       "        text-align: right;\n",
       "    }\n",
       "</style>\n",
       "<table border=\"1\" class=\"dataframe\">\n",
       "  <thead>\n",
       "    <tr style=\"text-align: right;\">\n",
       "      <th></th>\n",
       "      <th>Pregnancies</th>\n",
       "      <th>Glucose</th>\n",
       "      <th>BloodPressure</th>\n",
       "      <th>SkinThickness</th>\n",
       "      <th>Insulin</th>\n",
       "      <th>BMI</th>\n",
       "      <th>DiabetesPedigreeFunction</th>\n",
       "      <th>Age</th>\n",
       "      <th>Outcome</th>\n",
       "    </tr>\n",
       "  </thead>\n",
       "  <tbody>\n",
       "    <tr>\n",
       "      <th>0</th>\n",
       "      <td>6</td>\n",
       "      <td>148</td>\n",
       "      <td>72</td>\n",
       "      <td>35</td>\n",
       "      <td>0</td>\n",
       "      <td>33.6</td>\n",
       "      <td>0.627</td>\n",
       "      <td>50</td>\n",
       "      <td>1</td>\n",
       "    </tr>\n",
       "    <tr>\n",
       "      <th>1</th>\n",
       "      <td>1</td>\n",
       "      <td>85</td>\n",
       "      <td>66</td>\n",
       "      <td>29</td>\n",
       "      <td>0</td>\n",
       "      <td>26.6</td>\n",
       "      <td>0.351</td>\n",
       "      <td>31</td>\n",
       "      <td>0</td>\n",
       "    </tr>\n",
       "    <tr>\n",
       "      <th>2</th>\n",
       "      <td>8</td>\n",
       "      <td>183</td>\n",
       "      <td>64</td>\n",
       "      <td>0</td>\n",
       "      <td>0</td>\n",
       "      <td>23.3</td>\n",
       "      <td>0.672</td>\n",
       "      <td>32</td>\n",
       "      <td>1</td>\n",
       "    </tr>\n",
       "    <tr>\n",
       "      <th>3</th>\n",
       "      <td>1</td>\n",
       "      <td>89</td>\n",
       "      <td>66</td>\n",
       "      <td>23</td>\n",
       "      <td>94</td>\n",
       "      <td>28.1</td>\n",
       "      <td>0.167</td>\n",
       "      <td>21</td>\n",
       "      <td>0</td>\n",
       "    </tr>\n",
       "    <tr>\n",
       "      <th>4</th>\n",
       "      <td>0</td>\n",
       "      <td>137</td>\n",
       "      <td>40</td>\n",
       "      <td>35</td>\n",
       "      <td>168</td>\n",
       "      <td>43.1</td>\n",
       "      <td>2.288</td>\n",
       "      <td>33</td>\n",
       "      <td>1</td>\n",
       "    </tr>\n",
       "  </tbody>\n",
       "</table>\n",
       "</div>"
      ],
      "text/plain": [
       "   Pregnancies  Glucose  BloodPressure  SkinThickness  Insulin   BMI  \\\n",
       "0            6      148             72             35        0  33.6   \n",
       "1            1       85             66             29        0  26.6   \n",
       "2            8      183             64              0        0  23.3   \n",
       "3            1       89             66             23       94  28.1   \n",
       "4            0      137             40             35      168  43.1   \n",
       "\n",
       "   DiabetesPedigreeFunction  Age  Outcome  \n",
       "0                     0.627   50        1  \n",
       "1                     0.351   31        0  \n",
       "2                     0.672   32        1  \n",
       "3                     0.167   21        0  \n",
       "4                     2.288   33        1  "
      ]
     },
     "execution_count": 1,
     "metadata": {},
     "output_type": "execute_result"
    }
   ],
   "source": [
    "import pandas as pd\n",
    "\n",
    "data = pd.read_csv('diabetes.csv')\n",
    "data.head()"
   ]
  },
  {
   "cell_type": "code",
   "execution_count": 2,
   "id": "84fd1b2b",
   "metadata": {},
   "outputs": [
    {
     "data": {
      "text/plain": [
       "(768, 9)"
      ]
     },
     "execution_count": 2,
     "metadata": {},
     "output_type": "execute_result"
    }
   ],
   "source": [
    "data.shape"
   ]
  },
  {
   "cell_type": "code",
   "execution_count": 3,
   "id": "1c893305",
   "metadata": {},
   "outputs": [
    {
     "data": {
      "text/plain": [
       "Index(['Pregnancies', 'Glucose', 'BloodPressure', 'SkinThickness', 'Insulin',\n",
       "       'BMI', 'DiabetesPedigreeFunction', 'Age', 'Outcome'],\n",
       "      dtype='object')"
      ]
     },
     "execution_count": 3,
     "metadata": {},
     "output_type": "execute_result"
    }
   ],
   "source": [
    "data.columns"
   ]
  },
  {
   "cell_type": "code",
   "execution_count": 4,
   "id": "59aa8a69",
   "metadata": {},
   "outputs": [
    {
     "data": {
      "text/plain": [
       "Pregnancies                   int64\n",
       "Glucose                       int64\n",
       "BloodPressure                 int64\n",
       "SkinThickness                 int64\n",
       "Insulin                       int64\n",
       "BMI                         float64\n",
       "DiabetesPedigreeFunction    float64\n",
       "Age                           int64\n",
       "Outcome                       int64\n",
       "dtype: object"
      ]
     },
     "execution_count": 4,
     "metadata": {},
     "output_type": "execute_result"
    }
   ],
   "source": [
    "data.dtypes"
   ]
  },
  {
   "cell_type": "code",
   "execution_count": 5,
   "id": "148a7eb6",
   "metadata": {},
   "outputs": [
    {
     "data": {
      "text/plain": [
       "<bound method DataFrame.info of      Pregnancies  Glucose  BloodPressure  SkinThickness  Insulin   BMI  \\\n",
       "0              6      148             72             35        0  33.6   \n",
       "1              1       85             66             29        0  26.6   \n",
       "2              8      183             64              0        0  23.3   \n",
       "3              1       89             66             23       94  28.1   \n",
       "4              0      137             40             35      168  43.1   \n",
       "..           ...      ...            ...            ...      ...   ...   \n",
       "763           10      101             76             48      180  32.9   \n",
       "764            2      122             70             27        0  36.8   \n",
       "765            5      121             72             23      112  26.2   \n",
       "766            1      126             60              0        0  30.1   \n",
       "767            1       93             70             31        0  30.4   \n",
       "\n",
       "     DiabetesPedigreeFunction  Age  Outcome  \n",
       "0                       0.627   50        1  \n",
       "1                       0.351   31        0  \n",
       "2                       0.672   32        1  \n",
       "3                       0.167   21        0  \n",
       "4                       2.288   33        1  \n",
       "..                        ...  ...      ...  \n",
       "763                     0.171   63        0  \n",
       "764                     0.340   27        0  \n",
       "765                     0.245   30        0  \n",
       "766                     0.349   47        1  \n",
       "767                     0.315   23        0  \n",
       "\n",
       "[768 rows x 9 columns]>"
      ]
     },
     "execution_count": 5,
     "metadata": {},
     "output_type": "execute_result"
    }
   ],
   "source": [
    "data.info"
   ]
  },
  {
   "cell_type": "code",
   "execution_count": 6,
   "id": "0de6ca2c",
   "metadata": {},
   "outputs": [
    {
     "data": {
      "text/plain": [
       "Pregnancies  Glucose  BloodPressure  SkinThickness  Insulin  BMI   DiabetesPedigreeFunction  Age  Outcome\n",
       "0            57       60             0              0        21.7  0.735                     67   0          1\n",
       "             67       76             0              0        45.3  0.194                     46   0          1\n",
       "5            103      108            37             0        39.2  0.305                     65   0          1\n",
       "             104      74             0              0        28.8  0.153                     48   0          1\n",
       "             105      72             29             325      36.9  0.159                     28   0          1\n",
       "                                                                                                            ..\n",
       "2            84       50             23             76       30.4  0.968                     21   0          1\n",
       "             85       65             0              0        39.6  0.930                     27   0          1\n",
       "             87       0              23             0        28.9  0.773                     25   0          1\n",
       "                      58             16             52       32.7  0.166                     25   0          1\n",
       "17           163      72             41             114      40.9  0.817                     47   1          1\n",
       "Length: 768, dtype: int64"
      ]
     },
     "execution_count": 6,
     "metadata": {},
     "output_type": "execute_result"
    }
   ],
   "source": [
    "data.value_counts()"
   ]
  },
  {
   "cell_type": "markdown",
   "id": "259213d8",
   "metadata": {},
   "source": [
    "### Step2. [Identify relationships between feature] \n",
    "- Create a Heatmap for the dataset and understand the data "
   ]
  },
  {
   "cell_type": "code",
   "execution_count": 7,
   "id": "b25f756e",
   "metadata": {},
   "outputs": [
    {
     "data": {
      "text/plain": [
       "<AxesSubplot:>"
      ]
     },
     "execution_count": 7,
     "metadata": {},
     "output_type": "execute_result"
    },
    {
     "data": {
      "image/png": "[encoded data removed]",
      "text/plain": [
       "<Figure size 720x720 with 2 Axes>"
      ]
     },
     "metadata": {
      "needs_background": "light"
     },
     "output_type": "display_data"
    }
   ],
   "source": [
    "import seaborn as sns\n",
    "import matplotlib.pyplot as plt\n",
    "plt.figure(figsize=(10,10))\n",
    "sns.heatmap(data.head(20), cmap='Reds',annot=True, linewidth=.5)"
   ]
  },
  {
   "cell_type": "markdown",
   "id": "ada581fc",
   "metadata": {},
   "source": [
    "### Step3. [Prediction using one feature]\n",
    "- Will older people become diabetic? \n",
    "- Create LogisticRegression model, train with “Age” as X and “Outcome” feature as y. \n",
    "- Print model parameter values: coef_ and intercept_ \n",
    "- Query: A person is 60 years old. Will he be diabetic? \n",
    "- Use model parameters and find function value. Your code will be as below. \n",
    "     * lrf = logreg.coef_ * 60 + logreg.intercept_ \n",
    "     * from scipy.special import expit \n",
    "     * expit(lrf) \n",
    "- If your output > 0.5, YES he will become diabetic. Otherwise, NO, he will not be diabetic."
   ]
  },
  {
   "cell_type": "code",
   "execution_count": 8,
   "id": "e76934f7",
   "metadata": {},
   "outputs": [],
   "source": [
    "X = data[['Age']]"
   ]
  },
  {
   "cell_type": "code",
   "execution_count": 9,
   "id": "8d1f0405",
   "metadata": {},
   "outputs": [],
   "source": [
    "y = data['Outcome']"
   ]
  },
  {
   "cell_type": "code",
   "execution_count": 10,
   "id": "224523df",
   "metadata": {},
   "outputs": [
    {
     "data": {
      "text/plain": [
       "LogisticRegression()"
      ]
     },
     "execution_count": 10,
     "metadata": {},
     "output_type": "execute_result"
    }
   ],
   "source": [
    "from sklearn.linear_model import LogisticRegression\n",
    "\n",
    "lrm1 = LogisticRegression()\n",
    "lrm1.fit(X, y)"
   ]
  },
  {
   "cell_type": "code",
   "execution_count": 11,
   "id": "af24f660",
   "metadata": {},
   "outputs": [
    {
     "data": {
      "text/plain": [
       "array([[0.04202466]])"
      ]
     },
     "execution_count": 11,
     "metadata": {},
     "output_type": "execute_result"
    }
   ],
   "source": [
    "lrm1.coef_"
   ]
  },
  {
   "cell_type": "code",
   "execution_count": 12,
   "id": "cd4edb15",
   "metadata": {},
   "outputs": [
    {
     "data": {
      "text/plain": [
       "array([-2.04744865])"
      ]
     },
     "execution_count": 12,
     "metadata": {},
     "output_type": "execute_result"
    }
   ],
   "source": [
    "lrm1.intercept_"
   ]
  },
  {
   "cell_type": "code",
   "execution_count": 13,
   "id": "db0b0db4",
   "metadata": {},
   "outputs": [
    {
     "data": {
      "text/plain": [
       "array([1], dtype=int64)"
      ]
     },
     "execution_count": 13,
     "metadata": {},
     "output_type": "execute_result"
    }
   ],
   "source": [
    "year_old = [[60]]\n",
    "lrm1.predict(year_old)"
   ]
  },
  {
   "cell_type": "markdown",
   "id": "48490f7c",
   "metadata": {},
   "source": [
    "- Use model parameters and find function value"
   ]
  },
  {
   "cell_type": "code",
   "execution_count": 14,
   "id": "11115e70",
   "metadata": {},
   "outputs": [
    {
     "name": "stdout",
     "output_type": "stream",
     "text": [
      "YES, he will become diabetic\n"
     ]
    }
   ],
   "source": [
    "lrf = lrm1.coef_ * 60 + lrm1.intercept_\n",
    "from scipy.special import expit\n",
    "if expit(lrf) > 0.5:\n",
    "    print('YES, he will become diabetic')\n",
    "else:\n",
    "    print(\"NO, he will not be diabetic\")"
   ]
  },
  {
   "cell_type": "markdown",
   "id": "ede858b6",
   "metadata": {},
   "source": [
    "### Step4. [Prediction using many features] "
   ]
  },
  {
   "cell_type": "markdown",
   "id": "20424012",
   "metadata": {},
   "source": [
    "- Will Glucose, BMI and Age values make someone diabetic?\n",
    "- Select the three features 'Glucose', 'BMI' and 'Age' from your dataset, call it as X\n",
    "- Create a new LogisticRegression model, train with X and ‘Outcome’ as y. \n",
    "- Query: For a person, glucose=150, bmi=30, age=40. Will he be diabetic? \n",
    "   - Find the value of expit() as before. Output will be: 0.5208271643241003"
   ]
  },
  {
   "cell_type": "code",
   "execution_count": 15,
   "id": "3e310be3",
   "metadata": {},
   "outputs": [],
   "source": [
    "X1 = data[['Age', 'BMI', 'Glucose']]"
   ]
  },
  {
   "cell_type": "code",
   "execution_count": 16,
   "id": "d09cd75f",
   "metadata": {},
   "outputs": [],
   "source": [
    "lrm2 = LogisticRegression()"
   ]
  },
  {
   "cell_type": "code",
   "execution_count": 17,
   "id": "26d949b0",
   "metadata": {},
   "outputs": [
    {
     "data": {
      "text/plain": [
       "LogisticRegression()"
      ]
     },
     "execution_count": 17,
     "metadata": {},
     "output_type": "execute_result"
    }
   ],
   "source": [
    "lrm2.fit(X1, y)"
   ]
  },
  {
   "cell_type": "code",
   "execution_count": 18,
   "id": "72423bdb",
   "metadata": {},
   "outputs": [
    {
     "data": {
      "text/plain": [
       "array([0], dtype=int64)"
      ]
     },
     "execution_count": 18,
     "metadata": {},
     "output_type": "execute_result"
    }
   ],
   "source": [
    "lrm2.predict([[150, 30, 40]])"
   ]
  },
  {
   "cell_type": "code",
   "execution_count": 19,
   "id": "a824b331",
   "metadata": {},
   "outputs": [
    {
     "data": {
      "text/plain": [
       "array([[0.53053646, 0.46946354]])"
      ]
     },
     "execution_count": 19,
     "metadata": {},
     "output_type": "execute_result"
    }
   ],
   "source": [
    "lrm2.predict_proba([[150, 30, 40]])"
   ]
  },
  {
   "cell_type": "markdown",
   "id": "1cfad3b4",
   "metadata": {},
   "source": [
    "### Step5. [Build LoR model with all features] \n",
    "- Create LoR model, train it with X_train and y_train values \n",
    "- Now, compute and print its AUC value \n",
    "- Can we get this AUC value with limited set of good features?. Yes, we are going to find with 'Forward Selection Procedure'."
   ]
  },
  {
   "cell_type": "code",
   "execution_count": 20,
   "id": "4e7e1a61",
   "metadata": {},
   "outputs": [],
   "source": [
    "import warnings\n",
    "\n",
    "warnings.filterwarnings('ignore')"
   ]
  },
  {
   "cell_type": "code",
   "execution_count": 21,
   "id": "7110ec6d",
   "metadata": {},
   "outputs": [
    {
     "data": {
      "text/plain": [
       "LogisticRegression()"
      ]
     },
     "execution_count": 21,
     "metadata": {},
     "output_type": "execute_result"
    }
   ],
   "source": [
    "X3 = data.drop('Outcome', axis=1)\n",
    "lrm3 = LogisticRegression()\n",
    "\n",
    "from sklearn.model_selection import train_test_split\n",
    "\n",
    "X_train, X_test, y_train, y_test = train_test_split(X3,y,train_size=0.8,test_size=0.2)\n",
    "\n",
    "lrm3.fit(X_train, y_train)"
   ]
  },
  {
   "cell_type": "code",
   "execution_count": 22,
   "id": "863bd43e",
   "metadata": {},
   "outputs": [],
   "source": [
    "y_pred = lrm3.predict(X_test)"
   ]
  },
  {
   "cell_type": "code",
   "execution_count": 23,
   "id": "51354d82",
   "metadata": {},
   "outputs": [
    {
     "name": "stdout",
     "output_type": "stream",
     "text": [
      "LoR AUC  0.6607407407407406\n"
     ]
    }
   ],
   "source": [
    "from sklearn.metrics import roc_auc_score\n",
    "\n",
    "print(\"LoR AUC \", roc_auc_score(y_test, y_pred))"
   ]
  },
  {
   "cell_type": "markdown",
   "id": "35966eb9",
   "metadata": {},
   "source": [
    "### Step6. [Forward Selection Procedure] Now, you have to find and select a good set of features with the best AUC score. The algorithm is \n",
    "#### Forward stepwise variable selection procedure \n",
    "1. Empty set \n",
    "2. Find best variable v \n",
    "3. Find best variable v in combination with v \n",
    "4. Find best variable v in combination with v , v \n",
    "5. ...\n",
    "6. (Until all variables are added or until predefined number of variables is added) \n"
   ]
  },
  {
   "cell_type": "markdown",
   "id": "bd4ec47d",
   "metadata": {},
   "source": [
    "#### Implementation Steps of the forward stepwise procedure \n",
    "1. Define a function get_auc() that calculates AUC given a certain set of variables \n",
    "2. Define a function best_next() that returns next best variable in combination with current variables \n",
    "3. Loop until desired number of variables"
   ]
  },
  {
   "cell_type": "code",
   "execution_count": 24,
   "id": "a153c3e7",
   "metadata": {},
   "outputs": [
    {
     "data": {
      "text/plain": [
       "pandas.core.indexes.base.Index"
      ]
     },
     "execution_count": 24,
     "metadata": {},
     "output_type": "execute_result"
    }
   ],
   "source": [
    "type(data.columns)"
   ]
  },
  {
   "cell_type": "code",
   "execution_count": 25,
   "id": "54653301",
   "metadata": {},
   "outputs": [
    {
     "data": {
      "text/plain": [
       "0.8109328358208956"
      ]
     },
     "execution_count": 25,
     "metadata": {},
     "output_type": "execute_result"
    }
   ],
   "source": [
    "def get_auc(var,tar,df):\n",
    "    fX = df[var]\n",
    "    fy = df[tar]\n",
    "    logreg = LogisticRegression()\n",
    "    logreg.fit(fX,fy)\n",
    "    pred=logreg.predict_proba(fX)[:,1]\n",
    "    auc_val = roc_auc_score(y,pred)\n",
    "    return auc_val\n",
    "get_auc([\"BMI\",\"Glucose\"],[\"Outcome\"],data)"
   ]
  },
  {
   "cell_type": "code",
   "execution_count": 26,
   "id": "3cedb7a3",
   "metadata": {},
   "outputs": [
    {
     "data": {
      "text/plain": [
       "0.6444962686567164"
      ]
     },
     "execution_count": 26,
     "metadata": {},
     "output_type": "execute_result"
    }
   ],
   "source": [
    "get_auc(['Pregnancies', 'BloodPressure', 'SkinThickness'],[\"Outcome\"],data)"
   ]
  },
  {
   "cell_type": "code",
   "execution_count": 27,
   "id": "186cf4ea",
   "metadata": {},
   "outputs": [],
   "source": [
    "def next_best(current,cand,tar,df):\n",
    "    best_auc = -1\n",
    "    best_var = None\n",
    "    for i in cand:\n",
    "        auc_v = get_auc(current+[i],tar,df)\n",
    "        if auc_v>=best_auc:\n",
    "            best_auc = auc_v\n",
    "            best_var = i\n",
    "    return best_var"
   ]
  },
  {
   "cell_type": "code",
   "execution_count": 28,
   "id": "df0f103a",
   "metadata": {},
   "outputs": [
    {
     "name": "stdout",
     "output_type": "stream",
     "text": [
      "SkinThickness\n"
     ]
    }
   ],
   "source": [
    "tar = [\"Outcome\"]\n",
    "current = ['Insulin','BMI', 'DiabetesPedigreeFunction', 'Age']\n",
    "cand = ['Pregnancies', 'BloodPressure', 'SkinThickness'] \n",
    "next_var = next_best(current,cand,tar,data)\n",
    "print(next_var)"
   ]
  },
  {
   "cell_type": "code",
   "execution_count": 29,
   "id": "382a0852",
   "metadata": {},
   "outputs": [
    {
     "name": "stdout",
     "output_type": "stream",
     "text": [
      "Variable added in step 1 is Glucose.\n",
      "Variable added in step 2 is BMI.\n",
      "Variable added in step 3 is Pregnancies.\n",
      "Variable added in step 4 is DiabetesPedigreeFunction.\n",
      "Variable added in step 5 is BloodPressure.\n",
      "['Glucose', 'BMI', 'Pregnancies', 'DiabetesPedigreeFunction', 'BloodPressure']\n"
     ]
    }
   ],
   "source": [
    "tar = [\"Outcome\"]\n",
    "current = []\n",
    "cand = ['Pregnancies', 'Glucose', 'BloodPressure', 'SkinThickness', 'Insulin','BMI', 'DiabetesPedigreeFunction', 'Age']\n",
    "max_num = 5 \n",
    "num_it = min(max_num,len(cand))\n",
    "for i in range(0,num_it):\n",
    "    next_var = next_best(current,cand,tar,data)\n",
    "    current = current + [next_var]\n",
    "    cand.remove(next_var)\n",
    "    print(\"Variable added in step \" + str(i+1)  + \" is \" + next_var + \".\")\n",
    "print(current)"
   ]
  },
  {
   "cell_type": "markdown",
   "id": "d6694513",
   "metadata": {},
   "source": [
    "### Step7. [Plot Line graph of AUC values and select cut-off] \n",
    "- Split your dataset equally for training and testing \n",
    "- Plot AUC values for each variable. The graph will appear as below."
   ]
  },
  {
   "cell_type": "code",
   "execution_count": 30,
   "id": "230d7662",
   "metadata": {},
   "outputs": [],
   "source": [
    "X_train,X_test,y_train,y_test = train_test_split(X3,y,test_size = 0.5,stratify =y)"
   ]
  },
  {
   "cell_type": "code",
   "execution_count": 31,
   "id": "cebe704c",
   "metadata": {},
   "outputs": [],
   "source": [
    "pred2 = lrm3.predict_proba(X_test)"
   ]
  },
  {
   "cell_type": "code",
   "execution_count": 32,
   "id": "e25d9c9f",
   "metadata": {},
   "outputs": [],
   "source": [
    "train = pd.concat([X_train,y_train], axis=1)\n",
    "test = pd.concat([X_test,y_test], axis=1)"
   ]
  },
  {
   "cell_type": "code",
   "execution_count": 33,
   "id": "3b268ead",
   "metadata": {},
   "outputs": [],
   "source": [
    "def auc_train_test(variables,target,train,test):\n",
    "    X_train = train[variables]\n",
    "    X_test = test[variables]\n",
    "    Y_train = train[target]\n",
    "    Y_test = test[target]\n",
    "    logreg = LogisticRegression()\n",
    "    \n",
    "    # Fit the model on train data\n",
    "    logreg.fit(X_train, Y_train)\n",
    "    \n",
    "    # Calculate the predictions both on train and test data\n",
    "    predictions_train = logreg.predict_proba(X_train)[:,1]\n",
    "    predictions_test = logreg.predict_proba(X_test)[:,1]\n",
    "    \n",
    "    # Calculate the AUC both on train and test data\n",
    "    auc_train = roc_auc_score(Y_train, predictions_train)\n",
    "    auc_test = roc_auc_score(Y_test,predictions_test)\n",
    "    return(auc_train, auc_test)"
   ]
  },
  {
   "cell_type": "code",
   "execution_count": 34,
   "id": "8260961d",
   "metadata": {},
   "outputs": [],
   "source": [
    "auc_values_train = []\n",
    "auc_values_test = []\n",
    "variables_evaluate = []\n",
    "\n",
    "# Iterate over the variables in variables\n",
    "for v in X3.columns:\n",
    "  \n",
    "    # Add the variable\n",
    "    variables_evaluate.append(v)\n",
    "    \n",
    "    # Calculate the train and test AUC of this set of variables\n",
    "    auc_train, auc_test = auc_train_test(variables_evaluate,[\"Outcome\"],train,test)\n",
    "    \n",
    "    # Append the values to the lists\n",
    "    auc_values_train.append(auc_train)\n",
    "    auc_values_test.append(auc_test)"
   ]
  },
  {
   "cell_type": "code",
   "execution_count": 35,
   "id": "dfa676de",
   "metadata": {},
   "outputs": [
    {
     "data": {
      "image/png": "[encoded data removed]",
      "text/plain": [
       "<Figure size 432x288 with 1 Axes>"
      ]
     },
     "metadata": {
      "needs_background": "light"
     },
     "output_type": "display_data"
    }
   ],
   "source": [
    "# Make plot of the AUC values\n",
    "import matplotlib.pyplot as plt\n",
    "import numpy as np\n",
    "\n",
    "x = np.array(range(0,len(auc_values_train)))\n",
    "my_train = np.array(auc_values_train)\n",
    "my_test = np.array(auc_values_test)\n",
    "plt.xticks(x,X3.columns,rotation=60)\n",
    "plt.plot(x,my_train)\n",
    "plt.plot(x,my_test)\n",
    "plt.ylim((0.6,1.0))\n",
    "plt.show()"
   ]
  },
  {
   "cell_type": "markdown",
   "id": "390aac5c",
   "metadata": {},
   "source": [
    "##### The cut-off line can be drawn at the 4th variable. It gives the best AUC score around 0.81. Therefore, it will be sufficient to use only the first 4 features for training and testing. Otherwise, AUC is going down gradually. "
   ]
  },
  {
   "cell_type": "markdown",
   "id": "9c5ac2d5",
   "metadata": {},
   "source": [
    "### Step8. [Draw Cumulative Gain Chart and Lift Chart] "
   ]
  },
  {
   "cell_type": "code",
   "execution_count": 36,
   "id": "6ab8a6aa",
   "metadata": {},
   "outputs": [
    {
     "data": {
      "image/png": "[encoded data removed]",
      "text/plain": [
       "<Figure size 432x288 with 1 Axes>"
      ]
     },
     "metadata": {
      "needs_background": "light"
     },
     "output_type": "display_data"
    },
    {
     "data": {
      "text/plain": [
       "<Figure size 504x504 with 0 Axes>"
      ]
     },
     "metadata": {},
     "output_type": "display_data"
    },
    {
     "data": {
      "image/png": "[encoded data removed]",
      "text/plain": [
       "<Figure size 432x288 with 1 Axes>"
      ]
     },
     "metadata": {
      "needs_background": "light"
     },
     "output_type": "display_data"
    }
   ],
   "source": [
    "import scikitplot as skplt\n",
    "skplt.metrics.plot_cumulative_gain(y_test,pred2)\n",
    "plt.show()\n",
    "\n",
    "plt.figure(figsize=(7,7))\n",
    "skplt.metrics.plot_lift_curve(y_test,pred2)\n",
    "plt.show()"
   ]
  }
 ],
 "metadata": {
  "kernelspec": {
   "display_name": "Python 3",
   "language": "python",
   "name": "python3"
  },
  "language_info": {
   "codemirror_mode": {
    "name": "ipython",
    "version": 3
   },
   "file_extension": ".py",
   "mimetype": "text/x-python",
   "name": "python",
   "nbconvert_exporter": "python",
   "pygments_lexer": "ipython3",
   "version": "3.8.8"
  }
 },
 "nbformat": 4,
 "nbformat_minor": 5
}
